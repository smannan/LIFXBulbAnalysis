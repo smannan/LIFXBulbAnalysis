{
  "nbformat": 4,
  "nbformat_minor": 0,
  "metadata": {
    "colab": {
      "name": "LSTMEnergyModel.ipynb",
      "provenance": [],
      "collapsed_sections": [],
      "authorship_tag": "ABX9TyNP52BaS8SV8+bfGTHo2lPf",
      "include_colab_link": true
    },
    "kernelspec": {
      "name": "python3",
      "display_name": "Python 3"
    },
    "language_info": {
      "name": "python"
    }
  },
  "cells": [
    {
      "cell_type": "markdown",
      "metadata": {
        "id": "view-in-github",
        "colab_type": "text"
      },
      "source": [
        "<a href=\"https://colab.research.google.com/github/smannan/LIFXBulbAnalysis/blob/main/LSTMEnergyModel.ipynb\" target=\"_parent\"><img src=\"https://colab.research.google.com/assets/colab-badge.svg\" alt=\"Open In Colab\"/></a>"
      ]
    },
    {
      "cell_type": "code",
      "metadata": {
        "colab": {
          "base_uri": "https://localhost:8080/"
        },
        "id": "KW68Fjzne8Co",
        "outputId": "f6b8d0d7-6ff0-41e2-8d8c-aed26ebf781b"
      },
      "source": [
        "from google.colab import drive\n",
        "drive.mount('/content/drive')"
      ],
      "execution_count": 61,
      "outputs": [
        {
          "output_type": "stream",
          "name": "stdout",
          "text": [
            "Drive already mounted at /content/drive; to attempt to forcibly remount, call drive.mount(\"/content/drive\", force_remount=True).\n"
          ]
        }
      ]
    },
    {
      "cell_type": "code",
      "metadata": {
        "id": "m0gDC1vFfbt-"
      },
      "source": [
        "import numpy as np\n",
        "import pandas as pd"
      ],
      "execution_count": 62,
      "outputs": []
    },
    {
      "cell_type": "code",
      "metadata": {
        "id": "apsD4kbxI2xU"
      },
      "source": [
        "from keras.models import Sequential\n",
        "from keras.layers import LSTM\n",
        "from keras.layers import Dense"
      ],
      "execution_count": 63,
      "outputs": []
    },
    {
      "cell_type": "code",
      "metadata": {
        "id": "0I_btGgXKnTa"
      },
      "source": [
        "from sklearn.metrics import mean_squared_error\n",
        "from math import sqrt\n",
        "import matplotlib.pyplot as plt"
      ],
      "execution_count": 64,
      "outputs": []
    },
    {
      "cell_type": "code",
      "metadata": {
        "id": "7WL_KCyBjM0I"
      },
      "source": [
        "n_features = 1\n",
        "n_steps = 6"
      ],
      "execution_count": 107,
      "outputs": []
    },
    {
      "cell_type": "code",
      "metadata": {
        "id": "5S86OIqyfREi"
      },
      "source": [
        "filename = '/content/drive/Shared drives/CMPE295B/JoinedPGEBulbData/2021-09-07_21_2021-10-19_18_hourly.csv'\n",
        "bulb_data = pd.read_csv(filename, infer_datetime_format = True).drop(['Unnamed: 0'], axis=1, inplace=False)\n",
        "bulb_data['timestamp'] = pd.to_datetime(bulb_data['timestamp'])"
      ],
      "execution_count": 108,
      "outputs": []
    },
    {
      "cell_type": "code",
      "metadata": {
        "colab": {
          "base_uri": "https://localhost:8080/",
          "height": 204
        },
        "id": "19J4SFi-faDp",
        "outputId": "092932ee-7a1c-458b-b0b0-6f6cf459391f"
      },
      "source": [
        "bulb_data.head()"
      ],
      "execution_count": 82,
      "outputs": [
        {
          "output_type": "execute_result",
          "data": {
            "text/html": [
              "<div>\n",
              "<style scoped>\n",
              "    .dataframe tbody tr th:only-of-type {\n",
              "        vertical-align: middle;\n",
              "    }\n",
              "\n",
              "    .dataframe tbody tr th {\n",
              "        vertical-align: top;\n",
              "    }\n",
              "\n",
              "    .dataframe thead th {\n",
              "        text-align: right;\n",
              "    }\n",
              "</style>\n",
              "<table border=\"1\" class=\"dataframe\">\n",
              "  <thead>\n",
              "    <tr style=\"text-align: right;\">\n",
              "      <th></th>\n",
              "      <th>timestamp</th>\n",
              "      <th>brightness</th>\n",
              "      <th>kelvin</th>\n",
              "      <th>kWH</th>\n",
              "      <th>cost</th>\n",
              "      <th>usage</th>\n",
              "      <th>percent_usage_by_bulb</th>\n",
              "      <th>cost_per_bulb</th>\n",
              "    </tr>\n",
              "  </thead>\n",
              "  <tbody>\n",
              "    <tr>\n",
              "      <th>0</th>\n",
              "      <td>2021-09-07 21:00:00</td>\n",
              "      <td>0.961538</td>\n",
              "      <td>2596.153846</td>\n",
              "      <td>0.0085</td>\n",
              "      <td>0.07</td>\n",
              "      <td>0.21</td>\n",
              "      <td>4.047619</td>\n",
              "      <td>0.002833</td>\n",
              "    </tr>\n",
              "    <tr>\n",
              "      <th>1</th>\n",
              "      <td>2021-09-07 22:00:00</td>\n",
              "      <td>0.700000</td>\n",
              "      <td>1890.000000</td>\n",
              "      <td>0.0085</td>\n",
              "      <td>0.35</td>\n",
              "      <td>1.29</td>\n",
              "      <td>0.658915</td>\n",
              "      <td>0.002306</td>\n",
              "    </tr>\n",
              "    <tr>\n",
              "      <th>2</th>\n",
              "      <td>2021-09-07 23:00:00</td>\n",
              "      <td>0.000000</td>\n",
              "      <td>0.000000</td>\n",
              "      <td>0.0000</td>\n",
              "      <td>0.35</td>\n",
              "      <td>1.31</td>\n",
              "      <td>0.000000</td>\n",
              "      <td>0.000000</td>\n",
              "    </tr>\n",
              "    <tr>\n",
              "      <th>3</th>\n",
              "      <td>2021-09-08 00:00:00</td>\n",
              "      <td>0.000000</td>\n",
              "      <td>0.000000</td>\n",
              "      <td>0.0000</td>\n",
              "      <td>0.14</td>\n",
              "      <td>0.54</td>\n",
              "      <td>0.000000</td>\n",
              "      <td>0.000000</td>\n",
              "    </tr>\n",
              "    <tr>\n",
              "      <th>4</th>\n",
              "      <td>2021-09-08 01:00:00</td>\n",
              "      <td>0.000000</td>\n",
              "      <td>0.000000</td>\n",
              "      <td>0.0000</td>\n",
              "      <td>0.08</td>\n",
              "      <td>0.35</td>\n",
              "      <td>0.000000</td>\n",
              "      <td>0.000000</td>\n",
              "    </tr>\n",
              "  </tbody>\n",
              "</table>\n",
              "</div>"
            ],
            "text/plain": [
              "            timestamp  brightness  ...  percent_usage_by_bulb  cost_per_bulb\n",
              "0 2021-09-07 21:00:00    0.961538  ...               4.047619       0.002833\n",
              "1 2021-09-07 22:00:00    0.700000  ...               0.658915       0.002306\n",
              "2 2021-09-07 23:00:00    0.000000  ...               0.000000       0.000000\n",
              "3 2021-09-08 00:00:00    0.000000  ...               0.000000       0.000000\n",
              "4 2021-09-08 01:00:00    0.000000  ...               0.000000       0.000000\n",
              "\n",
              "[5 rows x 8 columns]"
            ]
          },
          "metadata": {},
          "execution_count": 82
        }
      ]
    },
    {
      "cell_type": "code",
      "metadata": {
        "colab": {
          "base_uri": "https://localhost:8080/",
          "height": 282
        },
        "id": "bLQmwFlZk7q1",
        "outputId": "082a6b80-2503-4555-876c-24c5014b0243"
      },
      "source": [
        "plt.plot(bulb_data['cost_per_bulb'])"
      ],
      "execution_count": 83,
      "outputs": [
        {
          "output_type": "execute_result",
          "data": {
            "text/plain": [
              "[<matplotlib.lines.Line2D at 0x7fe7a2eb5bd0>]"
            ]
          },
          "metadata": {},
          "execution_count": 83
        },
        {
          "output_type": "display_data",
          "data": {
            "image/png": "[encoded data removed]",
            "text/plain": [
              "<Figure size 432x288 with 1 Axes>"
            ]
          },
          "metadata": {
            "needs_background": "light"
          }
        }
      ]
    },
    {
      "cell_type": "code",
      "metadata": {
        "id": "Ah2qTtntJY6l"
      },
      "source": [
        "def split_train_test(bulb_data, split):\n",
        "  df = bulb_data[['cost_per_bulb']]\n",
        "  values = df.values\n",
        "  size = int(len(values) * split)\n",
        "  train = values[:size]\n",
        "  test = values[size:]\n",
        "  return (train, test)"
      ],
      "execution_count": 84,
      "outputs": []
    },
    {
      "cell_type": "code",
      "metadata": {
        "id": "EJMf89DOfeGv"
      },
      "source": [
        "# split a univariate sequence into samples\n",
        "def split_sequence(sequence, n_steps):\n",
        "\tX, y = list(), list()\n",
        "\tfor i in range(len(sequence)):\n",
        "\t\t# find the end of this pattern\n",
        "\t\tend_ix = i + n_steps\n",
        "\t\t# check if we are beyond the sequence\n",
        "\t\tif end_ix > len(sequence)-1:\n",
        "\t\t\tbreak\n",
        "\t\t# gather input and output parts of the pattern\n",
        "\t\tseq_x, seq_y = sequence[i:end_ix], sequence[end_ix]\n",
        "\t\tX.append(seq_x)\n",
        "\t\ty.append(seq_y)\n",
        "\n",
        "\treturn np.array(X), np.array(y)"
      ],
      "execution_count": 85,
      "outputs": []
    },
    {
      "cell_type": "code",
      "metadata": {
        "id": "m9GB6gMSiRRe",
        "colab": {
          "base_uri": "https://localhost:8080/"
        },
        "outputId": "e799d397-a8c3-4720-806a-7aa964bdf6f1"
      },
      "source": [
        "n_steps = 4\n",
        "train, test = split_train_test(bulb_data[['timestamp', 'cost_per_bulb']], 0.9)\n",
        "print (len(train), len(test))\n",
        "X_train, y_train = split_sequence(train, n_steps)"
      ],
      "execution_count": 142,
      "outputs": [
        {
          "output_type": "stream",
          "name": "stdout",
          "text": [
            "905 101\n"
          ]
        }
      ]
    },
    {
      "cell_type": "code",
      "metadata": {
        "id": "-ZhzsteDiZ3y"
      },
      "source": [
        "# reshape from [samples, timesteps] into [samples, timesteps, features]\n",
        "X_train = X_train.reshape((X_train.shape[0], X_train.shape[1], n_features))"
      ],
      "execution_count": 143,
      "outputs": []
    },
    {
      "cell_type": "code",
      "metadata": {
        "id": "GLlGE4nWin81"
      },
      "source": [
        "model = Sequential()\n",
        "model.add(LSTM(50, activation='relu', input_shape=(n_steps, n_features)))\n",
        "model.add(Dense(1))\n",
        "model.compile(optimizer='adam', loss='mse')"
      ],
      "execution_count": 144,
      "outputs": []
    },
    {
      "cell_type": "code",
      "metadata": {
        "colab": {
          "base_uri": "https://localhost:8080/"
        },
        "id": "L_lmeSuGj243",
        "outputId": "a03228ee-1d3b-4aeb-c7cd-e76f694829c4"
      },
      "source": [
        "model.fit(X_train, y_train, epochs=200, verbose=0)"
      ],
      "execution_count": 145,
      "outputs": [
        {
          "output_type": "execute_result",
          "data": {
            "text/plain": [
              "<keras.callbacks.History at 0x7fe7995b23d0>"
            ]
          },
          "metadata": {},
          "execution_count": 145
        }
      ]
    },
    {
      "cell_type": "code",
      "metadata": {
        "id": "2_ILwKIHI93O"
      },
      "source": [
        "X_test, y_test = split_sequence(test, n_steps)\n",
        "X_test = X_test.reshape((X_test.shape[0], X_test.shape[1], n_features))"
      ],
      "execution_count": 146,
      "outputs": []
    },
    {
      "cell_type": "code",
      "metadata": {
        "id": "hg2GPxizKMtF"
      },
      "source": [
        "yhat = model.predict(X_test, verbose=0)"
      ],
      "execution_count": 147,
      "outputs": []
    },
    {
      "cell_type": "code",
      "metadata": {
        "colab": {
          "base_uri": "https://localhost:8080/"
        },
        "id": "AUX5_y7SKXuN",
        "outputId": "e72d1764-ff69-43cd-cf7c-cb313abb83a5"
      },
      "source": [
        "rmse = sqrt(mean_squared_error(y_test, yhat))\n",
        "print (rmse)"
      ],
      "execution_count": 148,
      "outputs": [
        {
          "output_type": "stream",
          "name": "stdout",
          "text": [
            "0.0006400255211973509\n"
          ]
        }
      ]
    },
    {
      "cell_type": "code",
      "metadata": {
        "id": "jxi9J5-wKxfq"
      },
      "source": [
        "def plot_preds(test, predictions):\n",
        "  plt.title('Hourly lighting cost predictions')\n",
        "  plt.xlabel('Timestep')\n",
        "  plt.ylabel('Cost in Dollars')\n",
        "  plt.plot(test)\n",
        "  plt.plot(predictions, color='red')\n",
        "  plt.show()"
      ],
      "execution_count": 149,
      "outputs": []
    },
    {
      "cell_type": "code",
      "metadata": {
        "colab": {
          "base_uri": "https://localhost:8080/",
          "height": 295
        },
        "id": "HVEEx5eILCi5",
        "outputId": "4d479ed4-11eb-445e-b486-a55fe44fceb2"
      },
      "source": [
        "plot_preds(y_test, yhat)"
      ],
      "execution_count": 150,
      "outputs": [
        {
          "output_type": "display_data",
          "data": {
            "image/png": "[encoded data removed]",
            "text/plain": [
              "<Figure size 432x288 with 1 Axes>"
            ]
          },
          "metadata": {
            "needs_background": "light"
          }
        }
      ]
    },
    {
      "cell_type": "code",
      "metadata": {
        "id": "RPs7RUkYLEPu"
      },
      "source": [
        "filename = '/content/drive/Shared drives/CMPE295B/ProcessedPGEData/pge_data_from_influx_2020-10-10-20_30_2021-10-01-00_00.csv'\n",
        "pge_data = pd.read_csv(filename, infer_datetime_format = True).drop(['Unnamed: 0'], axis=1, inplace=False)\n",
        "pge_data['timestamp'] = pd.to_datetime(pge_data['timestamp'])"
      ],
      "execution_count": 106,
      "outputs": []
    },
    {
      "cell_type": "code",
      "metadata": {
        "id": "NiGyyhj9lVXx"
      },
      "source": [
        ""
      ],
      "execution_count": null,
      "outputs": []
    }
  ]
}