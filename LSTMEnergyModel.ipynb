{
  "nbformat": 4,
  "nbformat_minor": 0,
  "metadata": {
    "colab": {
      "name": "LSTMEnergyModel.ipynb",
      "provenance": [],
      "collapsed_sections": [],
      "authorship_tag": "ABX9TyNce+Lvp+4zzP7lTc8B71HD",
      "include_colab_link": true
    },
    "kernelspec": {
      "name": "python3",
      "display_name": "Python 3"
    },
    "language_info": {
      "name": "python"
    }
  },
  "cells": [
    {
      "cell_type": "markdown",
      "metadata": {
        "id": "view-in-github",
        "colab_type": "text"
      },
      "source": [
        "<a href=\"https://colab.research.google.com/github/smannan/LIFXBulbAnalysis/blob/main/LSTMEnergyModel.ipynb\" target=\"_parent\"><img src=\"https://colab.research.google.com/assets/colab-badge.svg\" alt=\"Open In Colab\"/></a>"
      ]
    },
    {
      "cell_type": "code",
      "metadata": {
        "colab": {
          "base_uri": "https://localhost:8080/"
        },
        "id": "KW68Fjzne8Co",
        "outputId": "2027ace2-bf97-4946-c762-3882b8498a26"
      },
      "source": [
        "from google.colab import drive\n",
        "drive.mount('/content/drive')"
      ],
      "execution_count": 31,
      "outputs": [
        {
          "output_type": "stream",
          "name": "stdout",
          "text": [
            "Drive already mounted at /content/drive; to attempt to forcibly remount, call drive.mount(\"/content/drive\", force_remount=True).\n"
          ]
        }
      ]
    },
    {
      "cell_type": "code",
      "metadata": {
        "id": "m0gDC1vFfbt-"
      },
      "source": [
        "import numpy as np\n",
        "import pandas as pd"
      ],
      "execution_count": 32,
      "outputs": []
    },
    {
      "cell_type": "code",
      "metadata": {
        "id": "apsD4kbxI2xU"
      },
      "source": [
        "from keras.models import Sequential\n",
        "from keras.layers import LSTM\n",
        "from keras.layers import Dense"
      ],
      "execution_count": 33,
      "outputs": []
    },
    {
      "cell_type": "code",
      "metadata": {
        "id": "0I_btGgXKnTa"
      },
      "source": [
        "from sklearn.metrics import mean_squared_error\n",
        "from math import sqrt\n",
        "import matplotlib.pyplot as plt"
      ],
      "execution_count": 58,
      "outputs": []
    },
    {
      "cell_type": "code",
      "metadata": {
        "id": "7WL_KCyBjM0I"
      },
      "source": [
        "n_features = 1\n",
        "n_steps = 24"
      ],
      "execution_count": 34,
      "outputs": []
    },
    {
      "cell_type": "code",
      "metadata": {
        "id": "5S86OIqyfREi"
      },
      "source": [
        "filename = '/content/drive/Shared drives/CMPE295B/JoinedPGEBulbData/2021-08-26_13_2021-09-26_22_hourly.csv'\n",
        "bulb_data = pd.read_csv(filename, infer_datetime_format = True).drop(['Unnamed: 0'], axis=1, inplace=False)\n",
        "bulb_data['timestamp'] = pd.to_datetime(bulb_data['timestamp'])"
      ],
      "execution_count": 35,
      "outputs": []
    },
    {
      "cell_type": "code",
      "metadata": {
        "colab": {
          "base_uri": "https://localhost:8080/",
          "height": 204
        },
        "id": "19J4SFi-faDp",
        "outputId": "4c9a37f3-9d37-4cbc-e605-38d2360d63a0"
      },
      "source": [
        "bulb_data.head()"
      ],
      "execution_count": 36,
      "outputs": [
        {
          "output_type": "execute_result",
          "data": {
            "text/html": [
              "<div>\n",
              "<style scoped>\n",
              "    .dataframe tbody tr th:only-of-type {\n",
              "        vertical-align: middle;\n",
              "    }\n",
              "\n",
              "    .dataframe tbody tr th {\n",
              "        vertical-align: top;\n",
              "    }\n",
              "\n",
              "    .dataframe thead th {\n",
              "        text-align: right;\n",
              "    }\n",
              "</style>\n",
              "<table border=\"1\" class=\"dataframe\">\n",
              "  <thead>\n",
              "    <tr style=\"text-align: right;\">\n",
              "      <th></th>\n",
              "      <th>index</th>\n",
              "      <th>timestamp</th>\n",
              "      <th>brightness</th>\n",
              "      <th>kelvin</th>\n",
              "      <th>kWH</th>\n",
              "      <th>cost</th>\n",
              "      <th>usage</th>\n",
              "      <th>percent_usage_by_bulb</th>\n",
              "      <th>cost_per_bulb</th>\n",
              "    </tr>\n",
              "  </thead>\n",
              "  <tbody>\n",
              "    <tr>\n",
              "      <th>0</th>\n",
              "      <td>0</td>\n",
              "      <td>2021-08-26 13:00:00</td>\n",
              "      <td>1.0</td>\n",
              "      <td>2700.0</td>\n",
              "      <td>0.0085</td>\n",
              "      <td>0.09</td>\n",
              "      <td>0.35</td>\n",
              "      <td>2.428571</td>\n",
              "      <td>0.002186</td>\n",
              "    </tr>\n",
              "    <tr>\n",
              "      <th>1</th>\n",
              "      <td>1</td>\n",
              "      <td>2021-08-26 14:00:00</td>\n",
              "      <td>1.0</td>\n",
              "      <td>2700.0</td>\n",
              "      <td>0.0085</td>\n",
              "      <td>0.11</td>\n",
              "      <td>0.38</td>\n",
              "      <td>2.236842</td>\n",
              "      <td>0.002461</td>\n",
              "    </tr>\n",
              "    <tr>\n",
              "      <th>2</th>\n",
              "      <td>2</td>\n",
              "      <td>2021-08-26 15:00:00</td>\n",
              "      <td>1.0</td>\n",
              "      <td>2700.0</td>\n",
              "      <td>0.0085</td>\n",
              "      <td>0.09</td>\n",
              "      <td>0.34</td>\n",
              "      <td>2.500000</td>\n",
              "      <td>0.002250</td>\n",
              "    </tr>\n",
              "    <tr>\n",
              "      <th>3</th>\n",
              "      <td>3</td>\n",
              "      <td>2021-08-26 16:00:00</td>\n",
              "      <td>1.0</td>\n",
              "      <td>2700.0</td>\n",
              "      <td>0.0085</td>\n",
              "      <td>0.08</td>\n",
              "      <td>0.29</td>\n",
              "      <td>2.931034</td>\n",
              "      <td>0.002345</td>\n",
              "    </tr>\n",
              "    <tr>\n",
              "      <th>4</th>\n",
              "      <td>4</td>\n",
              "      <td>2021-08-26 17:00:00</td>\n",
              "      <td>1.0</td>\n",
              "      <td>2700.0</td>\n",
              "      <td>0.0085</td>\n",
              "      <td>0.11</td>\n",
              "      <td>0.40</td>\n",
              "      <td>2.125000</td>\n",
              "      <td>0.002338</td>\n",
              "    </tr>\n",
              "  </tbody>\n",
              "</table>\n",
              "</div>"
            ],
            "text/plain": [
              "   index           timestamp  ...  percent_usage_by_bulb  cost_per_bulb\n",
              "0      0 2021-08-26 13:00:00  ...               2.428571       0.002186\n",
              "1      1 2021-08-26 14:00:00  ...               2.236842       0.002461\n",
              "2      2 2021-08-26 15:00:00  ...               2.500000       0.002250\n",
              "3      3 2021-08-26 16:00:00  ...               2.931034       0.002345\n",
              "4      4 2021-08-26 17:00:00  ...               2.125000       0.002338\n",
              "\n",
              "[5 rows x 9 columns]"
            ]
          },
          "metadata": {},
          "execution_count": 36
        }
      ]
    },
    {
      "cell_type": "code",
      "metadata": {
        "id": "Ah2qTtntJY6l"
      },
      "source": [
        "def split_train_test(bulb_data, split):\n",
        "  df = bulb_data[['cost_per_bulb']]\n",
        "  values = df.values\n",
        "  size = int(len(values) * split)\n",
        "  train = values[:size]\n",
        "  test = values[size:]\n",
        "  return (train, test)"
      ],
      "execution_count": 37,
      "outputs": []
    },
    {
      "cell_type": "code",
      "metadata": {
        "id": "EJMf89DOfeGv"
      },
      "source": [
        "# split a univariate sequence into samples\n",
        "def split_sequence(sequence, n_steps):\n",
        "\tX, y = list(), list()\n",
        "\tfor i in range(len(sequence)):\n",
        "\t\t# find the end of this pattern\n",
        "\t\tend_ix = i + n_steps\n",
        "\t\t# check if we are beyond the sequence\n",
        "\t\tif end_ix > len(sequence)-1:\n",
        "\t\t\tbreak\n",
        "\t\t# gather input and output parts of the pattern\n",
        "\t\tseq_x, seq_y = sequence[i:end_ix], sequence[end_ix]\n",
        "\t\tX.append(seq_x)\n",
        "\t\ty.append(seq_y)\n",
        "\n",
        "\treturn np.array(X), np.array(y)"
      ],
      "execution_count": 38,
      "outputs": []
    },
    {
      "cell_type": "code",
      "metadata": {
        "id": "m9GB6gMSiRRe",
        "colab": {
          "base_uri": "https://localhost:8080/"
        },
        "outputId": "a3767209-1e85-4b5c-c261-2768b4d506c6"
      },
      "source": [
        "train, test = split_train_test(bulb_data[['timestamp', 'cost_per_bulb']], 0.8)\n",
        "print (len(train), len(test))\n",
        "X_train, y_train = split_sequence(train, n_steps)"
      ],
      "execution_count": 39,
      "outputs": [
        {
          "output_type": "stream",
          "name": "stdout",
          "text": [
            "603 151\n"
          ]
        }
      ]
    },
    {
      "cell_type": "code",
      "metadata": {
        "id": "-ZhzsteDiZ3y"
      },
      "source": [
        "# reshape from [samples, timesteps] into [samples, timesteps, features]\n",
        "X_train = X_train.reshape((X_train.shape[0], X_train.shape[1], n_features))"
      ],
      "execution_count": 40,
      "outputs": []
    },
    {
      "cell_type": "code",
      "metadata": {
        "id": "GLlGE4nWin81"
      },
      "source": [
        "model = Sequential()\n",
        "model.add(LSTM(50, activation='relu', input_shape=(n_steps, n_features)))\n",
        "model.add(Dense(1))\n",
        "model.compile(optimizer='adam', loss='mse')"
      ],
      "execution_count": 41,
      "outputs": []
    },
    {
      "cell_type": "code",
      "metadata": {
        "colab": {
          "base_uri": "https://localhost:8080/"
        },
        "id": "L_lmeSuGj243",
        "outputId": "96a0adfa-d079-44d2-ce7f-024518a1de42"
      },
      "source": [
        "model.fit(X_train, y_train, epochs=200, verbose=0)"
      ],
      "execution_count": 42,
      "outputs": [
        {
          "output_type": "execute_result",
          "data": {
            "text/plain": [
              "<keras.callbacks.History at 0x7f29ed786d50>"
            ]
          },
          "metadata": {},
          "execution_count": 42
        }
      ]
    },
    {
      "cell_type": "code",
      "metadata": {
        "id": "2_ILwKIHI93O"
      },
      "source": [
        "X_test, y_test = split_sequence(test, n_steps)\n",
        "X_test = X_test.reshape((X_test.shape[0], X_test.shape[1], n_features))"
      ],
      "execution_count": 45,
      "outputs": []
    },
    {
      "cell_type": "code",
      "metadata": {
        "id": "hg2GPxizKMtF"
      },
      "source": [
        "yhat = model.predict(X_test, verbose=0)"
      ],
      "execution_count": null,
      "outputs": []
    },
    {
      "cell_type": "code",
      "metadata": {
        "colab": {
          "base_uri": "https://localhost:8080/"
        },
        "id": "AUX5_y7SKXuN",
        "outputId": "a44929fb-b0ba-4c8d-e78f-0e599ff3fe3f"
      },
      "source": [
        "rmse = sqrt(mean_squared_error(y_test, yhat))\n",
        "print (rmse)"
      ],
      "execution_count": 54,
      "outputs": [
        {
          "output_type": "stream",
          "name": "stdout",
          "text": [
            "0.0006831526035343412\n"
          ]
        }
      ]
    },
    {
      "cell_type": "code",
      "metadata": {
        "id": "jxi9J5-wKxfq"
      },
      "source": [
        "def plot_preds(test, predictions):\n",
        "  plt.title('Hourly lighting cost predictions')\n",
        "  plt.xlabel('Timestep')\n",
        "  plt.ylabel('Cost in Dollars')\n",
        "  plt.plot(test)\n",
        "  plt.plot(predictions, color='red')\n",
        "  plt.show()"
      ],
      "execution_count": 55,
      "outputs": []
    },
    {
      "cell_type": "code",
      "metadata": {
        "colab": {
          "base_uri": "https://localhost:8080/",
          "height": 295
        },
        "id": "HVEEx5eILCi5",
        "outputId": "cee0c03b-7952-453e-ae17-e65d50b1328f"
      },
      "source": [
        "plot_preds(y_test, yhat)"
      ],
      "execution_count": 59,
      "outputs": [
        {
          "output_type": "display_data",
          "data": {
            "image/png": "[encoded data removed]",
            "text/plain": [
              "<Figure size 432x288 with 1 Axes>"
            ]
          },
          "metadata": {
            "needs_background": "light"
          }
        }
      ]
    },
    {
      "cell_type": "code",
      "metadata": {
        "id": "RPs7RUkYLEPu"
      },
      "source": [
        ""
      ],
      "execution_count": null,
      "outputs": []
    }
  ]
}