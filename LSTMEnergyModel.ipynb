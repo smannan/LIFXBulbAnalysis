{
  "nbformat": 4,
  "nbformat_minor": 0,
  "metadata": {
    "colab": {
      "name": "LSTMEnergyModel.ipynb",
      "provenance": [],
      "collapsed_sections": [],
      "authorship_tag": "ABX9TyOcfZHJ3pOPJwVd/FKi8w9m",
      "include_colab_link": true
    },
    "kernelspec": {
      "name": "python3",
      "display_name": "Python 3"
    },
    "language_info": {
      "name": "python"
    }
  },
  "cells": [
    {
      "cell_type": "markdown",
      "metadata": {
        "id": "view-in-github",
        "colab_type": "text"
      },
      "source": [
        "<a href=\"https://colab.research.google.com/github/smannan/LIFXBulbAnalysis/blob/main/LSTMEnergyModel.ipynb\" target=\"_parent\"><img src=\"https://colab.research.google.com/assets/colab-badge.svg\" alt=\"Open In Colab\"/></a>"
      ]
    },
    {
      "cell_type": "code",
      "metadata": {
        "colab": {
          "base_uri": "https://localhost:8080/"
        },
        "id": "KW68Fjzne8Co",
        "outputId": "50b0cd38-278e-4c13-ec20-50098c11267d"
      },
      "source": [
        "from google.colab import drive\n",
        "drive.mount('/content/drive')"
      ],
      "execution_count": 1,
      "outputs": [
        {
          "output_type": "stream",
          "name": "stdout",
          "text": [
            "Mounted at /content/drive\n"
          ]
        }
      ]
    },
    {
      "cell_type": "code",
      "metadata": {
        "id": "m0gDC1vFfbt-"
      },
      "source": [
        "import numpy as np\n",
        "import pandas as pd"
      ],
      "execution_count": 2,
      "outputs": []
    },
    {
      "cell_type": "code",
      "metadata": {
        "id": "apsD4kbxI2xU"
      },
      "source": [
        "from keras.models import Sequential\n",
        "from keras.layers import LSTM\n",
        "from keras.layers import Dense"
      ],
      "execution_count": 3,
      "outputs": []
    },
    {
      "cell_type": "code",
      "metadata": {
        "id": "0I_btGgXKnTa"
      },
      "source": [
        "from sklearn.metrics import mean_squared_error\n",
        "from math import sqrt\n",
        "import matplotlib.pyplot as plt"
      ],
      "execution_count": 4,
      "outputs": []
    },
    {
      "cell_type": "code",
      "metadata": {
        "id": "7WL_KCyBjM0I"
      },
      "source": [
        "n_features = 1\n",
        "n_steps = 6"
      ],
      "execution_count": 5,
      "outputs": []
    },
    {
      "cell_type": "code",
      "metadata": {
        "id": "5S86OIqyfREi"
      },
      "source": [
        "filename = '/content/drive/Shared drives/CMPE295B/JoinedPGEBulbData/2021-09-07_21_2021-10-19_18_hourly.csv'\n",
        "bulb_data = pd.read_csv(filename, infer_datetime_format = True).drop(['Unnamed: 0'], axis=1, inplace=False)\n",
        "bulb_data['timestamp'] = pd.to_datetime(bulb_data['timestamp'])"
      ],
      "execution_count": 6,
      "outputs": []
    },
    {
      "cell_type": "code",
      "metadata": {
        "colab": {
          "base_uri": "https://localhost:8080/",
          "height": 204
        },
        "id": "19J4SFi-faDp",
        "outputId": "01d84ba4-d92c-4afb-bd63-51119b88f4c3"
      },
      "source": [
        "bulb_data.head()"
      ],
      "execution_count": 7,
      "outputs": [
        {
          "output_type": "execute_result",
          "data": {
            "text/html": [
              "<div>\n",
              "<style scoped>\n",
              "    .dataframe tbody tr th:only-of-type {\n",
              "        vertical-align: middle;\n",
              "    }\n",
              "\n",
              "    .dataframe tbody tr th {\n",
              "        vertical-align: top;\n",
              "    }\n",
              "\n",
              "    .dataframe thead th {\n",
              "        text-align: right;\n",
              "    }\n",
              "</style>\n",
              "<table border=\"1\" class=\"dataframe\">\n",
              "  <thead>\n",
              "    <tr style=\"text-align: right;\">\n",
              "      <th></th>\n",
              "      <th>timestamp</th>\n",
              "      <th>brightness</th>\n",
              "      <th>kelvin</th>\n",
              "      <th>kWH</th>\n",
              "      <th>cost</th>\n",
              "      <th>usage</th>\n",
              "      <th>percent_usage_by_bulb</th>\n",
              "      <th>cost_per_bulb</th>\n",
              "    </tr>\n",
              "  </thead>\n",
              "  <tbody>\n",
              "    <tr>\n",
              "      <th>0</th>\n",
              "      <td>2021-09-07 21:00:00</td>\n",
              "      <td>0.961538</td>\n",
              "      <td>2596.153846</td>\n",
              "      <td>0.0085</td>\n",
              "      <td>0.07</td>\n",
              "      <td>0.21</td>\n",
              "      <td>4.047619</td>\n",
              "      <td>0.002833</td>\n",
              "    </tr>\n",
              "    <tr>\n",
              "      <th>1</th>\n",
              "      <td>2021-09-07 22:00:00</td>\n",
              "      <td>0.700000</td>\n",
              "      <td>1890.000000</td>\n",
              "      <td>0.0085</td>\n",
              "      <td>0.35</td>\n",
              "      <td>1.29</td>\n",
              "      <td>0.658915</td>\n",
              "      <td>0.002306</td>\n",
              "    </tr>\n",
              "    <tr>\n",
              "      <th>2</th>\n",
              "      <td>2021-09-07 23:00:00</td>\n",
              "      <td>0.000000</td>\n",
              "      <td>0.000000</td>\n",
              "      <td>0.0000</td>\n",
              "      <td>0.35</td>\n",
              "      <td>1.31</td>\n",
              "      <td>0.000000</td>\n",
              "      <td>0.000000</td>\n",
              "    </tr>\n",
              "    <tr>\n",
              "      <th>3</th>\n",
              "      <td>2021-09-08 00:00:00</td>\n",
              "      <td>0.000000</td>\n",
              "      <td>0.000000</td>\n",
              "      <td>0.0000</td>\n",
              "      <td>0.14</td>\n",
              "      <td>0.54</td>\n",
              "      <td>0.000000</td>\n",
              "      <td>0.000000</td>\n",
              "    </tr>\n",
              "    <tr>\n",
              "      <th>4</th>\n",
              "      <td>2021-09-08 01:00:00</td>\n",
              "      <td>0.000000</td>\n",
              "      <td>0.000000</td>\n",
              "      <td>0.0000</td>\n",
              "      <td>0.08</td>\n",
              "      <td>0.35</td>\n",
              "      <td>0.000000</td>\n",
              "      <td>0.000000</td>\n",
              "    </tr>\n",
              "  </tbody>\n",
              "</table>\n",
              "</div>"
            ],
            "text/plain": [
              "            timestamp  brightness  ...  percent_usage_by_bulb  cost_per_bulb\n",
              "0 2021-09-07 21:00:00    0.961538  ...               4.047619       0.002833\n",
              "1 2021-09-07 22:00:00    0.700000  ...               0.658915       0.002306\n",
              "2 2021-09-07 23:00:00    0.000000  ...               0.000000       0.000000\n",
              "3 2021-09-08 00:00:00    0.000000  ...               0.000000       0.000000\n",
              "4 2021-09-08 01:00:00    0.000000  ...               0.000000       0.000000\n",
              "\n",
              "[5 rows x 8 columns]"
            ]
          },
          "metadata": {},
          "execution_count": 7
        }
      ]
    },
    {
      "cell_type": "code",
      "metadata": {
        "colab": {
          "base_uri": "https://localhost:8080/",
          "height": 282
        },
        "id": "bLQmwFlZk7q1",
        "outputId": "bb0ea5c1-74ab-447a-98ca-cc3feb2220cd"
      },
      "source": [
        "plt.plot(bulb_data['cost_per_bulb'])"
      ],
      "execution_count": 8,
      "outputs": [
        {
          "output_type": "execute_result",
          "data": {
            "text/plain": [
              "[<matplotlib.lines.Line2D at 0x7fd354dae190>]"
            ]
          },
          "metadata": {},
          "execution_count": 8
        },
        {
          "output_type": "display_data",
          "data": {
            "image/png": "[encoded data removed]",
            "text/plain": [
              "<Figure size 432x288 with 1 Axes>"
            ]
          },
          "metadata": {
            "needs_background": "light"
          }
        }
      ]
    },
    {
      "cell_type": "code",
      "metadata": {
        "id": "Ah2qTtntJY6l"
      },
      "source": [
        "def split_train_test(df, split):\n",
        "  values = df.values\n",
        "  size = int(len(values) * split)\n",
        "  train = values[:size]\n",
        "  test = values[size:]\n",
        "  return (train, test)"
      ],
      "execution_count": 23,
      "outputs": []
    },
    {
      "cell_type": "code",
      "metadata": {
        "id": "EJMf89DOfeGv"
      },
      "source": [
        "# split a univariate sequence into samples\n",
        "def split_sequence(sequence, n_steps):\n",
        "\tX, y = list(), list()\n",
        "\tfor i in range(len(sequence)):\n",
        "\t\t# find the end of this pattern\n",
        "\t\tend_ix = i + n_steps\n",
        "\t\t# check if we are beyond the sequence\n",
        "\t\tif end_ix > len(sequence)-1:\n",
        "\t\t\tbreak\n",
        "\t\t# gather input and output parts of the pattern\n",
        "\t\tseq_x, seq_y = sequence[i:end_ix], sequence[end_ix]\n",
        "\t\tX.append(seq_x)\n",
        "\t\ty.append(seq_y)\n",
        "\n",
        "\treturn np.array(X), np.array(y)"
      ],
      "execution_count": 10,
      "outputs": []
    },
    {
      "cell_type": "code",
      "metadata": {
        "id": "m9GB6gMSiRRe",
        "colab": {
          "base_uri": "https://localhost:8080/"
        },
        "outputId": "37dd99ea-8198-41ea-a983-236e97fcffb7"
      },
      "source": [
        "n_steps = 4\n",
        "train, test = split_train_test(bulb_data[['cost_per_bulb']], 0.9)\n",
        "print (len(train), len(test))\n",
        "X_train, y_train = split_sequence(train, n_steps)"
      ],
      "execution_count": 24,
      "outputs": [
        {
          "output_type": "stream",
          "name": "stdout",
          "text": [
            "905 101\n"
          ]
        }
      ]
    },
    {
      "cell_type": "code",
      "metadata": {
        "id": "-ZhzsteDiZ3y"
      },
      "source": [
        "# reshape from [samples, timesteps] into [samples, timesteps, features]\n",
        "X_train = X_train.reshape((X_train.shape[0], X_train.shape[1], n_features))"
      ],
      "execution_count": 12,
      "outputs": []
    },
    {
      "cell_type": "code",
      "metadata": {
        "id": "GLlGE4nWin81"
      },
      "source": [
        "model = Sequential()\n",
        "model.add(LSTM(50, activation='relu', input_shape=(n_steps, n_features)))\n",
        "model.add(Dense(1))\n",
        "model.compile(optimizer='adam', loss='mse')"
      ],
      "execution_count": 13,
      "outputs": []
    },
    {
      "cell_type": "code",
      "metadata": {
        "colab": {
          "base_uri": "https://localhost:8080/"
        },
        "id": "L_lmeSuGj243",
        "outputId": "0b92b1e2-7130-4a9c-80ea-b3c4243b4399"
      },
      "source": [
        "model.fit(X_train, y_train, epochs=200, verbose=0)"
      ],
      "execution_count": 14,
      "outputs": [
        {
          "output_type": "execute_result",
          "data": {
            "text/plain": [
              "<keras.callbacks.History at 0x7fd350576050>"
            ]
          },
          "metadata": {},
          "execution_count": 14
        }
      ]
    },
    {
      "cell_type": "code",
      "metadata": {
        "id": "2_ILwKIHI93O"
      },
      "source": [
        "X_test, y_test = split_sequence(test, n_steps)\n",
        "X_test = X_test.reshape((X_test.shape[0], X_test.shape[1], n_features))"
      ],
      "execution_count": 15,
      "outputs": []
    },
    {
      "cell_type": "code",
      "metadata": {
        "id": "hg2GPxizKMtF"
      },
      "source": [
        "yhat = model.predict(X_test, verbose=0)"
      ],
      "execution_count": 16,
      "outputs": []
    },
    {
      "cell_type": "code",
      "metadata": {
        "colab": {
          "base_uri": "https://localhost:8080/"
        },
        "id": "AUX5_y7SKXuN",
        "outputId": "d3f33ce6-af14-4969-98c0-d7e85a8f8325"
      },
      "source": [
        "rmse = sqrt(mean_squared_error(y_test, yhat))\n",
        "print (rmse)"
      ],
      "execution_count": 17,
      "outputs": [
        {
          "output_type": "stream",
          "name": "stdout",
          "text": [
            "0.0010566065626573125\n"
          ]
        }
      ]
    },
    {
      "cell_type": "code",
      "metadata": {
        "id": "jxi9J5-wKxfq"
      },
      "source": [
        "def plot_preds(test, predictions):\n",
        "  plt.title('Hourly lighting cost predictions')\n",
        "  plt.xlabel('Timestep')\n",
        "  plt.ylabel('Cost in Dollars')\n",
        "  plt.plot(test)\n",
        "  plt.plot(predictions, color='red')\n",
        "  plt.show()"
      ],
      "execution_count": 18,
      "outputs": []
    },
    {
      "cell_type": "code",
      "metadata": {
        "colab": {
          "base_uri": "https://localhost:8080/",
          "height": 295
        },
        "id": "HVEEx5eILCi5",
        "outputId": "dd8065a4-155b-49e3-bcca-9ed1e18f07dd"
      },
      "source": [
        "plot_preds(y_test, yhat)"
      ],
      "execution_count": 19,
      "outputs": [
        {
          "output_type": "display_data",
          "data": {
            "image/png": "[encoded data removed]",
            "text/plain": [
              "<Figure size 432x288 with 1 Axes>"
            ]
          },
          "metadata": {
            "needs_background": "light"
          }
        }
      ]
    },
    {
      "cell_type": "code",
      "metadata": {
        "id": "RPs7RUkYLEPu"
      },
      "source": [
        "filename = '/content/drive/Shared drives/CMPE295B/ProcessedPGEData/pge_data_from_influx_2020-10-10-20_30_2021-10-01-00_00.csv'\n",
        "pge_data = pd.read_csv(filename, infer_datetime_format = True).drop(['Unnamed: 0'], axis=1, inplace=False)\n",
        "pge_data['timestamp'] = pd.to_datetime(pge_data['timestamp'])"
      ],
      "execution_count": 20,
      "outputs": []
    },
    {
      "cell_type": "code",
      "metadata": {
        "id": "NiGyyhj9lVXx",
        "colab": {
          "base_uri": "https://localhost:8080/"
        },
        "outputId": "07f77f35-a713-440e-a26e-247ed244095a"
      },
      "source": [
        "n_steps = 7\n",
        "train, test = split_train_test(pge_data[['cost']], 0.8)\n",
        "print (len(train), len(test))\n",
        "X_train, y_train = split_sequence(train, n_steps)"
      ],
      "execution_count": 33,
      "outputs": [
        {
          "output_type": "stream",
          "name": "stdout",
          "text": [
            "27272 6819\n"
          ]
        }
      ]
    },
    {
      "cell_type": "code",
      "metadata": {
        "id": "IL85r__6WI47"
      },
      "source": [
        "model = Sequential()\n",
        "model.add(LSTM(50, activation='relu', input_shape=(n_steps, n_features)))\n",
        "model.add(Dense(1))\n",
        "model.compile(optimizer='adam', loss='mse')"
      ],
      "execution_count": 34,
      "outputs": []
    },
    {
      "cell_type": "code",
      "metadata": {
        "colab": {
          "base_uri": "https://localhost:8080/"
        },
        "id": "ElKw-TvSWLjZ",
        "outputId": "b1531a3e-8f83-4e65-df70-9af6cbaf2c98"
      },
      "source": [
        "model.fit(X_train, y_train, epochs=200, verbose=0)"
      ],
      "execution_count": 35,
      "outputs": [
        {
          "output_type": "execute_result",
          "data": {
            "text/plain": [
              "<keras.callbacks.History at 0x7fd3480380d0>"
            ]
          },
          "metadata": {},
          "execution_count": 35
        }
      ]
    },
    {
      "cell_type": "code",
      "metadata": {
        "id": "5KyXY7IbaUsh"
      },
      "source": [
        "X_test, y_test = split_sequence(test, n_steps)\n",
        "X_test = X_test.reshape((X_test.shape[0], X_test.shape[1], n_features))"
      ],
      "execution_count": 36,
      "outputs": []
    },
    {
      "cell_type": "code",
      "metadata": {
        "id": "tWR9hiduabJo"
      },
      "source": [
        "yhat = model.predict(X_test, verbose=0)"
      ],
      "execution_count": 37,
      "outputs": []
    },
    {
      "cell_type": "code",
      "metadata": {
        "colab": {
          "base_uri": "https://localhost:8080/"
        },
        "id": "m7zARlgHadHp",
        "outputId": "9ecc030b-6dcb-4be7-ecf0-404b73a163f6"
      },
      "source": [
        "rmse = sqrt(mean_squared_error(y_test, yhat))\n",
        "print (rmse)"
      ],
      "execution_count": 38,
      "outputs": [
        {
          "output_type": "stream",
          "name": "stdout",
          "text": [
            "0.005827963317143971\n"
          ]
        }
      ]
    },
    {
      "cell_type": "code",
      "metadata": {
        "colab": {
          "base_uri": "https://localhost:8080/",
          "height": 295
        },
        "id": "i1MMn_bEae_Q",
        "outputId": "b50bf12e-9078-46d3-d27c-bed2e97546e8"
      },
      "source": [
        "plot_preds(y_test[-240:], yhat[-240:])"
      ],
      "execution_count": 43,
      "outputs": [
        {
          "output_type": "display_data",
          "data": {
            "image/png": "[encoded data removed]",
            "text/plain": [
              "<Figure size 432x288 with 1 Axes>"
            ]
          },
          "metadata": {
            "needs_background": "light"
          }
        }
      ]
    },
    {
      "cell_type": "code",
      "metadata": {
        "id": "gcMqbR-NahBI"
      },
      "source": [
        ""
      ],
      "execution_count": null,
      "outputs": []
    }
  ]
}