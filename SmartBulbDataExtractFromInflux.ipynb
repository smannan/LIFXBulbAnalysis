{
  "nbformat": 4,
  "nbformat_minor": 0,
  "metadata": {
    "colab": {
      "name": "SmartBulbDataExtractFromInflux.ipynb",
      "provenance": [],
      "collapsed_sections": [],
      "include_colab_link": true
    },
    "kernelspec": {
      "name": "python3",
      "display_name": "Python 3"
    },
    "language_info": {
      "name": "python"
    }
  },
  "cells": [
    {
      "cell_type": "markdown",
      "metadata": {
        "id": "view-in-github",
        "colab_type": "text"
      },
      "source": [
        "<a href=\"https://colab.research.google.com/github/smannan/LIFXBulbAnalysis/blob/main/SmartBulbDataExtractFromInflux.ipynb\" target=\"_parent\"><img src=\"https://colab.research.google.com/assets/colab-badge.svg\" alt=\"Open In Colab\"/></a>"
      ]
    },
    {
      "cell_type": "markdown",
      "metadata": {
        "id": "9eYo94UTNtOX"
      },
      "source": [
        "### Query LIFX bulb data from an Influx DB client\n",
        "\n",
        "1.   LIFX API spec: https://api.developer.lifx.com/docs/list-lights\n",
        "2.   Visualize bulb brightness and power over time\n",
        "3.   Will need Influx acces token, org, and bucket\n",
        "4.   For info on Influx python client: https://docs.influxdata.com/influxdb/cloud/api-guide/client-libraries/python/"
      ]
    },
    {
      "cell_type": "code",
      "metadata": {
        "colab": {
          "base_uri": "https://localhost:8080/"
        },
        "id": "GgTFb4TGl1yb",
        "outputId": "a314a73f-4814-402f-e039-a80bb019439d"
      },
      "source": [
        "pip install influxdb-client"
      ],
      "execution_count": 1,
      "outputs": [
        {
          "output_type": "stream",
          "name": "stdout",
          "text": [
            "Requirement already satisfied: influxdb-client in /usr/local/lib/python3.7/dist-packages (1.20.0)\n",
            "Requirement already satisfied: pytz>=2019.1 in /usr/local/lib/python3.7/dist-packages (from influxdb-client) (2021.1)\n",
            "Requirement already satisfied: python-dateutil>=2.5.3 in /usr/local/lib/python3.7/dist-packages (from influxdb-client) (2.8.2)\n",
            "Requirement already satisfied: rx>=3.0.1 in /usr/local/lib/python3.7/dist-packages (from influxdb-client) (3.2.0)\n",
            "Requirement already satisfied: urllib3>=1.15.1 in /usr/local/lib/python3.7/dist-packages (from influxdb-client) (1.24.3)\n",
            "Requirement already satisfied: setuptools>=21.0.0 in /usr/local/lib/python3.7/dist-packages (from influxdb-client) (57.4.0)\n",
            "Requirement already satisfied: certifi>=14.05.14 in /usr/local/lib/python3.7/dist-packages (from influxdb-client) (2021.5.30)\n",
            "Requirement already satisfied: six>=1.10 in /usr/local/lib/python3.7/dist-packages (from influxdb-client) (1.15.0)\n"
          ]
        }
      ]
    },
    {
      "cell_type": "code",
      "metadata": {
        "id": "88n_zD0DsjLl"
      },
      "source": [
        "POWER_ENUM = { 'on': 1, 'off': 0 }"
      ],
      "execution_count": 2,
      "outputs": []
    },
    {
      "cell_type": "code",
      "metadata": {
        "id": "XKWYBwYGtkBW"
      },
      "source": [
        "import pandas as pd"
      ],
      "execution_count": 3,
      "outputs": []
    },
    {
      "cell_type": "markdown",
      "metadata": {
        "id": "kgmLeVLROZVY"
      },
      "source": [
        "Create Influxe DB client"
      ]
    },
    {
      "cell_type": "code",
      "metadata": {
        "id": "FGHMvsRwl6-5"
      },
      "source": [
        "from datetime import datetime\n",
        "\n",
        "from influxdb_client import InfluxDBClient, Point, WritePrecision\n",
        "\n",
        "# You can generate a Token from the \"Tokens Tab\" in the UI\n",
        "# https://us-central1-1.gcp.cloud2.influxdata.com/orgs/a33284f1a3112d0e/data-explorer\n",
        "token = \"BMNyseUoGWt6hU5tHxgYh6jyEkAYXAX514CIUtWhHmdu9nshYBAk75Oc1YBJOp84WyFL_4HIxdgkSkTpXvl_NA==\"\n",
        "org = \"praveenkumar23.anguru@gmail.com\"\n",
        "bucket = \"SmartBulbData\"\n",
        "\n",
        "client = InfluxDBClient(url=\"https://us-central1-1.gcp.cloud2.influxdata.com\", token=token, verify_ssl=False)"
      ],
      "execution_count": 4,
      "outputs": []
    },
    {
      "cell_type": "code",
      "metadata": {
        "id": "rsHht22mrMuk"
      },
      "source": [
        "### Print number of tables, records per table, and example record for each\n",
        "### table returned by a query\n",
        "def print_table_stats(tables):\n",
        "  # one table per light bulb\n",
        "  print ('Num tables {0}\\n'.format(len(tables)))\n",
        "  for table in tables:\n",
        "    print ('Num records in table {0}'.format(len(table.records)))\n",
        "    if len(table.records) > 0:\n",
        "      record = table.records[0]\n",
        "      print ('Sample record {0}, {1}\\n'.format(record.get_field(), record.get_value()))"
      ],
      "execution_count": 5,
      "outputs": []
    },
    {
      "cell_type": "code",
      "metadata": {
        "id": "fS6izJ_xqUMA"
      },
      "source": [
        "### Query a week's worth of data from an Influx db bucket for a specific field\n",
        "### Get both brightness and kelvin fields\n",
        "### Shift 7 hours in the future to compensate for utc default\n",
        "\"\"\"\n",
        "Each flux query returns a stream of tables meaning your query can return multiple tables.\n",
        "Each table is created depending on the grouping. (|> group())\n",
        "If you change the grouping at the end of your query you could merge these tables into 1.\n",
        "https://stackoverflow.com/questions/67617181/why-is-this-influxdb-flux-query-returning-2-tables\n",
        "Cannot group fields together if they're different data types?\n",
        "\"\"\"\n",
        "def query_field():\n",
        "  query = f'from(bucket: \\\"{bucket}\\\") |> range(start: -21d) |> timeShift(duration: -7h) |> filter(fn:(r) => r._field =~ /brightness|kelvin/) |> group(columns: [\"_field\"])'\n",
        "  print (query)\n",
        "  tables = client.query_api().query(query, org=org)\n",
        "  print_table_stats(tables)\n",
        "  return tables"
      ],
      "execution_count": 81,
      "outputs": []
    },
    {
      "cell_type": "markdown",
      "metadata": {
        "id": "ru-KiyrUO0j3"
      },
      "source": [
        "Get a week's worth of power data from the database"
      ]
    },
    {
      "cell_type": "code",
      "metadata": {
        "id": "QKQ66C4Kre8r"
      },
      "source": [
        "tables = query_field()"
      ],
      "execution_count": null,
      "outputs": []
    },
    {
      "cell_type": "code",
      "metadata": {
        "id": "oWI9U9HQrm6W"
      },
      "source": [
        "# table_id = 0 or 1 depending on which bulb\n",
        "### Put the each record's value and time information into a pandas dataframe\n",
        "def get_field_values_from_flux():\n",
        "  tables = query_field()\n",
        "  field_values = {}\n",
        "\n",
        "  for table in tables:\n",
        "    for record in table.records:\n",
        "      value = record.get_value()\n",
        "      field = record.values['_field']\n",
        "      record_id = record.values['id']\n",
        "      record_key = \"{0}_{1}\".format(record_id, record.get_time())\n",
        "\n",
        "      row = {\n",
        "          'timestamp': record.get_time(),\n",
        "          'id': record_id\n",
        "      }\n",
        "      row[field] = value\n",
        "\n",
        "      if record_key in field_values:\n",
        "        field_values[record_key][field] = value\n",
        "      else:\n",
        "        field_values[record_key] = row\n",
        "\n",
        "  dataframe = pd.DataFrame(list(field_values.values()))\n",
        "\n",
        "  print ('Extracted {0} values'.format(len(dataframe)))\n",
        "  print ('Earliest: {0}'.format(dataframe['timestamp'].min()))\n",
        "  print ('Latest: {0}'.format(dataframe['timestamp'].max()))\n",
        "  \n",
        "  return dataframe"
      ],
      "execution_count": 83,
      "outputs": []
    },
    {
      "cell_type": "markdown",
      "metadata": {
        "id": "sxOEx2QPPleE"
      },
      "source": [
        "Put a week's worth of power data into a pandas dataframe"
      ]
    },
    {
      "cell_type": "code",
      "metadata": {
        "colab": {
          "base_uri": "https://localhost:8080/"
        },
        "id": "UaWp9YR8mMAO",
        "outputId": "84782da8-c476-41e9-c4b0-98c2528820d4"
      },
      "source": [
        "formatted_df = get_field_values_from_flux()"
      ],
      "execution_count": 84,
      "outputs": [
        {
          "output_type": "stream",
          "name": "stdout",
          "text": [
            "from(bucket: \"SmartBulbData\") |> range(start: -21d) |> timeShift(duration: -7h) |> filter(fn:(r) => r._field =~ /brightness|kelvin/) |> group(columns: [\"_field\"])\n"
          ]
        },
        {
          "output_type": "stream",
          "name": "stderr",
          "text": [
            "/usr/local/lib/python3.7/dist-packages/urllib3/connectionpool.py:847: InsecureRequestWarning: Unverified HTTPS request is being made. Adding certificate verification is strongly advised. See: https://urllib3.readthedocs.io/en/latest/advanced-usage.html#ssl-warnings\n",
            "  InsecureRequestWarning)\n"
          ]
        },
        {
          "output_type": "stream",
          "name": "stdout",
          "text": [
            "Num tables 2\n",
            "\n",
            "Num records in table 6999\n",
            "Sample record brightness, 1.0\n",
            "\n",
            "Num records in table 6999\n",
            "Sample record kelvin, 2700\n",
            "\n",
            "Extracted 6999 values\n",
            "Earliest: 2021-08-26 13:46:01+00:00\n",
            "Latest: 2021-09-12 23:22:04+00:00\n"
          ]
        }
      ]
    },
    {
      "cell_type": "code",
      "metadata": {
        "colab": {
          "base_uri": "https://localhost:8080/",
          "height": 204
        },
        "id": "XiksdJzAV_CW",
        "outputId": "008a255c-3d88-44fb-f46e-aee7b3615a5b"
      },
      "source": [
        "formatted_df.head()"
      ],
      "execution_count": 85,
      "outputs": [
        {
          "output_type": "execute_result",
          "data": {
            "text/html": [
              "<div>\n",
              "<style scoped>\n",
              "    .dataframe tbody tr th:only-of-type {\n",
              "        vertical-align: middle;\n",
              "    }\n",
              "\n",
              "    .dataframe tbody tr th {\n",
              "        vertical-align: top;\n",
              "    }\n",
              "\n",
              "    .dataframe thead th {\n",
              "        text-align: right;\n",
              "    }\n",
              "</style>\n",
              "<table border=\"1\" class=\"dataframe\">\n",
              "  <thead>\n",
              "    <tr style=\"text-align: right;\">\n",
              "      <th></th>\n",
              "      <th>timestamp</th>\n",
              "      <th>id</th>\n",
              "      <th>brightness</th>\n",
              "      <th>kelvin</th>\n",
              "    </tr>\n",
              "  </thead>\n",
              "  <tbody>\n",
              "    <tr>\n",
              "      <th>0</th>\n",
              "      <td>2021-08-26 13:46:01+00:00</td>\n",
              "      <td>d073d55df12f</td>\n",
              "      <td>1.0000</td>\n",
              "      <td>2700</td>\n",
              "    </tr>\n",
              "    <tr>\n",
              "      <th>1</th>\n",
              "      <td>2021-08-26 13:47:00+00:00</td>\n",
              "      <td>d073d55df12f</td>\n",
              "      <td>1.0000</td>\n",
              "      <td>2700</td>\n",
              "    </tr>\n",
              "    <tr>\n",
              "      <th>2</th>\n",
              "      <td>2021-08-26 13:57:01+00:00</td>\n",
              "      <td>d073d55df12f</td>\n",
              "      <td>0.7021</td>\n",
              "      <td>2700</td>\n",
              "    </tr>\n",
              "    <tr>\n",
              "      <th>3</th>\n",
              "      <td>2021-08-26 13:58:01+00:00</td>\n",
              "      <td>d073d55df12f</td>\n",
              "      <td>0.7021</td>\n",
              "      <td>2700</td>\n",
              "    </tr>\n",
              "    <tr>\n",
              "      <th>4</th>\n",
              "      <td>2021-08-26 13:59:01+00:00</td>\n",
              "      <td>d073d55df12f</td>\n",
              "      <td>0.7021</td>\n",
              "      <td>2700</td>\n",
              "    </tr>\n",
              "  </tbody>\n",
              "</table>\n",
              "</div>"
            ],
            "text/plain": [
              "                  timestamp            id  brightness  kelvin\n",
              "0 2021-08-26 13:46:01+00:00  d073d55df12f      1.0000    2700\n",
              "1 2021-08-26 13:47:00+00:00  d073d55df12f      1.0000    2700\n",
              "2 2021-08-26 13:57:01+00:00  d073d55df12f      0.7021    2700\n",
              "3 2021-08-26 13:58:01+00:00  d073d55df12f      0.7021    2700\n",
              "4 2021-08-26 13:59:01+00:00  d073d55df12f      0.7021    2700"
            ]
          },
          "metadata": {},
          "execution_count": 85
        }
      ]
    },
    {
      "cell_type": "code",
      "metadata": {
        "id": "3x8RaLbSdQtr"
      },
      "source": [
        "min_time = str(formatted_df['timestamp'].min()).replace(\" \", \"-\")\n",
        "max_time = str(formatted_df['timestamp'].max()).replace(\" \", \"-\")\n",
        "formatted_df.to_csv('smart_bulb_data_from_influx_{0}_{1}.csv'.format(min_time, max_time))"
      ],
      "execution_count": 86,
      "outputs": []
    },
    {
      "cell_type": "code",
      "metadata": {
        "colab": {
          "base_uri": "https://localhost:8080/"
        },
        "id": "Ib7PYyHVZAK3",
        "outputId": "45d43893-2201-4441-9323-fde316ec9cbf"
      },
      "source": [
        "formatted_df.info()"
      ],
      "execution_count": 87,
      "outputs": [
        {
          "output_type": "stream",
          "name": "stdout",
          "text": [
            "<class 'pandas.core.frame.DataFrame'>\n",
            "RangeIndex: 6999 entries, 0 to 6998\n",
            "Data columns (total 4 columns):\n",
            " #   Column      Non-Null Count  Dtype                    \n",
            "---  ------      --------------  -----                    \n",
            " 0   timestamp   6999 non-null   datetime64[ns, tzlocal()]\n",
            " 1   id          6999 non-null   object                   \n",
            " 2   brightness  6999 non-null   float64                  \n",
            " 3   kelvin      6999 non-null   int64                    \n",
            "dtypes: datetime64[ns, tzlocal()](1), float64(1), int64(1), object(1)\n",
            "memory usage: 218.8+ KB\n"
          ]
        }
      ]
    },
    {
      "cell_type": "code",
      "metadata": {
        "colab": {
          "base_uri": "https://localhost:8080/"
        },
        "id": "CFvV4tvGaQh7",
        "outputId": "23f6b86b-95dd-4981-dc75-04492b1f2083"
      },
      "source": [
        "formatted_df['brightness'].describe()"
      ],
      "execution_count": 88,
      "outputs": [
        {
          "output_type": "execute_result",
          "data": {
            "text/plain": [
              "count    6999.000000\n",
              "mean        0.820342\n",
              "std         0.125304\n",
              "min         0.000000\n",
              "25%         0.833700\n",
              "50%         0.833700\n",
              "75%         0.833700\n",
              "max         1.000000\n",
              "Name: brightness, dtype: float64"
            ]
          },
          "metadata": {},
          "execution_count": 88
        }
      ]
    },
    {
      "cell_type": "code",
      "metadata": {
        "colab": {
          "base_uri": "https://localhost:8080/"
        },
        "id": "4cbcSsOGag47",
        "outputId": "22b20e78-2948-472b-87e0-f3ed0164b58e"
      },
      "source": [
        "formatted_df['kelvin'].describe()"
      ],
      "execution_count": 89,
      "outputs": [
        {
          "output_type": "execute_result",
          "data": {
            "text/plain": [
              "count    6999.000000\n",
              "mean     2693.056151\n",
              "std       136.758356\n",
              "min         0.000000\n",
              "25%      2700.000000\n",
              "50%      2700.000000\n",
              "75%      2700.000000\n",
              "max      2700.000000\n",
              "Name: kelvin, dtype: float64"
            ]
          },
          "metadata": {},
          "execution_count": 89
        }
      ]
    },
    {
      "cell_type": "code",
      "metadata": {
        "colab": {
          "base_uri": "https://localhost:8080/",
          "height": 35
        },
        "id": "I-zafSmyakWa",
        "outputId": "85085da4-50d4-44cc-accf-a5a44740a86c"
      },
      "source": [
        "min_time"
      ],
      "execution_count": 90,
      "outputs": [
        {
          "output_type": "execute_result",
          "data": {
            "application/vnd.google.colaboratory.intrinsic+json": {
              "type": "string"
            },
            "text/plain": [
              "'2021-08-26-13:46:01+00:00'"
            ]
          },
          "metadata": {},
          "execution_count": 90
        }
      ]
    },
    {
      "cell_type": "code",
      "metadata": {
        "id": "sRyVRVSKI0za"
      },
      "source": [
        ""
      ],
      "execution_count": null,
      "outputs": []
    }
  ]
}