{
  "nbformat": 4,
  "nbformat_minor": 0,
  "metadata": {
    "colab": {
      "name": "SmartBulbDataExtractFromInflux.ipynb",
      "provenance": [],
      "collapsed_sections": [],
      "include_colab_link": true
    },
    "kernelspec": {
      "name": "python3",
      "display_name": "Python 3"
    },
    "language_info": {
      "name": "python"
    }
  },
  "cells": [
    {
      "cell_type": "markdown",
      "metadata": {
        "id": "view-in-github",
        "colab_type": "text"
      },
      "source": [
        "<a href=\"https://colab.research.google.com/github/smannan/LIFXBulbAnalysis/blob/main/SmartBulbDataExtractFromInflux.ipynb\" target=\"_parent\"><img src=\"https://colab.research.google.com/assets/colab-badge.svg\" alt=\"Open In Colab\"/></a>"
      ]
    },
    {
      "cell_type": "markdown",
      "metadata": {
        "id": "9eYo94UTNtOX"
      },
      "source": [
        "### Query LIFX bulb data from an Influx DB client\n",
        "\n",
        "1.   LIFX API spec: https://api.developer.lifx.com/docs/list-lights\n",
        "2.   Visualize bulb brightness and power over time\n",
        "3.   Will need Influx acces token, org, and bucket\n",
        "4.   For info on Influx python client: https://docs.influxdata.com/influxdb/cloud/api-guide/client-libraries/python/"
      ]
    },
    {
      "cell_type": "code",
      "metadata": {
        "colab": {
          "base_uri": "https://localhost:8080/"
        },
        "id": "GgTFb4TGl1yb",
        "outputId": "2feaf02d-c9c4-4dca-cb54-d2b543cff166"
      },
      "source": [
        "pip install influxdb-client"
      ],
      "execution_count": 1,
      "outputs": [
        {
          "output_type": "stream",
          "name": "stdout",
          "text": [
            "Requirement already satisfied: influxdb-client in /usr/local/lib/python3.7/dist-packages (1.23.0)\n",
            "Requirement already satisfied: six>=1.10 in /usr/local/lib/python3.7/dist-packages (from influxdb-client) (1.15.0)\n",
            "Requirement already satisfied: setuptools>=21.0.0 in /usr/local/lib/python3.7/dist-packages (from influxdb-client) (57.4.0)\n",
            "Requirement already satisfied: python-dateutil>=2.5.3 in /usr/local/lib/python3.7/dist-packages (from influxdb-client) (2.8.2)\n",
            "Requirement already satisfied: rx>=3.0.1 in /usr/local/lib/python3.7/dist-packages (from influxdb-client) (3.2.0)\n",
            "Requirement already satisfied: pytz>=2019.1 in /usr/local/lib/python3.7/dist-packages (from influxdb-client) (2021.3)\n",
            "Requirement already satisfied: urllib3>=1.15.1 in /usr/local/lib/python3.7/dist-packages (from influxdb-client) (1.24.3)\n",
            "Requirement already satisfied: certifi>=14.05.14 in /usr/local/lib/python3.7/dist-packages (from influxdb-client) (2021.10.8)\n"
          ]
        }
      ]
    },
    {
      "cell_type": "code",
      "metadata": {
        "id": "88n_zD0DsjLl"
      },
      "source": [
        "POWER_ENUM = { 'on': 1, 'off': 0 }"
      ],
      "execution_count": 2,
      "outputs": []
    },
    {
      "cell_type": "code",
      "metadata": {
        "id": "XKWYBwYGtkBW"
      },
      "source": [
        "import pandas as pd"
      ],
      "execution_count": 3,
      "outputs": []
    },
    {
      "cell_type": "markdown",
      "metadata": {
        "id": "kgmLeVLROZVY"
      },
      "source": [
        "Create Influxe DB client"
      ]
    },
    {
      "cell_type": "code",
      "metadata": {
        "id": "FGHMvsRwl6-5"
      },
      "source": [
        "from datetime import datetime\n",
        "\n",
        "from influxdb_client import InfluxDBClient, Point, WritePrecision\n",
        "\n",
        "# You can generate a Token from the \"Tokens Tab\" in the UI\n",
        "# https://us-central1-1.gcp.cloud2.influxdata.com/orgs/a33284f1a3112d0e/data-explorer\n",
        "token = \"BMNyseUoGWt6hU5tHxgYh6jyEkAYXAX514CIUtWhHmdu9nshYBAk75Oc1YBJOp84WyFL_4HIxdgkSkTpXvl_NA==\"\n",
        "org = \"praveenkumar23.anguru@gmail.com\"\n",
        "bucket = \"SmartBulbData\"\n",
        "\n",
        "client = InfluxDBClient(url=\"https://us-central1-1.gcp.cloud2.influxdata.com\", token=token, verify_ssl=False)"
      ],
      "execution_count": 4,
      "outputs": []
    },
    {
      "cell_type": "code",
      "metadata": {
        "id": "rsHht22mrMuk"
      },
      "source": [
        "### Print number of tables, records per table, and example record for each\n",
        "### table returned by a query\n",
        "def print_table_stats(tables):\n",
        "  # one table per light bulb\n",
        "  print ('Num tables {0}\\n'.format(len(tables)))\n",
        "  for table in tables:\n",
        "    print ('Num records in table {0}'.format(len(table.records)))\n",
        "    if len(table.records) > 0:\n",
        "      record = table.records[0]\n",
        "      print ('Sample record {0}, {1}\\n'.format(record.get_field(), record.get_value()))"
      ],
      "execution_count": 5,
      "outputs": []
    },
    {
      "cell_type": "code",
      "metadata": {
        "id": "fS6izJ_xqUMA"
      },
      "source": [
        "### Query a week's worth of data from an Influx db bucket for a specific field\n",
        "### Get both brightness and kelvin fields\n",
        "### Shift 7 hours in the future to compensate for utc default\n",
        "\"\"\"\n",
        "Each flux query returns a stream of tables meaning your query can return multiple tables.\n",
        "Each table is created depending on the grouping. (|> group())\n",
        "If you change the grouping at the end of your query you could merge these tables into 1.\n",
        "https://stackoverflow.com/questions/67617181/why-is-this-influxdb-flux-query-returning-2-tables\n",
        "Cannot group fields together if they're different data types?\n",
        "\"\"\"\n",
        "def query_field():\n",
        "  query = f'from(bucket: \\\"{bucket}\\\") |> range(start: -65d) |> timeShift(duration: -7h) |> filter(fn:(r) => r._field =~ /brightness|kelvin/) |> group(columns: [\"_field\"])'\n",
        "  print (query)\n",
        "  tables = client.query_api().query(query, org=org)\n",
        "  print_table_stats(tables)\n",
        "  return tables"
      ],
      "execution_count": 8,
      "outputs": []
    },
    {
      "cell_type": "markdown",
      "metadata": {
        "id": "ru-KiyrUO0j3"
      },
      "source": [
        "Get a week's worth of power data from the database"
      ]
    },
    {
      "cell_type": "code",
      "metadata": {
        "id": "oWI9U9HQrm6W"
      },
      "source": [
        "# table_id = 0 or 1 depending on which bulb\n",
        "### Put the each record's value and time information into a pandas dataframe\n",
        "def get_field_values_from_flux():\n",
        "  tables = query_field()\n",
        "  field_values = {}\n",
        "\n",
        "  for table in tables:\n",
        "    for record in table.records:\n",
        "      value = record.get_value()\n",
        "      field = record.values['_field']\n",
        "      record_id = record.values['id']\n",
        "      record_key = \"{0}_{1}\".format(record_id, record.get_time())\n",
        "\n",
        "      row = {\n",
        "          'timestamp': record.get_time(),\n",
        "          'id': record_id\n",
        "      }\n",
        "      row[field] = value\n",
        "\n",
        "      if record_key in field_values:\n",
        "        field_values[record_key][field] = value\n",
        "      else:\n",
        "        field_values[record_key] = row\n",
        "\n",
        "  dataframe = pd.DataFrame(list(field_values.values()))\n",
        "\n",
        "  print ('Extracted {0} values'.format(len(dataframe)))\n",
        "  print ('Earliest: {0}'.format(dataframe['timestamp'].min()))\n",
        "  print ('Latest: {0}'.format(dataframe['timestamp'].max()))\n",
        "  \n",
        "  return dataframe"
      ],
      "execution_count": 9,
      "outputs": []
    },
    {
      "cell_type": "code",
      "metadata": {
        "colab": {
          "base_uri": "https://localhost:8080/"
        },
        "id": "UaWp9YR8mMAO",
        "outputId": "e6ce5133-81fc-433c-f597-a3302fcd2803"
      },
      "source": [
        "formatted_df = get_field_values_from_flux()"
      ],
      "execution_count": 10,
      "outputs": [
        {
          "output_type": "stream",
          "name": "stdout",
          "text": [
            "from(bucket: \"SmartBulbData\") |> range(start: -65d) |> timeShift(duration: -7h) |> filter(fn:(r) => r._field =~ /brightness|kelvin/) |> group(columns: [\"_field\"])\n"
          ]
        },
        {
          "output_type": "stream",
          "name": "stderr",
          "text": [
            "/usr/local/lib/python3.7/dist-packages/urllib3/connectionpool.py:847: InsecureRequestWarning: Unverified HTTPS request is being made. Adding certificate verification is strongly advised. See: https://urllib3.readthedocs.io/en/latest/advanced-usage.html#ssl-warnings\n",
            "  InsecureRequestWarning)\n"
          ]
        },
        {
          "output_type": "stream",
          "name": "stdout",
          "text": [
            "Num tables 2\n",
            "\n",
            "Num records in table 28737\n",
            "Sample record brightness, 0.8337\n",
            "\n",
            "Num records in table 28737\n",
            "Sample record kelvin, 2700\n",
            "\n",
            "Extracted 28737 values\n",
            "Earliest: 2021-09-13 22:03:02+00:00\n",
            "Latest: 2021-11-10 23:02:03+00:00\n"
          ]
        }
      ]
    },
    {
      "cell_type": "code",
      "metadata": {
        "colab": {
          "base_uri": "https://localhost:8080/",
          "height": 204
        },
        "id": "XiksdJzAV_CW",
        "outputId": "88156933-b9c9-4fa9-f061-16f577277ff1"
      },
      "source": [
        "formatted_df.head()"
      ],
      "execution_count": 11,
      "outputs": [
        {
          "output_type": "execute_result",
          "data": {
            "text/html": [
              "<div>\n",
              "<style scoped>\n",
              "    .dataframe tbody tr th:only-of-type {\n",
              "        vertical-align: middle;\n",
              "    }\n",
              "\n",
              "    .dataframe tbody tr th {\n",
              "        vertical-align: top;\n",
              "    }\n",
              "\n",
              "    .dataframe thead th {\n",
              "        text-align: right;\n",
              "    }\n",
              "</style>\n",
              "<table border=\"1\" class=\"dataframe\">\n",
              "  <thead>\n",
              "    <tr style=\"text-align: right;\">\n",
              "      <th></th>\n",
              "      <th>timestamp</th>\n",
              "      <th>id</th>\n",
              "      <th>brightness</th>\n",
              "      <th>kelvin</th>\n",
              "    </tr>\n",
              "  </thead>\n",
              "  <tbody>\n",
              "    <tr>\n",
              "      <th>0</th>\n",
              "      <td>2021-09-13 22:03:02+00:00</td>\n",
              "      <td>d073d55df12f</td>\n",
              "      <td>0.8337</td>\n",
              "      <td>2700</td>\n",
              "    </tr>\n",
              "    <tr>\n",
              "      <th>1</th>\n",
              "      <td>2021-09-13 22:04:01+00:00</td>\n",
              "      <td>d073d55df12f</td>\n",
              "      <td>0.8337</td>\n",
              "      <td>2700</td>\n",
              "    </tr>\n",
              "    <tr>\n",
              "      <th>2</th>\n",
              "      <td>2021-09-13 22:05:00+00:00</td>\n",
              "      <td>d073d55df12f</td>\n",
              "      <td>0.8337</td>\n",
              "      <td>2700</td>\n",
              "    </tr>\n",
              "    <tr>\n",
              "      <th>3</th>\n",
              "      <td>2021-09-13 22:06:01+00:00</td>\n",
              "      <td>d073d55df12f</td>\n",
              "      <td>0.8337</td>\n",
              "      <td>2700</td>\n",
              "    </tr>\n",
              "    <tr>\n",
              "      <th>4</th>\n",
              "      <td>2021-09-13 22:07:01+00:00</td>\n",
              "      <td>d073d55df12f</td>\n",
              "      <td>0.8337</td>\n",
              "      <td>2700</td>\n",
              "    </tr>\n",
              "  </tbody>\n",
              "</table>\n",
              "</div>"
            ],
            "text/plain": [
              "                  timestamp            id  brightness  kelvin\n",
              "0 2021-09-13 22:03:02+00:00  d073d55df12f      0.8337    2700\n",
              "1 2021-09-13 22:04:01+00:00  d073d55df12f      0.8337    2700\n",
              "2 2021-09-13 22:05:00+00:00  d073d55df12f      0.8337    2700\n",
              "3 2021-09-13 22:06:01+00:00  d073d55df12f      0.8337    2700\n",
              "4 2021-09-13 22:07:01+00:00  d073d55df12f      0.8337    2700"
            ]
          },
          "metadata": {},
          "execution_count": 11
        }
      ]
    },
    {
      "cell_type": "code",
      "metadata": {
        "id": "3x8RaLbSdQtr"
      },
      "source": [
        "min_time = str(formatted_df['timestamp'].min()).replace(\" \", \"-\")\n",
        "max_time = str(formatted_df['timestamp'].max()).replace(\" \", \"-\")\n",
        "formatted_df.to_csv('smart_bulb_data_from_influx_{0}_{1}.csv'.format(min_time, max_time))"
      ],
      "execution_count": 12,
      "outputs": []
    },
    {
      "cell_type": "code",
      "metadata": {
        "colab": {
          "base_uri": "https://localhost:8080/"
        },
        "id": "Ib7PYyHVZAK3",
        "outputId": "f755d147-d128-40db-daae-856d5676a21f"
      },
      "source": [
        "formatted_df.info()"
      ],
      "execution_count": 13,
      "outputs": [
        {
          "output_type": "stream",
          "name": "stdout",
          "text": [
            "<class 'pandas.core.frame.DataFrame'>\n",
            "RangeIndex: 28737 entries, 0 to 28736\n",
            "Data columns (total 4 columns):\n",
            " #   Column      Non-Null Count  Dtype                    \n",
            "---  ------      --------------  -----                    \n",
            " 0   timestamp   28737 non-null  datetime64[ns, tzlocal()]\n",
            " 1   id          28737 non-null  object                   \n",
            " 2   brightness  28737 non-null  float64                  \n",
            " 3   kelvin      28737 non-null  int64                    \n",
            "dtypes: datetime64[ns, tzlocal()](1), float64(1), int64(1), object(1)\n",
            "memory usage: 898.2+ KB\n"
          ]
        }
      ]
    },
    {
      "cell_type": "code",
      "metadata": {
        "colab": {
          "base_uri": "https://localhost:8080/"
        },
        "id": "CFvV4tvGaQh7",
        "outputId": "01e3bd2d-ac68-4bf5-c66f-b2202578b1f3"
      },
      "source": [
        "formatted_df['brightness'].describe()"
      ],
      "execution_count": 14,
      "outputs": [
        {
          "output_type": "execute_result",
          "data": {
            "text/plain": [
              "count    28737.000000\n",
              "mean         0.534623\n",
              "std          0.444378\n",
              "min          0.000000\n",
              "25%          0.030000\n",
              "50%          0.703400\n",
              "75%          1.000000\n",
              "max          1.000000\n",
              "Name: brightness, dtype: float64"
            ]
          },
          "metadata": {},
          "execution_count": 14
        }
      ]
    },
    {
      "cell_type": "code",
      "metadata": {
        "colab": {
          "base_uri": "https://localhost:8080/"
        },
        "id": "4cbcSsOGag47",
        "outputId": "8536f71b-8c06-4dfc-811b-95bce95b3016"
      },
      "source": [
        "formatted_df['kelvin'].describe()"
      ],
      "execution_count": 15,
      "outputs": [
        {
          "output_type": "execute_result",
          "data": {
            "text/plain": [
              "count    28737.000000\n",
              "mean      3401.771236\n",
              "std        293.320680\n",
              "min          0.000000\n",
              "25%       3500.000000\n",
              "50%       3500.000000\n",
              "75%       3500.000000\n",
              "max       3500.000000\n",
              "Name: kelvin, dtype: float64"
            ]
          },
          "metadata": {},
          "execution_count": 15
        }
      ]
    },
    {
      "cell_type": "code",
      "metadata": {
        "colab": {
          "base_uri": "https://localhost:8080/",
          "height": 35
        },
        "id": "I-zafSmyakWa",
        "outputId": "822251d6-4daf-404a-9e03-4eca8f14b7c1"
      },
      "source": [
        "min_time"
      ],
      "execution_count": 16,
      "outputs": [
        {
          "output_type": "execute_result",
          "data": {
            "application/vnd.google.colaboratory.intrinsic+json": {
              "type": "string"
            },
            "text/plain": [
              "'2021-09-13-22:03:02+00:00'"
            ]
          },
          "metadata": {},
          "execution_count": 16
        }
      ]
    },
    {
      "cell_type": "code",
      "metadata": {
        "id": "sRyVRVSKI0za",
        "colab": {
          "base_uri": "https://localhost:8080/",
          "height": 35
        },
        "outputId": "1b9b637f-3ded-486c-9958-1f844138478a"
      },
      "source": [
        "max_time"
      ],
      "execution_count": 17,
      "outputs": [
        {
          "output_type": "execute_result",
          "data": {
            "application/vnd.google.colaboratory.intrinsic+json": {
              "type": "string"
            },
            "text/plain": [
              "'2021-11-10-23:02:03+00:00'"
            ]
          },
          "metadata": {},
          "execution_count": 17
        }
      ]
    },
    {
      "cell_type": "code",
      "metadata": {
        "id": "OXzQWHu3Xst6"
      },
      "source": [
        ""
      ],
      "execution_count": null,
      "outputs": []
    }
  ]
}