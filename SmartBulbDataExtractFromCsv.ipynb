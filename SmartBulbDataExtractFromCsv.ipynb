{
  "nbformat": 4,
  "nbformat_minor": 0,
  "metadata": {
    "colab": {
      "name": "SmartBulbDataExtractFromCsv.ipynb",
      "provenance": [],
      "collapsed_sections": [],
      "authorship_tag": "ABX9TyPsqVY3KwJBX8NRiEkfDFkT",
      "include_colab_link": true
    },
    "kernelspec": {
      "name": "python3",
      "display_name": "Python 3"
    },
    "language_info": {
      "name": "python"
    }
  },
  "cells": [
    {
      "cell_type": "markdown",
      "metadata": {
        "id": "view-in-github",
        "colab_type": "text"
      },
      "source": [
        "<a href=\"https://colab.research.google.com/github/smannan/LIFXBulbAnalysis/blob/main/SmartBulbDataExtractFromCsv.ipynb\" target=\"_parent\"><img src=\"https://colab.research.google.com/assets/colab-badge.svg\" alt=\"Open In Colab\"/></a>"
      ]
    },
    {
      "cell_type": "code",
      "metadata": {
        "id": "qfkAkHzFNh0k",
        "colab": {
          "base_uri": "https://localhost:8080/"
        },
        "outputId": "8ed6ee1d-fc1c-4bde-bace-20984e0502a4"
      },
      "source": [
        "from google.colab import drive\n",
        "drive.mount('/content/drive')"
      ],
      "execution_count": 1,
      "outputs": [
        {
          "output_type": "stream",
          "name": "stdout",
          "text": [
            "Mounted at /content/drive\n"
          ]
        }
      ]
    },
    {
      "cell_type": "code",
      "metadata": {
        "id": "nL2nJtGrUElU"
      },
      "source": [
        "import matplotlib.pyplot as plt\n",
        "import os\n",
        "import pandas as pd\n",
        "\n",
        "from datetime import datetime\n",
        "from dateutil.parser import parse"
      ],
      "execution_count": 2,
      "outputs": []
    },
    {
      "cell_type": "code",
      "metadata": {
        "id": "YDfLCoGpg0-X"
      },
      "source": [
        "def map_str_col_to_time(df, col):\n",
        "  df[col] = df[col].map(lambda time: parse(time))"
      ],
      "execution_count": 3,
      "outputs": []
    },
    {
      "cell_type": "code",
      "metadata": {
        "id": "7krnR5RmUVEr"
      },
      "source": [
        "bulb_data = pd.read_csv('/content/drive/Shared drives/CMPE295B/InfluxData/2021-07-12_10_15-2021-07-12_10_15.csv', infer_datetime_format = True)\n",
        "map_str_col_to_time(bulb_data, '_time')\n",
        "\n",
        "# start and stop time are the total interval for the dataset\n",
        "# this data was collected over 30 days at 1 hour intervals\n",
        "bulb_data.drop(['_start', '_stop'], axis=1, inplace=True)"
      ],
      "execution_count": 4,
      "outputs": []
    },
    {
      "cell_type": "code",
      "metadata": {
        "colab": {
          "base_uri": "https://localhost:8080/",
          "height": 204
        },
        "id": "GQOjuBamVhDR",
        "outputId": "1c27bb24-26d3-4cee-b32a-a0ef7d3a22ea"
      },
      "source": [
        "bulb_data.head()"
      ],
      "execution_count": 5,
      "outputs": [
        {
          "output_type": "execute_result",
          "data": {
            "text/html": [
              "<div>\n",
              "<style scoped>\n",
              "    .dataframe tbody tr th:only-of-type {\n",
              "        vertical-align: middle;\n",
              "    }\n",
              "\n",
              "    .dataframe tbody tr th {\n",
              "        vertical-align: top;\n",
              "    }\n",
              "\n",
              "    .dataframe thead th {\n",
              "        text-align: right;\n",
              "    }\n",
              "</style>\n",
              "<table border=\"1\" class=\"dataframe\">\n",
              "  <thead>\n",
              "    <tr style=\"text-align: right;\">\n",
              "      <th></th>\n",
              "      <th>table</th>\n",
              "      <th>_time</th>\n",
              "      <th>_value</th>\n",
              "      <th>_field</th>\n",
              "      <th>_measurement</th>\n",
              "      <th>id</th>\n",
              "      <th>label</th>\n",
              "    </tr>\n",
              "  </thead>\n",
              "  <tbody>\n",
              "    <tr>\n",
              "      <th>0</th>\n",
              "      <td>0</td>\n",
              "      <td>2021-06-12 18:00:00+00:00</td>\n",
              "      <td>NaN</td>\n",
              "      <td>brightness</td>\n",
              "      <td>bulb_reading</td>\n",
              "      <td>d073d55e535c</td>\n",
              "      <td>LIFX White 5E535C</td>\n",
              "    </tr>\n",
              "    <tr>\n",
              "      <th>1</th>\n",
              "      <td>0</td>\n",
              "      <td>2021-06-12 19:00:00+00:00</td>\n",
              "      <td>NaN</td>\n",
              "      <td>brightness</td>\n",
              "      <td>bulb_reading</td>\n",
              "      <td>d073d55e535c</td>\n",
              "      <td>LIFX White 5E535C</td>\n",
              "    </tr>\n",
              "    <tr>\n",
              "      <th>2</th>\n",
              "      <td>0</td>\n",
              "      <td>2021-06-12 20:00:00+00:00</td>\n",
              "      <td>NaN</td>\n",
              "      <td>brightness</td>\n",
              "      <td>bulb_reading</td>\n",
              "      <td>d073d55e535c</td>\n",
              "      <td>LIFX White 5E535C</td>\n",
              "    </tr>\n",
              "    <tr>\n",
              "      <th>3</th>\n",
              "      <td>0</td>\n",
              "      <td>2021-06-12 21:00:00+00:00</td>\n",
              "      <td>NaN</td>\n",
              "      <td>brightness</td>\n",
              "      <td>bulb_reading</td>\n",
              "      <td>d073d55e535c</td>\n",
              "      <td>LIFX White 5E535C</td>\n",
              "    </tr>\n",
              "    <tr>\n",
              "      <th>4</th>\n",
              "      <td>0</td>\n",
              "      <td>2021-06-12 22:00:00+00:00</td>\n",
              "      <td>NaN</td>\n",
              "      <td>brightness</td>\n",
              "      <td>bulb_reading</td>\n",
              "      <td>d073d55e535c</td>\n",
              "      <td>LIFX White 5E535C</td>\n",
              "    </tr>\n",
              "  </tbody>\n",
              "</table>\n",
              "</div>"
            ],
            "text/plain": [
              "   table                     _time  ...            id              label\n",
              "0      0 2021-06-12 18:00:00+00:00  ...  d073d55e535c  LIFX White 5E535C\n",
              "1      0 2021-06-12 19:00:00+00:00  ...  d073d55e535c  LIFX White 5E535C\n",
              "2      0 2021-06-12 20:00:00+00:00  ...  d073d55e535c  LIFX White 5E535C\n",
              "3      0 2021-06-12 21:00:00+00:00  ...  d073d55e535c  LIFX White 5E535C\n",
              "4      0 2021-06-12 22:00:00+00:00  ...  d073d55e535c  LIFX White 5E535C\n",
              "\n",
              "[5 rows x 7 columns]"
            ]
          },
          "metadata": {},
          "execution_count": 5
        }
      ]
    },
    {
      "cell_type": "code",
      "metadata": {
        "colab": {
          "base_uri": "https://localhost:8080/"
        },
        "id": "qWIGEzwgWBEp",
        "outputId": "e7e46f2d-a736-4650-ac88-ea0009a31793"
      },
      "source": [
        "bulb_data.count()"
      ],
      "execution_count": 6,
      "outputs": [
        {
          "output_type": "execute_result",
          "data": {
            "text/plain": [
              "table           2163\n",
              "_time           2163\n",
              "_value           280\n",
              "_field          2163\n",
              "_measurement    2163\n",
              "id              2163\n",
              "label           2163\n",
              "dtype: int64"
            ]
          },
          "metadata": {},
          "execution_count": 6
        }
      ]
    },
    {
      "cell_type": "code",
      "metadata": {
        "colab": {
          "base_uri": "https://localhost:8080/"
        },
        "id": "WpBSpgGhYxqC",
        "outputId": "84aa765c-700e-4821-8258-6329506eafd3"
      },
      "source": [
        "### 3 different tables with equally-distributed samples\n",
        "bulb_data['table'].value_counts()"
      ],
      "execution_count": 7,
      "outputs": [
        {
          "output_type": "execute_result",
          "data": {
            "text/plain": [
              "1    721\n",
              "2    721\n",
              "0    721\n",
              "Name: table, dtype: int64"
            ]
          },
          "metadata": {},
          "execution_count": 7
        }
      ]
    },
    {
      "cell_type": "code",
      "metadata": {
        "colab": {
          "base_uri": "https://localhost:8080/"
        },
        "id": "leopwZSMZGVz",
        "outputId": "dc645aa2-1c8f-4f5f-bba2-e21d2bc425e5"
      },
      "source": [
        "### Only two unique ids - one has twice as many samples as the other?\n",
        "### Assuming each light bulb has its own id?\n",
        "bulb_data['id'].value_counts()"
      ],
      "execution_count": 8,
      "outputs": [
        {
          "output_type": "execute_result",
          "data": {
            "text/plain": [
              "d073d55e535c    1442\n",
              "d073d55df12f     721\n",
              "Name: id, dtype: int64"
            ]
          },
          "metadata": {},
          "execution_count": 8
        }
      ]
    },
    {
      "cell_type": "code",
      "metadata": {
        "colab": {
          "base_uri": "https://localhost:8080/"
        },
        "id": "jZUYmFZPZSaR",
        "outputId": "62fb2357-1ca0-461d-b537-b1b54fb120d5"
      },
      "source": [
        "bulb_data['_field'].value_counts()"
      ],
      "execution_count": 9,
      "outputs": [
        {
          "output_type": "execute_result",
          "data": {
            "text/plain": [
              "brightness    2163\n",
              "Name: _field, dtype: int64"
            ]
          },
          "metadata": {},
          "execution_count": 9
        }
      ]
    },
    {
      "cell_type": "code",
      "metadata": {
        "colab": {
          "base_uri": "https://localhost:8080/"
        },
        "id": "2knr17EO00gQ",
        "outputId": "efad2abe-c984-4815-dc42-d4789d93ea45"
      },
      "source": [
        "bulb_data['_value'].value_counts()"
      ],
      "execution_count": 10,
      "outputs": [
        {
          "output_type": "execute_result",
          "data": {
            "text/plain": [
              "1.000000    148\n",
              "0.085400     44\n",
              "0.447200     38\n",
              "0.417387      3\n",
              "0.968750      3\n",
              "0.983333      3\n",
              "0.439747      3\n",
              "0.982143      3\n",
              "0.962963      3\n",
              "0.916667      2\n",
              "0.083953      2\n",
              "0.928571      2\n",
              "0.439354      2\n",
              "0.430637      2\n",
              "0.492448      2\n",
              "0.083543      2\n",
              "0.980392      2\n",
              "0.435733      2\n",
              "0.857143      2\n",
              "0.976190      2\n",
              "0.933333      1\n",
              "0.433225      1\n",
              "0.427757      1\n",
              "0.956522      1\n",
              "0.778746      1\n",
              "0.439214      1\n",
              "0.223600      1\n",
              "0.972973      1\n",
              "0.500000      1\n",
              "0.972360      1\n",
              "Name: _value, dtype: int64"
            ]
          },
          "metadata": {},
          "execution_count": 10
        }
      ]
    },
    {
      "cell_type": "code",
      "metadata": {
        "colab": {
          "base_uri": "https://localhost:8080/"
        },
        "id": "XcXL8XJMa5bU",
        "outputId": "2b3b3098-d663-43a1-ebc1-6165841d2fbe"
      },
      "source": [
        "bulb_data['label'].value_counts()"
      ],
      "execution_count": 11,
      "outputs": [
        {
          "output_type": "execute_result",
          "data": {
            "text/plain": [
              "LIFX White 5E535C    721\n",
              "Light1               721\n",
              "Light2               721\n",
              "Name: label, dtype: int64"
            ]
          },
          "metadata": {},
          "execution_count": 11
        }
      ]
    },
    {
      "cell_type": "code",
      "metadata": {
        "colab": {
          "base_uri": "https://localhost:8080/"
        },
        "id": "IkPaNpqbd2Uk",
        "outputId": "d4b7c2a4-505a-4b96-afc7-4872e153c8d0"
      },
      "source": [
        "final_df = bulb_data[['id', '_time', '_value']]\n",
        "final_df.rename(columns={\"_time\": \"time\", \"_value\": \"value\"}, inplace=True)\n",
        "final_df.head()\n",
        "final_df.to_csv('smart_bulb_data_from_csv_june_july.csv')"
      ],
      "execution_count": 21,
      "outputs": [
        {
          "output_type": "stream",
          "name": "stderr",
          "text": [
            "/usr/local/lib/python3.7/dist-packages/pandas/core/frame.py:4308: SettingWithCopyWarning: \n",
            "A value is trying to be set on a copy of a slice from a DataFrame\n",
            "\n",
            "See the caveats in the documentation: https://pandas.pydata.org/pandas-docs/stable/user_guide/indexing.html#returning-a-view-versus-a-copy\n",
            "  errors=errors,\n"
          ]
        }
      ]
    },
    {
      "cell_type": "markdown",
      "metadata": {
        "id": "F4ZTe1tg2we-"
      },
      "source": [
        "Inspect values for a specific light bulb"
      ]
    },
    {
      "cell_type": "markdown",
      "metadata": {
        "id": "wMM7-6HoZtfz"
      },
      "source": [
        "Questions\n",
        "\n",
        "\n",
        "1.   What does the table id correspond to? Is it one table per bulb?\n",
        "2.   Why does one light bulb have twice as many samples as the other?\n",
        "3.   Is there a temperature field available? -> **Yes, in Kelvin but this static download only includes brightness**\n",
        "4.   Was there a third light bulb added? LIFX White 5E535C? -> **labels were switched halfway through the semester**\n",
        "5.   Most readings are missing - can we assume the brightness was 0 for these readings, as in the light was turned off? -> **yes**\n",
        "6.   One month's worth of data sampled every hour should = 730 records x 2 devices = 1,460 readings but there are 2,163?\n",
        "7.   Brightness field is continuous - makes sense because the bulb is dimmable but some values are really specific such as 0.083953. Should check with Nithiya on how the lights are being turned on? I thought the app allowed fixed intervals for brightness (0, 0.25, 0.5. 0.75, 1.0), etc?\n",
        "8.   Really large gaps where lights were off - for example bulb d073d55e535c was off from June 13th to June 17th? And again from July 1st to July 5th?\n",
        "9.   Large gaps between some of the readings - as much as 9 hours between two readings -> **uploads only happen when the bulb is on**\n",
        "\n"
      ]
    },
    {
      "cell_type": "markdown",
      "metadata": {
        "id": "K1PcZFwZ7GvK"
      },
      "source": [
        "Feature Engineering\n",
        "1. Replace nan values with 0 - assume bulbs were off\n",
        "2. Labels were changed halfway through the summer so LIFX White 5E535C corresponds to device d073d55e535c or Light 2\n",
        "3. Uploads only happen when the bulb is turned ON - so gaps in readings need to be artifically filled with 0's (assumed bulb is turned OFF)"
      ]
    },
    {
      "cell_type": "code",
      "metadata": {
        "id": "EOpierY7Z3j-"
      },
      "source": [
        ""
      ],
      "execution_count": null,
      "outputs": []
    }
  ]
}