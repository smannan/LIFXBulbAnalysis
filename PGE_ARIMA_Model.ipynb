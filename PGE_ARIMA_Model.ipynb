{
  "nbformat": 4,
  "nbformat_minor": 0,
  "metadata": {
    "colab": {
      "name": "PGE_ARIMA_Model.ipynb",
      "private_outputs": true,
      "provenance": [],
      "collapsed_sections": [],
      "authorship_tag": "ABX9TyOAQ6JrVAIWt6+07AJb3m0A",
      "include_colab_link": true
    },
    "kernelspec": {
      "name": "python3",
      "display_name": "Python 3"
    },
    "language_info": {
      "name": "python"
    },
    "accelerator": "GPU"
  },
  "cells": [
    {
      "cell_type": "markdown",
      "metadata": {
        "id": "view-in-github",
        "colab_type": "text"
      },
      "source": [
        "<a href=\"https://colab.research.google.com/github/smannan/LIFXBulbAnalysis/blob/main/PGE_ARIMA_Model.ipynb\" target=\"_parent\"><img src=\"https://colab.research.google.com/assets/colab-badge.svg\" alt=\"Open In Colab\"/></a>"
      ]
    },
    {
      "cell_type": "code",
      "metadata": {
        "id": "-eaes4Q1Y0TH"
      },
      "source": [
        "from google.colab import drive\n",
        "drive.mount('/content/drive')"
      ],
      "execution_count": null,
      "outputs": []
    },
    {
      "cell_type": "code",
      "metadata": {
        "id": "mXTOrDbqlK4D"
      },
      "source": [
        "!pip3 install pmdarima"
      ],
      "execution_count": null,
      "outputs": []
    },
    {
      "cell_type": "code",
      "metadata": {
        "id": "6v7NBaZ6ZSmg"
      },
      "source": [
        "import pandas as pd"
      ],
      "execution_count": null,
      "outputs": []
    },
    {
      "cell_type": "code",
      "metadata": {
        "id": "bZglzQA6YnGY"
      },
      "source": [
        "filename = '/content/drive/Shared drives/CMPE295B/ProcessedPGEData/pge_data_from_influx_2020-10-10-20_30_2021-10-01-00_00.csv'\n",
        "data = pd.read_csv(filename, infer_datetime_format = True).drop(['Unnamed: 0'], axis=1, inplace=False)\n",
        "data['timestamp'] = pd.to_datetime(data['timestamp'])"
      ],
      "execution_count": null,
      "outputs": []
    },
    {
      "cell_type": "code",
      "metadata": {
        "id": "cLznmGVeZRyG"
      },
      "source": [
        "data.head()"
      ],
      "execution_count": null,
      "outputs": []
    },
    {
      "cell_type": "code",
      "metadata": {
        "id": "QalZCn3cZVrj"
      },
      "source": [
        "print (\"total energy cost = {0}$ from {1} to {2}\".format(data['cost'].sum(), data['timestamp'].min(), data['timestamp'].max()))"
      ],
      "execution_count": null,
      "outputs": []
    },
    {
      "cell_type": "code",
      "metadata": {
        "id": "amRke3JFZZcv"
      },
      "source": [
        "print (\"total energy usage = {0} kWH from {1} to {2}\".format(data['usage'].sum(), data['timestamp'].min(), data['timestamp'].max()))"
      ],
      "execution_count": null,
      "outputs": []
    },
    {
      "cell_type": "code",
      "metadata": {
        "id": "s9Q48TGrZb6V"
      },
      "source": [
        "print (\"total readings in data frame {0}\".format(len(data)))"
      ],
      "execution_count": null,
      "outputs": []
    },
    {
      "cell_type": "code",
      "metadata": {
        "id": "oBO3FR6zZ3Mv"
      },
      "source": [
        "def drop_hours_from_timestamp(bulb_data):\n",
        "  bulb_data['timestamp'] = bulb_data['timestamp'].dt.strftime('%Y-%m-%d')\n",
        "  bulb_data['timestamp'] = pd.to_datetime(bulb_data['timestamp'])"
      ],
      "execution_count": null,
      "outputs": []
    },
    {
      "cell_type": "code",
      "metadata": {
        "id": "OeEHIhlraLWq"
      },
      "source": [
        "drop_hours_from_timestamp(data)"
      ],
      "execution_count": null,
      "outputs": []
    },
    {
      "cell_type": "markdown",
      "metadata": {
        "id": "stUXarNRbFG8"
      },
      "source": [
        "### Aggregate data daily"
      ]
    },
    {
      "cell_type": "code",
      "metadata": {
        "id": "hgn5IGHkaM5a"
      },
      "source": [
        "data_aggd = data.groupby(['timestamp']).agg({\n",
        "  'cost': 'sum',\n",
        "  'usage': 'sum'\n",
        "})\n",
        "data_aggd.reset_index(inplace=True)"
      ],
      "execution_count": null,
      "outputs": []
    },
    {
      "cell_type": "code",
      "metadata": {
        "id": "WIQv3IY8aN0_"
      },
      "source": [
        "print (\"total readings in data frame aggregated daily {0}\".format(len(data_aggd)))"
      ],
      "execution_count": null,
      "outputs": []
    },
    {
      "cell_type": "code",
      "metadata": {
        "id": "8fLirRt_abWq"
      },
      "source": [
        "data_aggd.head()"
      ],
      "execution_count": null,
      "outputs": []
    },
    {
      "cell_type": "markdown",
      "metadata": {
        "id": "WWf7FuBGbIvy"
      },
      "source": [
        "### Plot cost time series and view stats"
      ]
    },
    {
      "cell_type": "code",
      "metadata": {
        "id": "55RrRSONa_Z2"
      },
      "source": [
        "data_aggd['cost'].describe()"
      ],
      "execution_count": null,
      "outputs": []
    },
    {
      "cell_type": "code",
      "metadata": {
        "id": "7FmhRBagavbH"
      },
      "source": [
        "import matplotlib.pyplot as plt\n",
        "import matplotlib.dates as mdates\n",
        "\n",
        "plt.plot(data_aggd['timestamp'], data_aggd['cost'])\n",
        "plt.gcf().autofmt_xdate()\n",
        "plt.title('Household electricity daily cost over time')\n",
        "plt.ylabel('Cost in dollars')\n",
        "plt.xlabel('Time')\n",
        "plt.show()"
      ],
      "execution_count": null,
      "outputs": []
    },
    {
      "cell_type": "code",
      "metadata": {
        "id": "qFjds3zha3mC"
      },
      "source": [
        "from statsmodels.graphics.tsaplots import plot_acf\n",
        "plot_acf(data_aggd[['cost']], lags=60)\n",
        "plt.xlabel('Lag')\n",
        "plt.ylabel('Correlation')\n",
        "plt.show()"
      ],
      "execution_count": null,
      "outputs": []
    },
    {
      "cell_type": "code",
      "metadata": {
        "id": "i3jvyQkibRl4"
      },
      "source": [
        "def split_train_test(data, split=0.8):\n",
        "  arima_df = data[['timestamp', 'cost']]\n",
        "  arima_df.set_index('timestamp', drop=True, inplace=True)\n",
        "  values = arima_df.values\n",
        "  size = int(len(values) * split)\n",
        "  train = values[:size]\n",
        "  test = values[size:]\n",
        "  return (train, test)"
      ],
      "execution_count": null,
      "outputs": []
    },
    {
      "cell_type": "code",
      "metadata": {
        "id": "y4dmk2nHiW62"
      },
      "source": [
        "train, test = split_train_test(data_aggd)\n",
        "print (len(train), len(test))"
      ],
      "execution_count": null,
      "outputs": []
    },
    {
      "cell_type": "code",
      "metadata": {
        "id": "VDfSgDduih4h"
      },
      "source": [
        "from pmdarima.arima import ADFTest\n",
        "ADFTest(alpha = 0.05).should_diff(train)"
      ],
      "execution_count": null,
      "outputs": []
    },
    {
      "cell_type": "code",
      "metadata": {
        "id": "ffyRoAmAjGrW"
      },
      "source": [
        "from pmdarima.arima import auto_arima\n",
        "\n",
        "auto_arima_model = auto_arima(train)\n",
        "auto_arima_model.summary()"
      ],
      "execution_count": null,
      "outputs": []
    },
    {
      "cell_type": "code",
      "metadata": {
        "id": "bXXtIiMvjOfM"
      },
      "source": [
        "from statsmodels.tsa.arima.model import ARIMA\n",
        "from statsmodels.tsa.statespace.sarimax import SARIMAX\n",
        "from sklearn.metrics import mean_squared_error\n",
        "from math import sqrt\n",
        "\n",
        "def rolling_predictions(train, test, order, modelType='ARIMA'):\n",
        "  # put training points in a list\n",
        "  history = [x for x in train]\n",
        "  # for storing predictions\n",
        "  predictions = list()\n",
        "\n",
        "  # walk-forward validation\n",
        "  for t in range(len(test)):\n",
        "    # fit new model each iteration based on all past data points\n",
        "    # get the next datapoint and add it to predictions\n",
        "    if (modelType == 'SARIMAX'):\n",
        "      model = SARIMAX(history, order=order).fit()\n",
        "    else:\n",
        "      model = ARIMA(history, order=order).fit()\n",
        "    \n",
        "    output = model.forecast()[0]\n",
        "    \n",
        "    predictions.append(output)\n",
        "    history.append(test[t])\n",
        "\n",
        "  rmse = sqrt(mean_squared_error(test, predictions))\n",
        "  return (predictions, rmse)"
      ],
      "execution_count": null,
      "outputs": []
    },
    {
      "cell_type": "code",
      "metadata": {
        "id": "cdxCOPQQw3EK"
      },
      "source": [
        "predictions_sarimax, rmse_sarimax = rolling_predictions(train, test, order=(0, 1, 2), modelType='SARIMAX')"
      ],
      "execution_count": null,
      "outputs": []
    },
    {
      "cell_type": "code",
      "metadata": {
        "id": "zXbE3hCzx75w"
      },
      "source": [
        "def plot_preds(test, predictions):\n",
        "  plt.title('Daily household energy cost predictions')\n",
        "  plt.xlabel('Timestep (days)')\n",
        "  plt.ylabel('Cost in Dollars')\n",
        "  plt.plot(test)\n",
        "  plt.plot(predictions, color='red')\n",
        "  plt.show()"
      ],
      "execution_count": null,
      "outputs": []
    },
    {
      "cell_type": "code",
      "metadata": {
        "id": "ahDMVAo0yAVI"
      },
      "source": [
        "plot_preds(test, predictions_sarimax)\n",
        "print (rmse_sarimax)"
      ],
      "execution_count": null,
      "outputs": []
    },
    {
      "cell_type": "code",
      "metadata": {
        "id": "vKQa63eI3PnB"
      },
      "source": [
        "predictions_arima, rmse_arima = rolling_predictions(train, test, order=(7, 1, 2), modelType='ARIMA')"
      ],
      "execution_count": null,
      "outputs": []
    },
    {
      "cell_type": "code",
      "metadata": {
        "id": "QHNADU2ad9rG"
      },
      "source": [
        "plot_preds(test, predictions_arima)\n",
        "print (rmse_arima)"
      ],
      "execution_count": null,
      "outputs": []
    },
    {
      "cell_type": "markdown",
      "metadata": {
        "id": "xWYy62NBd4rI"
      },
      "source": [
        "- SARIMAX(0, 1, 2) = 0.6299 RMSE\n",
        "- ARIMA (7, 1, 2) = 0.6413 RMSE"
      ]
    },
    {
      "cell_type": "code",
      "metadata": {
        "id": "D5Xdq7PpjJur"
      },
      "source": [
        ""
      ],
      "execution_count": null,
      "outputs": []
    }
  ]
}