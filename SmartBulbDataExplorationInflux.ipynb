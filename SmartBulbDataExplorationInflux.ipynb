{
  "nbformat": 4,
  "nbformat_minor": 0,
  "metadata": {
    "colab": {
      "name": "SmartBulbDataExplorationInflux.ipynb",
      "provenance": [],
      "collapsed_sections": [],
      "include_colab_link": true
    },
    "kernelspec": {
      "name": "python3",
      "display_name": "Python 3"
    },
    "language_info": {
      "name": "python"
    }
  },
  "cells": [
    {
      "cell_type": "markdown",
      "metadata": {
        "id": "view-in-github",
        "colab_type": "text"
      },
      "source": [
        "<a href=\"https://colab.research.google.com/github/smannan/LIFXBulbAnalysis/blob/main/SmartBulbDataExplorationInflux.ipynb\" target=\"_parent\"><img src=\"https://colab.research.google.com/assets/colab-badge.svg\" alt=\"Open In Colab\"/></a>"
      ]
    },
    {
      "cell_type": "markdown",
      "metadata": {
        "id": "9eYo94UTNtOX"
      },
      "source": [
        "### Query LIFX bulb data from an Influx DB client\n",
        "\n",
        "1.   LIFX API spec: https://api.developer.lifx.com/docs/list-lights\n",
        "2.   Visualize bulb brightness and power over time\n",
        "3.   Will need Influx acces token, org, and bucket\n",
        "4.   For info on Influx python client: https://docs.influxdata.com/influxdb/cloud/api-guide/client-libraries/python/"
      ]
    },
    {
      "cell_type": "code",
      "metadata": {
        "colab": {
          "base_uri": "https://localhost:8080/",
          "height": 408
        },
        "id": "GgTFb4TGl1yb",
        "outputId": "03561072-eb9c-4723-8d6f-ab555e247ad4"
      },
      "source": [
        "pip install influxdb-client"
      ],
      "execution_count": null,
      "outputs": [
        {
          "output_type": "stream",
          "text": [
            "Collecting influxdb-client\n",
            "\u001b[?25l  Downloading https://files.pythonhosted.org/packages/6b/0e/5c5a9a2da144fae80b23dd9741175493d8dbeabd17d23e5aff27c92dbfd5/influxdb_client-1.17.0-py3-none-any.whl (450kB)\n",
            "\u001b[K     |████████████████████████████████| 460kB 9.4MB/s \n",
            "\u001b[?25hCollecting rx>=3.0.1\n",
            "\u001b[?25l  Downloading https://files.pythonhosted.org/packages/e2/a9/efeaeca4928a9a56d04d609b5730994d610c82cf4d9dd7aa173e6ef4233e/Rx-3.2.0-py3-none-any.whl (199kB)\n",
            "\u001b[K     |████████████████████████████████| 204kB 19.3MB/s \n",
            "\u001b[?25hRequirement already satisfied: certifi>=14.05.14 in /usr/local/lib/python3.7/dist-packages (from influxdb-client) (2020.12.5)\n",
            "Requirement already satisfied: urllib3>=1.15.1 in /usr/local/lib/python3.7/dist-packages (from influxdb-client) (1.24.3)\n",
            "Requirement already satisfied: python-dateutil>=2.5.3 in /usr/local/lib/python3.7/dist-packages (from influxdb-client) (2.8.1)\n",
            "Requirement already satisfied: setuptools>=21.0.0 in /usr/local/lib/python3.7/dist-packages (from influxdb-client) (56.1.0)\n",
            "Requirement already satisfied: six>=1.10 in /usr/local/lib/python3.7/dist-packages (from influxdb-client) (1.15.0)\n",
            "Collecting pytz>=2019.1\n",
            "\u001b[?25l  Downloading https://files.pythonhosted.org/packages/70/94/784178ca5dd892a98f113cdd923372024dc04b8d40abe77ca76b5fb90ca6/pytz-2021.1-py2.py3-none-any.whl (510kB)\n",
            "\u001b[K     |████████████████████████████████| 512kB 23.9MB/s \n",
            "\u001b[?25hInstalling collected packages: rx, pytz, influxdb-client\n",
            "  Found existing installation: pytz 2018.9\n",
            "    Uninstalling pytz-2018.9:\n",
            "      Successfully uninstalled pytz-2018.9\n",
            "Successfully installed influxdb-client-1.17.0 pytz-2021.1 rx-3.2.0\n"
          ],
          "name": "stdout"
        },
        {
          "output_type": "display_data",
          "data": {
            "application/vnd.colab-display-data+json": {
              "pip_warning": {
                "packages": [
                  "pytz"
                ]
              }
            }
          },
          "metadata": {
            "tags": []
          }
        }
      ]
    },
    {
      "cell_type": "code",
      "metadata": {
        "id": "88n_zD0DsjLl"
      },
      "source": [
        "POWER_ENUM = { 'on': 1, 'off': 0 }"
      ],
      "execution_count": null,
      "outputs": []
    },
    {
      "cell_type": "code",
      "metadata": {
        "id": "XKWYBwYGtkBW"
      },
      "source": [
        "import pandas as pd"
      ],
      "execution_count": null,
      "outputs": []
    },
    {
      "cell_type": "markdown",
      "metadata": {
        "id": "kgmLeVLROZVY"
      },
      "source": [
        "Create Influxe DB client"
      ]
    },
    {
      "cell_type": "code",
      "metadata": {
        "id": "FGHMvsRwl6-5"
      },
      "source": [
        "from datetime import datetime\n",
        "\n",
        "from influxdb_client import InfluxDBClient, Point, WritePrecision\n",
        "\n",
        "# You can generate a Token from the \"Tokens Tab\" in the UI\n",
        "# https://us-central1-1.gcp.cloud2.influxdata.com/orgs/a33284f1a3112d0e/data-explorer\n",
        "token = \"BMNyseUoGWt6hU5tHxgYh6jyEkAYXAX514CIUtWhHmdu9nshYBAk75Oc1YBJOp84WyFL_4HIxdgkSkTpXvl_NA==\"\n",
        "org = \"praveenkumar23.anguru@gmail.com\"\n",
        "bucket = \"SmartBulbData\"\n",
        "\n",
        "client = InfluxDBClient(url=\"https://us-central1-1.gcp.cloud2.influxdata.com\", token=token, verify_ssl=False)"
      ],
      "execution_count": null,
      "outputs": []
    },
    {
      "cell_type": "code",
      "metadata": {
        "id": "rsHht22mrMuk"
      },
      "source": [
        "### Print number of tables, records per table, and example record for each\n",
        "### table returned by a query\n",
        "def print_table_stats(tables):\n",
        "  # one table per light bulb\n",
        "  print ('Num tables {0}\\n'.format(len(tables)))\n",
        "  for table in tables:\n",
        "    print ('Num records in table {0}'.format(len(table.records)))\n",
        "    if len(table.records) > 0:\n",
        "      record = table.records[0]\n",
        "      print ('Sample record {0}, {1}\\n'.format(record.get_field(), record.get_value()))"
      ],
      "execution_count": 3,
      "outputs": []
    },
    {
      "cell_type": "code",
      "metadata": {
        "id": "fS6izJ_xqUMA"
      },
      "source": [
        "### Query a week's worth of data from an Influx db bucket for a specific field\n",
        "def query_field(field):\n",
        "  query = f'from(bucket: \\\"{bucket}\\\") |> range(start: -7d) |> filter(fn:(r) => r._field == \\\"{field}\\\" )'\n",
        "  print (query)\n",
        "  tables = client.query_api().query(query, org=org)\n",
        "  print_table_stats(tables)\n",
        "  return tables"
      ],
      "execution_count": null,
      "outputs": []
    },
    {
      "cell_type": "markdown",
      "metadata": {
        "id": "ru-KiyrUO0j3"
      },
      "source": [
        "Get a week's worth of power data from the database"
      ]
    },
    {
      "cell_type": "code",
      "metadata": {
        "colab": {
          "base_uri": "https://localhost:8080/"
        },
        "id": "QKQ66C4Kre8r",
        "outputId": "e2bb7c9c-3dbd-4ad7-eb8c-794672385821"
      },
      "source": [
        "power_tables = query_field('power')"
      ],
      "execution_count": null,
      "outputs": [
        {
          "output_type": "stream",
          "text": [
            "from(bucket: \"SmartBulbData\") |> range(start: -7d) |> filter(fn:(r) => r._field == \"power\" )\n"
          ],
          "name": "stdout"
        },
        {
          "output_type": "stream",
          "text": [
            "/usr/local/lib/python3.7/dist-packages/urllib3/connectionpool.py:847: InsecureRequestWarning: Unverified HTTPS request is being made. Adding certificate verification is strongly advised. See: https://urllib3.readthedocs.io/en/latest/advanced-usage.html#ssl-warnings\n",
            "  InsecureRequestWarning)\n"
          ],
          "name": "stderr"
        },
        {
          "output_type": "stream",
          "text": [
            "Num tables 2\n",
            "\n",
            "Num records in table 4041\n",
            "Sample record power, off\n",
            "\n",
            "Num records in table 4039\n",
            "Sample record power, off\n",
            "\n"
          ],
          "name": "stdout"
        }
      ]
    },
    {
      "cell_type": "code",
      "metadata": {
        "id": "oWI9U9HQrm6W"
      },
      "source": [
        "# table_id = 0 or 1 depending on which bulb\n",
        "### Put the each record's value and time information into a pandas dataframe\n",
        "def get_field_values_from_flux(field, table_id):\n",
        "  tables = query_field(field)\n",
        "  field_values = []\n",
        "  table = tables[table_id]\n",
        "\n",
        "  for record in table.records:\n",
        "    value = record.get_value()\n",
        "    # if field == 'power':\n",
        "    #  value = POWER_ENUM[value]\n",
        "\n",
        "    field_values.append({\n",
        "        'timestamp': record.get_time(),\n",
        "        'year': record.get_time().date().year,\n",
        "        'month': record.get_time().date().month,\n",
        "        'day': record.get_time().date().day,\n",
        "        'hour': record.get_time().hour,\n",
        "        'minute': record.get_time().minute,\n",
        "        'value': value\n",
        "    })\n",
        "\n",
        "  print ('Extracted {0} values'.format(len(field_values)))\n",
        "  print ('Sample {0}\\n'.format(field_values[0]))\n",
        "\n",
        "  field_values = pd.DataFrame(field_values)\n",
        "  print ('Earliest: {0}'.format(field_values['timestamp'].min()))\n",
        "  print ('Latest: {0}'.format(field_values['timestamp'].max()))\n",
        "\n",
        "  return field_values"
      ],
      "execution_count": null,
      "outputs": []
    },
    {
      "cell_type": "markdown",
      "metadata": {
        "id": "sxOEx2QPPleE"
      },
      "source": [
        "Put a week's worth of power data into a pandas dataframe"
      ]
    },
    {
      "cell_type": "code",
      "metadata": {
        "colab": {
          "base_uri": "https://localhost:8080/"
        },
        "id": "UaWp9YR8mMAO",
        "outputId": "21bd2147-0140-4f46-a583-aed49df684f2"
      },
      "source": [
        "power_values = get_field_values_from_flux('power', 0)\n",
        "power_values_1 = get_field_values_from_flux('power', 1)"
      ],
      "execution_count": null,
      "outputs": [
        {
          "output_type": "stream",
          "text": [
            "from(bucket: \"SmartBulbData\") |> range(start: -7d) |> filter(fn:(r) => r._field == \"power\" )\n"
          ],
          "name": "stdout"
        },
        {
          "output_type": "stream",
          "text": [
            "/usr/local/lib/python3.7/dist-packages/urllib3/connectionpool.py:847: InsecureRequestWarning: Unverified HTTPS request is being made. Adding certificate verification is strongly advised. See: https://urllib3.readthedocs.io/en/latest/advanced-usage.html#ssl-warnings\n",
            "  InsecureRequestWarning)\n"
          ],
          "name": "stderr"
        },
        {
          "output_type": "stream",
          "text": [
            "Num tables 2\n",
            "\n",
            "Num records in table 4041\n",
            "Sample record power, off\n",
            "\n",
            "Num records in table 4039\n",
            "Sample record power, off\n",
            "\n",
            "Extracted 4041 values\n",
            "Sample {'timestamp': datetime.datetime(2021, 5, 1, 2, 38, 1, tzinfo=tzlocal()), 'year': 2021, 'month': 5, 'day': 1, 'hour': 2, 'minute': 38, 'value': 'off'}\n",
            "\n",
            "Earliest: 2021-05-01 02:38:01+00:00\n",
            "Latest: 2021-05-07 08:10:04+00:00\n",
            "from(bucket: \"SmartBulbData\") |> range(start: -7d) |> filter(fn:(r) => r._field == \"power\" )\n"
          ],
          "name": "stdout"
        },
        {
          "output_type": "stream",
          "text": [
            "/usr/local/lib/python3.7/dist-packages/urllib3/connectionpool.py:847: InsecureRequestWarning: Unverified HTTPS request is being made. Adding certificate verification is strongly advised. See: https://urllib3.readthedocs.io/en/latest/advanced-usage.html#ssl-warnings\n",
            "  InsecureRequestWarning)\n"
          ],
          "name": "stderr"
        },
        {
          "output_type": "stream",
          "text": [
            "Num tables 2\n",
            "\n",
            "Num records in table 4039\n",
            "Sample record power, off\n",
            "\n",
            "Num records in table 4041\n",
            "Sample record power, off\n",
            "\n",
            "Extracted 4041 values\n",
            "Sample {'timestamp': datetime.datetime(2021, 5, 1, 2, 38, 1, tzinfo=tzlocal()), 'year': 2021, 'month': 5, 'day': 1, 'hour': 2, 'minute': 38, 'value': 'off'}\n",
            "\n",
            "Earliest: 2021-05-01 02:38:01+00:00\n",
            "Latest: 2021-05-07 08:10:04+00:00\n"
          ],
          "name": "stdout"
        }
      ]
    },
    {
      "cell_type": "code",
      "metadata": {
        "id": "5v7X1AMX4oW5"
      },
      "source": [
        "def plot_cycle(series):\n",
        "  import matplotlib.pyplot as plt\n",
        "  from datetime import datetime, timedelta\n",
        "  import matplotlib.dates as dates\n",
        "\n",
        "  fig, ax = plt.subplots(figsize=(10, 5))\n",
        "  fig.autofmt_xdate(rotation=45)\n",
        "  ax.xaxis_date()\n",
        "  date_format = dates.DateFormatter('%m-%d %H:%m')\n",
        "  ax.xaxis.set_major_formatter(date_format)\n",
        "  plt.tight_layout()\n",
        "  plt.step(series['timestamp'], series['value'])\n",
        "  plt.show(fig)"
      ],
      "execution_count": null,
      "outputs": []
    },
    {
      "cell_type": "markdown",
      "metadata": {
        "id": "7VN2oOSG61ZH"
      },
      "source": [
        "## When is the power used most by the light bulbs?"
      ]
    },
    {
      "cell_type": "code",
      "metadata": {
        "colab": {
          "base_uri": "https://localhost:8080/",
          "height": 365
        },
        "id": "huiIfb_68n8A",
        "outputId": "d4e14313-dffe-4cf3-c11d-e97af527ca11"
      },
      "source": [
        "plot_cycle(power_values)"
      ],
      "execution_count": null,
      "outputs": [
        {
          "output_type": "display_data",
          "data": {
            "image/png": "[encoded data removed]",
            "text/plain": [
              "<Figure size 720x360 with 1 Axes>"
            ]
          },
          "metadata": {
            "tags": [],
            "needs_background": "light"
          }
        }
      ]
    },
    {
      "cell_type": "code",
      "metadata": {
        "colab": {
          "base_uri": "https://localhost:8080/",
          "height": 365
        },
        "id": "HjVeZ51eBmrq",
        "outputId": "bcd287ee-18c6-4ad5-efe0-82c48d88337b"
      },
      "source": [
        "plot_cycle(power_values_1)"
      ],
      "execution_count": null,
      "outputs": [
        {
          "output_type": "display_data",
          "data": {
            "image/png": "[encoded data removed]",
            "text/plain": [
              "<Figure size 720x360 with 1 Axes>"
            ]
          },
          "metadata": {
            "tags": [],
            "needs_background": "light"
          }
        }
      ]
    },
    {
      "cell_type": "code",
      "metadata": {
        "id": "A7Kh5etmztti"
      },
      "source": [
        "from pytz import timezone\n",
        "import pytz\n",
        "import datetime\n",
        "\n",
        "### Plot intervals usage based on state change in the bulb (ON to OFF or vice versa)\n",
        "def get_power_intervals(power_values):\n",
        "  intervals = []\n",
        "  cycle = power_values['value'][0]\n",
        "  start = power_values['timestamp'][0]\n",
        "\n",
        "  for value, timestamp in zip(power_values['value'][1:], power_values['timestamp'][1:]):\n",
        "    if value != cycle:\n",
        "      duration = timestamp - start\n",
        "      duration = round(duration.total_seconds() / 60 / 60, 2)\n",
        "      \n",
        "      #converting utc to pdt  - { 'start': start.strftime(\"%m/%d/%Y, %H:%M:%S\"),\n",
        "      start_date = start.astimezone(timezone('US/Pacific'))\n",
        "      end_date = timestamp.astimezone(timezone('US/Pacific'))\n",
        "\n",
        "      intervals.append({ 'start': start_date.strftime('%m/%d/%Y %H:%M:%S %Z'),\n",
        "                         'end': end_date.strftime('%m/%d/%Y %H:%M:%S %Z'),\n",
        "                         'from': cycle,\n",
        "                         'to': value,\n",
        "                         'duration': duration})\n",
        "      cycle = value\n",
        "      start = timestamp\n",
        "\n",
        "  return pd.DataFrame(intervals)"
      ],
      "execution_count": 4,
      "outputs": []
    },
    {
      "cell_type": "markdown",
      "metadata": {
        "id": "l4zINosvQB9k"
      },
      "source": [
        "When are light tpyically turned on?\n",
        "How long are lights typically on for?"
      ]
    },
    {
      "cell_type": "code",
      "metadata": {
        "id": "dnBcItv12AJ7"
      },
      "source": [
        "intervals = get_power_intervals(power_values)"
      ],
      "execution_count": null,
      "outputs": []
    },
    {
      "cell_type": "code",
      "metadata": {
        "colab": {
          "base_uri": "https://localhost:8080/",
          "height": 507
        },
        "id": "iaYkSebA2Cma",
        "outputId": "f8a3a81a-b545-479f-86b5-419617823988"
      },
      "source": [
        "on = intervals.where(intervals['from'] == 'off')\n",
        "on = on.where(intervals['to'] == 'on')\n",
        "on.dropna(inplace=True)\n",
        "on"
      ],
      "execution_count": null,
      "outputs": [
        {
          "output_type": "execute_result",
          "data": {
            "text/html": [
              "<div>\n",
              "<style scoped>\n",
              "    .dataframe tbody tr th:only-of-type {\n",
              "        vertical-align: middle;\n",
              "    }\n",
              "\n",
              "    .dataframe tbody tr th {\n",
              "        vertical-align: top;\n",
              "    }\n",
              "\n",
              "    .dataframe thead th {\n",
              "        text-align: right;\n",
              "    }\n",
              "</style>\n",
              "<table border=\"1\" class=\"dataframe\">\n",
              "  <thead>\n",
              "    <tr style=\"text-align: right;\">\n",
              "      <th></th>\n",
              "      <th>start</th>\n",
              "      <th>end</th>\n",
              "      <th>from</th>\n",
              "      <th>to</th>\n",
              "      <th>duration</th>\n",
              "    </tr>\n",
              "  </thead>\n",
              "  <tbody>\n",
              "    <tr>\n",
              "      <th>0</th>\n",
              "      <td>04/30/2021 19:38:01 PDT</td>\n",
              "      <td>04/30/2021 19:39:00 PDT</td>\n",
              "      <td>off</td>\n",
              "      <td>on</td>\n",
              "      <td>0.02</td>\n",
              "    </tr>\n",
              "    <tr>\n",
              "      <th>2</th>\n",
              "      <td>05/01/2021 02:38:01 PDT</td>\n",
              "      <td>05/01/2021 20:22:01 PDT</td>\n",
              "      <td>off</td>\n",
              "      <td>on</td>\n",
              "      <td>17.73</td>\n",
              "    </tr>\n",
              "    <tr>\n",
              "      <th>4</th>\n",
              "      <td>05/01/2021 20:23:01 PDT</td>\n",
              "      <td>05/01/2021 20:24:01 PDT</td>\n",
              "      <td>off</td>\n",
              "      <td>on</td>\n",
              "      <td>0.02</td>\n",
              "    </tr>\n",
              "    <tr>\n",
              "      <th>6</th>\n",
              "      <td>05/02/2021 22:49:01 PDT</td>\n",
              "      <td>05/02/2021 22:50:01 PDT</td>\n",
              "      <td>off</td>\n",
              "      <td>on</td>\n",
              "      <td>0.02</td>\n",
              "    </tr>\n",
              "    <tr>\n",
              "      <th>8</th>\n",
              "      <td>05/03/2021 18:13:00 PDT</td>\n",
              "      <td>05/03/2021 18:14:00 PDT</td>\n",
              "      <td>off</td>\n",
              "      <td>on</td>\n",
              "      <td>0.02</td>\n",
              "    </tr>\n",
              "    <tr>\n",
              "      <th>10</th>\n",
              "      <td>05/03/2021 18:22:00 PDT</td>\n",
              "      <td>05/03/2021 20:11:01 PDT</td>\n",
              "      <td>off</td>\n",
              "      <td>on</td>\n",
              "      <td>1.82</td>\n",
              "    </tr>\n",
              "    <tr>\n",
              "      <th>12</th>\n",
              "      <td>05/04/2021 01:31:01 PDT</td>\n",
              "      <td>05/04/2021 01:32:01 PDT</td>\n",
              "      <td>off</td>\n",
              "      <td>on</td>\n",
              "      <td>0.02</td>\n",
              "    </tr>\n",
              "    <tr>\n",
              "      <th>14</th>\n",
              "      <td>05/04/2021 01:33:01 PDT</td>\n",
              "      <td>05/04/2021 16:54:01 PDT</td>\n",
              "      <td>off</td>\n",
              "      <td>on</td>\n",
              "      <td>15.35</td>\n",
              "    </tr>\n",
              "    <tr>\n",
              "      <th>16</th>\n",
              "      <td>05/04/2021 18:40:01 PDT</td>\n",
              "      <td>05/04/2021 20:09:01 PDT</td>\n",
              "      <td>off</td>\n",
              "      <td>on</td>\n",
              "      <td>1.48</td>\n",
              "    </tr>\n",
              "    <tr>\n",
              "      <th>18</th>\n",
              "      <td>05/04/2021 23:17:01 PDT</td>\n",
              "      <td>05/04/2021 23:18:00 PDT</td>\n",
              "      <td>off</td>\n",
              "      <td>on</td>\n",
              "      <td>0.02</td>\n",
              "    </tr>\n",
              "    <tr>\n",
              "      <th>20</th>\n",
              "      <td>05/04/2021 23:50:01 PDT</td>\n",
              "      <td>05/05/2021 18:48:01 PDT</td>\n",
              "      <td>off</td>\n",
              "      <td>on</td>\n",
              "      <td>18.97</td>\n",
              "    </tr>\n",
              "    <tr>\n",
              "      <th>22</th>\n",
              "      <td>05/05/2021 19:25:01 PDT</td>\n",
              "      <td>05/05/2021 19:56:01 PDT</td>\n",
              "      <td>off</td>\n",
              "      <td>on</td>\n",
              "      <td>0.52</td>\n",
              "    </tr>\n",
              "    <tr>\n",
              "      <th>24</th>\n",
              "      <td>05/05/2021 19:57:01 PDT</td>\n",
              "      <td>05/05/2021 19:58:00 PDT</td>\n",
              "      <td>off</td>\n",
              "      <td>on</td>\n",
              "      <td>0.02</td>\n",
              "    </tr>\n",
              "    <tr>\n",
              "      <th>26</th>\n",
              "      <td>05/05/2021 22:08:00 PDT</td>\n",
              "      <td>05/05/2021 22:09:01 PDT</td>\n",
              "      <td>off</td>\n",
              "      <td>on</td>\n",
              "      <td>0.02</td>\n",
              "    </tr>\n",
              "    <tr>\n",
              "      <th>28</th>\n",
              "      <td>05/05/2021 23:08:01 PDT</td>\n",
              "      <td>05/06/2021 20:15:01 PDT</td>\n",
              "      <td>off</td>\n",
              "      <td>on</td>\n",
              "      <td>21.12</td>\n",
              "    </tr>\n",
              "    <tr>\n",
              "      <th>30</th>\n",
              "      <td>05/06/2021 22:58:01 PDT</td>\n",
              "      <td>05/06/2021 22:59:02 PDT</td>\n",
              "      <td>off</td>\n",
              "      <td>on</td>\n",
              "      <td>0.02</td>\n",
              "    </tr>\n",
              "  </tbody>\n",
              "</table>\n",
              "</div>"
            ],
            "text/plain": [
              "                      start                      end from  to  duration\n",
              "0   04/30/2021 19:38:01 PDT  04/30/2021 19:39:00 PDT  off  on      0.02\n",
              "2   05/01/2021 02:38:01 PDT  05/01/2021 20:22:01 PDT  off  on     17.73\n",
              "4   05/01/2021 20:23:01 PDT  05/01/2021 20:24:01 PDT  off  on      0.02\n",
              "6   05/02/2021 22:49:01 PDT  05/02/2021 22:50:01 PDT  off  on      0.02\n",
              "8   05/03/2021 18:13:00 PDT  05/03/2021 18:14:00 PDT  off  on      0.02\n",
              "10  05/03/2021 18:22:00 PDT  05/03/2021 20:11:01 PDT  off  on      1.82\n",
              "12  05/04/2021 01:31:01 PDT  05/04/2021 01:32:01 PDT  off  on      0.02\n",
              "14  05/04/2021 01:33:01 PDT  05/04/2021 16:54:01 PDT  off  on     15.35\n",
              "16  05/04/2021 18:40:01 PDT  05/04/2021 20:09:01 PDT  off  on      1.48\n",
              "18  05/04/2021 23:17:01 PDT  05/04/2021 23:18:00 PDT  off  on      0.02\n",
              "20  05/04/2021 23:50:01 PDT  05/05/2021 18:48:01 PDT  off  on     18.97\n",
              "22  05/05/2021 19:25:01 PDT  05/05/2021 19:56:01 PDT  off  on      0.52\n",
              "24  05/05/2021 19:57:01 PDT  05/05/2021 19:58:00 PDT  off  on      0.02\n",
              "26  05/05/2021 22:08:00 PDT  05/05/2021 22:09:01 PDT  off  on      0.02\n",
              "28  05/05/2021 23:08:01 PDT  05/06/2021 20:15:01 PDT  off  on     21.12\n",
              "30  05/06/2021 22:58:01 PDT  05/06/2021 22:59:02 PDT  off  on      0.02"
            ]
          },
          "metadata": {
            "tags": []
          },
          "execution_count": 21
        }
      ]
    },
    {
      "cell_type": "code",
      "metadata": {
        "colab": {
          "base_uri": "https://localhost:8080/"
        },
        "id": "zh1ciXwq2M9a",
        "outputId": "0fd3a93d-31af-4738-fbc9-c89a2969c161"
      },
      "source": [
        "print ('Min time on {0} hours'.format(on['duration'].min()))\n",
        "print ('Max time on {0} hours'.format(on['duration'].max()))\n",
        "print ('Avg time on {0} hours'.format(round(on['duration'].mean(), 2)))"
      ],
      "execution_count": null,
      "outputs": [
        {
          "output_type": "stream",
          "text": [
            "Min time on 0.02 hours\n",
            "Max time on 21.12 hours\n",
            "Avg time on 4.82 hours\n"
          ],
          "name": "stdout"
        }
      ]
    },
    {
      "cell_type": "markdown",
      "metadata": {
        "id": "Gb7jH-nv9Hv_"
      },
      "source": [
        "### Lights were turned on in the morning around 7 AM\n",
        "### They were left on for 14 hours\n",
        "### On average lights were on for 1.91 hours\n",
        "### Min time lights were left on was 1.2 minutes\n"
      ]
    },
    {
      "cell_type": "markdown",
      "metadata": {
        "id": "Ei9jSA1uQJ5v"
      },
      "source": [
        "When were the lights turned off?"
      ]
    },
    {
      "cell_type": "code",
      "metadata": {
        "colab": {
          "base_uri": "https://localhost:8080/",
          "height": 507
        },
        "id": "Xzq1tjMqFNeC",
        "outputId": "19ce88c9-bea2-4251-d566-c9cd6aa3514b"
      },
      "source": [
        "off = intervals.where(intervals['from'] == 'on')\n",
        "off = off.where(intervals['to'] == 'off')\n",
        "off.dropna(inplace=True)\n",
        "off"
      ],
      "execution_count": null,
      "outputs": [
        {
          "output_type": "execute_result",
          "data": {
            "text/html": [
              "<div>\n",
              "<style scoped>\n",
              "    .dataframe tbody tr th:only-of-type {\n",
              "        vertical-align: middle;\n",
              "    }\n",
              "\n",
              "    .dataframe tbody tr th {\n",
              "        vertical-align: top;\n",
              "    }\n",
              "\n",
              "    .dataframe thead th {\n",
              "        text-align: right;\n",
              "    }\n",
              "</style>\n",
              "<table border=\"1\" class=\"dataframe\">\n",
              "  <thead>\n",
              "    <tr style=\"text-align: right;\">\n",
              "      <th></th>\n",
              "      <th>start</th>\n",
              "      <th>end</th>\n",
              "      <th>from</th>\n",
              "      <th>to</th>\n",
              "      <th>duration</th>\n",
              "    </tr>\n",
              "  </thead>\n",
              "  <tbody>\n",
              "    <tr>\n",
              "      <th>1</th>\n",
              "      <td>04/30/2021 19:39:00 PDT</td>\n",
              "      <td>05/01/2021 02:38:01 PDT</td>\n",
              "      <td>on</td>\n",
              "      <td>off</td>\n",
              "      <td>6.98</td>\n",
              "    </tr>\n",
              "    <tr>\n",
              "      <th>3</th>\n",
              "      <td>05/01/2021 20:22:01 PDT</td>\n",
              "      <td>05/01/2021 20:23:01 PDT</td>\n",
              "      <td>on</td>\n",
              "      <td>off</td>\n",
              "      <td>0.02</td>\n",
              "    </tr>\n",
              "    <tr>\n",
              "      <th>5</th>\n",
              "      <td>05/01/2021 20:24:01 PDT</td>\n",
              "      <td>05/02/2021 22:49:01 PDT</td>\n",
              "      <td>on</td>\n",
              "      <td>off</td>\n",
              "      <td>26.42</td>\n",
              "    </tr>\n",
              "    <tr>\n",
              "      <th>7</th>\n",
              "      <td>05/02/2021 22:50:01 PDT</td>\n",
              "      <td>05/03/2021 18:13:00 PDT</td>\n",
              "      <td>on</td>\n",
              "      <td>off</td>\n",
              "      <td>19.38</td>\n",
              "    </tr>\n",
              "    <tr>\n",
              "      <th>9</th>\n",
              "      <td>05/03/2021 18:14:00 PDT</td>\n",
              "      <td>05/03/2021 18:22:00 PDT</td>\n",
              "      <td>on</td>\n",
              "      <td>off</td>\n",
              "      <td>0.13</td>\n",
              "    </tr>\n",
              "    <tr>\n",
              "      <th>11</th>\n",
              "      <td>05/03/2021 20:11:01 PDT</td>\n",
              "      <td>05/04/2021 01:31:01 PDT</td>\n",
              "      <td>on</td>\n",
              "      <td>off</td>\n",
              "      <td>5.33</td>\n",
              "    </tr>\n",
              "    <tr>\n",
              "      <th>13</th>\n",
              "      <td>05/04/2021 01:32:01 PDT</td>\n",
              "      <td>05/04/2021 01:33:01 PDT</td>\n",
              "      <td>on</td>\n",
              "      <td>off</td>\n",
              "      <td>0.02</td>\n",
              "    </tr>\n",
              "    <tr>\n",
              "      <th>15</th>\n",
              "      <td>05/04/2021 16:54:01 PDT</td>\n",
              "      <td>05/04/2021 18:40:01 PDT</td>\n",
              "      <td>on</td>\n",
              "      <td>off</td>\n",
              "      <td>1.77</td>\n",
              "    </tr>\n",
              "    <tr>\n",
              "      <th>17</th>\n",
              "      <td>05/04/2021 20:09:01 PDT</td>\n",
              "      <td>05/04/2021 23:17:01 PDT</td>\n",
              "      <td>on</td>\n",
              "      <td>off</td>\n",
              "      <td>3.13</td>\n",
              "    </tr>\n",
              "    <tr>\n",
              "      <th>19</th>\n",
              "      <td>05/04/2021 23:18:00 PDT</td>\n",
              "      <td>05/04/2021 23:50:01 PDT</td>\n",
              "      <td>on</td>\n",
              "      <td>off</td>\n",
              "      <td>0.53</td>\n",
              "    </tr>\n",
              "    <tr>\n",
              "      <th>21</th>\n",
              "      <td>05/05/2021 18:48:01 PDT</td>\n",
              "      <td>05/05/2021 19:25:01 PDT</td>\n",
              "      <td>on</td>\n",
              "      <td>off</td>\n",
              "      <td>0.62</td>\n",
              "    </tr>\n",
              "    <tr>\n",
              "      <th>23</th>\n",
              "      <td>05/05/2021 19:56:01 PDT</td>\n",
              "      <td>05/05/2021 19:57:01 PDT</td>\n",
              "      <td>on</td>\n",
              "      <td>off</td>\n",
              "      <td>0.02</td>\n",
              "    </tr>\n",
              "    <tr>\n",
              "      <th>25</th>\n",
              "      <td>05/05/2021 19:58:00 PDT</td>\n",
              "      <td>05/05/2021 22:08:00 PDT</td>\n",
              "      <td>on</td>\n",
              "      <td>off</td>\n",
              "      <td>2.17</td>\n",
              "    </tr>\n",
              "    <tr>\n",
              "      <th>27</th>\n",
              "      <td>05/05/2021 22:09:01 PDT</td>\n",
              "      <td>05/05/2021 23:08:01 PDT</td>\n",
              "      <td>on</td>\n",
              "      <td>off</td>\n",
              "      <td>0.98</td>\n",
              "    </tr>\n",
              "    <tr>\n",
              "      <th>29</th>\n",
              "      <td>05/06/2021 20:15:01 PDT</td>\n",
              "      <td>05/06/2021 22:58:01 PDT</td>\n",
              "      <td>on</td>\n",
              "      <td>off</td>\n",
              "      <td>2.72</td>\n",
              "    </tr>\n",
              "    <tr>\n",
              "      <th>31</th>\n",
              "      <td>05/06/2021 22:59:02 PDT</td>\n",
              "      <td>05/07/2021 00:05:01 PDT</td>\n",
              "      <td>on</td>\n",
              "      <td>off</td>\n",
              "      <td>1.10</td>\n",
              "    </tr>\n",
              "  </tbody>\n",
              "</table>\n",
              "</div>"
            ],
            "text/plain": [
              "                      start                      end from   to  duration\n",
              "1   04/30/2021 19:39:00 PDT  05/01/2021 02:38:01 PDT   on  off      6.98\n",
              "3   05/01/2021 20:22:01 PDT  05/01/2021 20:23:01 PDT   on  off      0.02\n",
              "5   05/01/2021 20:24:01 PDT  05/02/2021 22:49:01 PDT   on  off     26.42\n",
              "7   05/02/2021 22:50:01 PDT  05/03/2021 18:13:00 PDT   on  off     19.38\n",
              "9   05/03/2021 18:14:00 PDT  05/03/2021 18:22:00 PDT   on  off      0.13\n",
              "11  05/03/2021 20:11:01 PDT  05/04/2021 01:31:01 PDT   on  off      5.33\n",
              "13  05/04/2021 01:32:01 PDT  05/04/2021 01:33:01 PDT   on  off      0.02\n",
              "15  05/04/2021 16:54:01 PDT  05/04/2021 18:40:01 PDT   on  off      1.77\n",
              "17  05/04/2021 20:09:01 PDT  05/04/2021 23:17:01 PDT   on  off      3.13\n",
              "19  05/04/2021 23:18:00 PDT  05/04/2021 23:50:01 PDT   on  off      0.53\n",
              "21  05/05/2021 18:48:01 PDT  05/05/2021 19:25:01 PDT   on  off      0.62\n",
              "23  05/05/2021 19:56:01 PDT  05/05/2021 19:57:01 PDT   on  off      0.02\n",
              "25  05/05/2021 19:58:00 PDT  05/05/2021 22:08:00 PDT   on  off      2.17\n",
              "27  05/05/2021 22:09:01 PDT  05/05/2021 23:08:01 PDT   on  off      0.98\n",
              "29  05/06/2021 20:15:01 PDT  05/06/2021 22:58:01 PDT   on  off      2.72\n",
              "31  05/06/2021 22:59:02 PDT  05/07/2021 00:05:01 PDT   on  off      1.10"
            ]
          },
          "metadata": {
            "tags": []
          },
          "execution_count": 23
        }
      ]
    },
    {
      "cell_type": "code",
      "metadata": {
        "id": "bd9A-_m_QRg9"
      },
      "source": [
        ""
      ],
      "execution_count": null,
      "outputs": []
    },
    {
      "cell_type": "markdown",
      "metadata": {
        "id": "ZMpy3JHkCTYa"
      },
      "source": [
        "## What's the average brightness\n",
        "### In terms of lumens? Ex: 50% = 50% of the total lumens available?\n",
        "### Fluctuated between 0 and 0.8\n",
        "### Approximately followed power cycle"
      ]
    },
    {
      "cell_type": "code",
      "metadata": {
        "colab": {
          "base_uri": "https://localhost:8080/"
        },
        "id": "9k7Yx5vH_HIh",
        "outputId": "ad9ced53-0e32-4014-b56f-dee84631b209"
      },
      "source": [
        "brightness = get_field_values_from_flux('brightness', 0)"
      ],
      "execution_count": null,
      "outputs": [
        {
          "output_type": "stream",
          "text": [
            "from(bucket: \"SmartBulbData\") |> range(start: -7d) |> filter(fn:(r) => r._field == \"brightness\" )\n"
          ],
          "name": "stdout"
        },
        {
          "output_type": "stream",
          "text": [
            "/usr/local/lib/python3.7/dist-packages/urllib3/connectionpool.py:847: InsecureRequestWarning: Unverified HTTPS request is being made. Adding certificate verification is strongly advised. See: https://urllib3.readthedocs.io/en/latest/advanced-usage.html#ssl-warnings\n",
            "  InsecureRequestWarning)\n"
          ],
          "name": "stderr"
        },
        {
          "output_type": "stream",
          "text": [
            "Num tables 2\n",
            "\n",
            "Num records in table 4041\n",
            "Sample record brightness, 0.0\n",
            "\n",
            "Num records in table 4039\n",
            "Sample record brightness, 0.0\n",
            "\n",
            "Extracted 4041 values\n",
            "Sample {'timestamp': datetime.datetime(2021, 5, 1, 2, 38, 1, tzinfo=tzlocal()), 'year': 2021, 'month': 5, 'day': 1, 'hour': 2, 'minute': 38, 'value': 0.0}\n",
            "\n",
            "Earliest: 2021-05-01 02:38:01+00:00\n",
            "Latest: 2021-05-07 08:10:04+00:00\n"
          ],
          "name": "stdout"
        }
      ]
    },
    {
      "cell_type": "code",
      "metadata": {
        "colab": {
          "base_uri": "https://localhost:8080/"
        },
        "id": "a8iL-8IdCa8z",
        "outputId": "06785671-ef11-4849-cca4-e0049e50bb15"
      },
      "source": [
        "# ON = 75% brightness\n",
        "brightness['value'].describe()"
      ],
      "execution_count": null,
      "outputs": [
        {
          "output_type": "execute_result",
          "data": {
            "text/plain": [
              "count    3827.000000\n",
              "mean        0.436997\n",
              "std         0.369149\n",
              "min         0.000000\n",
              "25%         0.122900\n",
              "50%         0.200000\n",
              "75%         1.000000\n",
              "max         1.000000\n",
              "Name: value, dtype: float64"
            ]
          },
          "metadata": {
            "tags": []
          },
          "execution_count": 24
        }
      ]
    },
    {
      "cell_type": "code",
      "metadata": {
        "colab": {
          "base_uri": "https://localhost:8080/",
          "height": 320
        },
        "id": "BravzNi_ChAY",
        "outputId": "dddff86a-9335-4e7d-804a-d554fba944c6"
      },
      "source": [
        "import matplotlib.pyplot as plt\n",
        "from datetime import datetime, timedelta\n",
        "import matplotlib.dates as dates\n",
        "\n",
        "fig, ax = plt.subplots(figsize=(10, 5))\n",
        "ax.hist(brightness['value'], bins=25)\n",
        "plt.show()"
      ],
      "execution_count": null,
      "outputs": [
        {
          "output_type": "display_data",
          "data": {
            "image/png": "[encoded data removed]",
            "text/plain": [
              "<Figure size 720x360 with 1 Axes>"
            ]
          },
          "metadata": {
            "tags": [],
            "needs_background": "light"
          }
        }
      ]
    },
    {
      "cell_type": "code",
      "metadata": {
        "colab": {
          "base_uri": "https://localhost:8080/",
          "height": 365
        },
        "id": "yz1MxE3qDb_L",
        "outputId": "35e6052c-bd90-49fa-dd56-315cc56ed347"
      },
      "source": [
        "plot_cycle(brightness)"
      ],
      "execution_count": null,
      "outputs": [
        {
          "output_type": "display_data",
          "data": {
            "image/png": "[encoded data removed]",
            "text/plain": [
              "<Figure size 720x360 with 1 Axes>"
            ]
          },
          "metadata": {
            "tags": [],
            "needs_background": "light"
          }
        }
      ]
    },
    {
      "cell_type": "code",
      "metadata": {
        "colab": {
          "base_uri": "https://localhost:8080/",
          "height": 365
        },
        "id": "CoWtExO8F5QJ",
        "outputId": "caacb6fa-db22-4def-c757-a9e924928291"
      },
      "source": [
        "plot_cycle(power_values)"
      ],
      "execution_count": null,
      "outputs": [
        {
          "output_type": "display_data",
          "data": {
            "image/png": "[encoded data removed]",
            "text/plain": [
              "<Figure size 720x360 with 1 Axes>"
            ]
          },
          "metadata": {
            "tags": [],
            "needs_background": "light"
          }
        }
      ]
    },
    {
      "cell_type": "code",
      "metadata": {
        "id": "bTyjBBc7GUNh"
      },
      "source": [
        ""
      ],
      "execution_count": null,
      "outputs": []
    }
  ]
}