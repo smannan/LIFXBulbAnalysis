{
  "nbformat": 4,
  "nbformat_minor": 0,
  "metadata": {
    "colab": {
      "name": "SmartBulbDataExploration.ipynb",
      "provenance": [],
      "collapsed_sections": [],
      "authorship_tag": "ABX9TyOQ3ppDXZIZlEBq/Ycz40nr",
      "include_colab_link": true
    },
    "kernelspec": {
      "name": "python3",
      "display_name": "Python 3"
    },
    "language_info": {
      "name": "python"
    }
  },
  "cells": [
    {
      "cell_type": "markdown",
      "metadata": {
        "id": "view-in-github",
        "colab_type": "text"
      },
      "source": [
        "<a href=\"https://colab.research.google.com/github/smannan/LIFXBulbAnalysis/blob/main/SmartBulbDataExploration.ipynb\" target=\"_parent\"><img src=\"https://colab.research.google.com/assets/colab-badge.svg\" alt=\"Open In Colab\"/></a>"
      ]
    },
    {
      "cell_type": "markdown",
      "metadata": {
        "id": "RWRwCxKzgTkg"
      },
      "source": [
        "Analyze brightness for Influx light bulbs\n",
        "\n",
        "1.   Input data frame should have 3 columns: bulb id, timestamp, and value\n",
        "2.   Supported values are power or brighness\n",
        "3.   Brightness value should be a floating point\n",
        "4.   Power should be ON or OFF\n",
        "\n"
      ]
    },
    {
      "cell_type": "code",
      "metadata": {
        "id": "Z2oIXIuXncOd"
      },
      "source": [
        "import matplotlib.pyplot as plt\n",
        "import os\n",
        "import pandas as pd\n",
        "\n",
        "from datetime import datetime\n",
        "from dateutil.parser import parse"
      ],
      "execution_count": 142,
      "outputs": []
    },
    {
      "cell_type": "code",
      "metadata": {
        "id": "dR1k_TYJl3xZ"
      },
      "source": [
        "import matplotlib.pyplot as plt\n",
        "from datetime import datetime, timedelta\n",
        "import matplotlib.dates as dates\n",
        "\n",
        "def plot_hist(bulb_df):\n",
        "  fig, ax = plt.subplots(figsize=(10, 5))\n",
        "  ax.hist(bulb_df['value'], bins=25)\n",
        "  plt.show()"
      ],
      "execution_count": 118,
      "outputs": []
    },
    {
      "cell_type": "code",
      "metadata": {
        "colab": {
          "base_uri": "https://localhost:8080/"
        },
        "id": "nr7uRee4nVgV",
        "outputId": "ada5f9a0-8282-4ea3-a219-fc774c2b6bf7"
      },
      "source": [
        "from google.colab import drive\n",
        "drive.mount('/content/drive')"
      ],
      "execution_count": 120,
      "outputs": [
        {
          "output_type": "stream",
          "name": "stdout",
          "text": [
            "Drive already mounted at /content/drive; to attempt to forcibly remount, call drive.mount(\"/content/drive\", force_remount=True).\n"
          ]
        }
      ]
    },
    {
      "cell_type": "code",
      "metadata": {
        "id": "_pSUIaNn79yK"
      },
      "source": [
        "def drop_seconds_from_timestamp(df):\n",
        "  bulb_data['timestamp'] = bulb_data['timestamp'].map(lambda timestamp : timestamp[:16])\n",
        "  bulb_data['timestamp'] = pd.to_datetime(bulb_data['timestamp'])\n",
        "  bulb_data['timestamp'] = bulb_data['timestamp'].dt.strftime('%Y-%m-%d %H:%M')\n",
        "  bulb_data['timestamp'] = pd.to_datetime(bulb_data['timestamp'])"
      ],
      "execution_count": 343,
      "outputs": []
    },
    {
      "cell_type": "code",
      "metadata": {
        "id": "rB8QHTmsni79"
      },
      "source": [
        "filename = '/content/drive/Shared drives/CMPE295B/ProcessedBulbData/smart_bulb_brightness_data_from_influx_aug27_sept9.csv'\n",
        "bulb_data = pd.read_csv(filename, infer_datetime_format = True)\n",
        "drop_seconds_from_timestamp(bulb_data)\n",
        "bulb_data.drop(['Unnamed: 0'], axis=1, inplace=True)"
      ],
      "execution_count": 344,
      "outputs": []
    },
    {
      "cell_type": "code",
      "metadata": {
        "colab": {
          "base_uri": "https://localhost:8080/",
          "height": 204
        },
        "id": "ix2Ql905pSUP",
        "outputId": "56fc533e-85ec-4126-be29-79a48bf5b219"
      },
      "source": [
        "bulb_data.head()"
      ],
      "execution_count": 345,
      "outputs": [
        {
          "output_type": "execute_result",
          "data": {
            "text/html": [
              "<div>\n",
              "<style scoped>\n",
              "    .dataframe tbody tr th:only-of-type {\n",
              "        vertical-align: middle;\n",
              "    }\n",
              "\n",
              "    .dataframe tbody tr th {\n",
              "        vertical-align: top;\n",
              "    }\n",
              "\n",
              "    .dataframe thead th {\n",
              "        text-align: right;\n",
              "    }\n",
              "</style>\n",
              "<table border=\"1\" class=\"dataframe\">\n",
              "  <thead>\n",
              "    <tr style=\"text-align: right;\">\n",
              "      <th></th>\n",
              "      <th>timestamp</th>\n",
              "      <th>value</th>\n",
              "      <th>id</th>\n",
              "    </tr>\n",
              "  </thead>\n",
              "  <tbody>\n",
              "    <tr>\n",
              "      <th>0</th>\n",
              "      <td>2021-08-27 02:34:00</td>\n",
              "      <td>0.607</td>\n",
              "      <td>d073d55df12f</td>\n",
              "    </tr>\n",
              "    <tr>\n",
              "      <th>1</th>\n",
              "      <td>2021-08-27 02:35:00</td>\n",
              "      <td>0.607</td>\n",
              "      <td>d073d55df12f</td>\n",
              "    </tr>\n",
              "    <tr>\n",
              "      <th>2</th>\n",
              "      <td>2021-08-27 02:36:00</td>\n",
              "      <td>0.607</td>\n",
              "      <td>d073d55df12f</td>\n",
              "    </tr>\n",
              "    <tr>\n",
              "      <th>3</th>\n",
              "      <td>2021-08-27 02:37:00</td>\n",
              "      <td>0.607</td>\n",
              "      <td>d073d55df12f</td>\n",
              "    </tr>\n",
              "    <tr>\n",
              "      <th>4</th>\n",
              "      <td>2021-08-27 02:38:00</td>\n",
              "      <td>0.607</td>\n",
              "      <td>d073d55df12f</td>\n",
              "    </tr>\n",
              "  </tbody>\n",
              "</table>\n",
              "</div>"
            ],
            "text/plain": [
              "            timestamp  value            id\n",
              "0 2021-08-27 02:34:00  0.607  d073d55df12f\n",
              "1 2021-08-27 02:35:00  0.607  d073d55df12f\n",
              "2 2021-08-27 02:36:00  0.607  d073d55df12f\n",
              "3 2021-08-27 02:37:00  0.607  d073d55df12f\n",
              "4 2021-08-27 02:38:00  0.607  d073d55df12f"
            ]
          },
          "metadata": {},
          "execution_count": 345
        }
      ]
    },
    {
      "cell_type": "code",
      "metadata": {
        "colab": {
          "base_uri": "https://localhost:8080/"
        },
        "id": "OVi8niCwlwv8",
        "outputId": "05b43e8a-da9e-4771-ac5e-5c8d190af34b"
      },
      "source": [
        "bulb_data['value'].describe()"
      ],
      "execution_count": 346,
      "outputs": [
        {
          "output_type": "execute_result",
          "data": {
            "text/plain": [
              "count    5208.000000\n",
              "mean        0.856206\n",
              "std         0.076649\n",
              "min         0.000000\n",
              "25%         0.833700\n",
              "50%         0.833700\n",
              "75%         0.833700\n",
              "max         0.993100\n",
              "Name: value, dtype: float64"
            ]
          },
          "metadata": {},
          "execution_count": 346
        }
      ]
    },
    {
      "cell_type": "code",
      "metadata": {
        "colab": {
          "base_uri": "https://localhost:8080/",
          "height": 142
        },
        "id": "JktKOXOnfLH5",
        "outputId": "ecb8a903-5ee0-416c-f028-2b72d759b1d6"
      },
      "source": [
        "# group by light bulb id and sum the number of nulls in the value column\n",
        "# AKA the number of missing readings for each bulb\n",
        "# 77.8% missing values for bulb d073d55df12f\n",
        "# 61.1% missing values for bulb d073d55e535c\n",
        "bulb_data.groupby(['id']).agg({ 'value': lambda x: x.isnull().sum() })"
      ],
      "execution_count": 347,
      "outputs": [
        {
          "output_type": "execute_result",
          "data": {
            "text/html": [
              "<div>\n",
              "<style scoped>\n",
              "    .dataframe tbody tr th:only-of-type {\n",
              "        vertical-align: middle;\n",
              "    }\n",
              "\n",
              "    .dataframe tbody tr th {\n",
              "        vertical-align: top;\n",
              "    }\n",
              "\n",
              "    .dataframe thead th {\n",
              "        text-align: right;\n",
              "    }\n",
              "</style>\n",
              "<table border=\"1\" class=\"dataframe\">\n",
              "  <thead>\n",
              "    <tr style=\"text-align: right;\">\n",
              "      <th></th>\n",
              "      <th>value</th>\n",
              "    </tr>\n",
              "    <tr>\n",
              "      <th>id</th>\n",
              "      <th></th>\n",
              "    </tr>\n",
              "  </thead>\n",
              "  <tbody>\n",
              "    <tr>\n",
              "      <th>d073d55df12f</th>\n",
              "      <td>0.0</td>\n",
              "    </tr>\n",
              "    <tr>\n",
              "      <th>d073d55e535c</th>\n",
              "      <td>0.0</td>\n",
              "    </tr>\n",
              "  </tbody>\n",
              "</table>\n",
              "</div>"
            ],
            "text/plain": [
              "              value\n",
              "id                 \n",
              "d073d55df12f    0.0\n",
              "d073d55e535c    0.0"
            ]
          },
          "metadata": {},
          "execution_count": 347
        }
      ]
    },
    {
      "cell_type": "code",
      "metadata": {
        "id": "i4bQBA0XsDHe"
      },
      "source": [
        "def analyze_df_for_bulb(bulb_df):\n",
        "  print('start time', bulb_df['timestamp'].min(), 'end time', bulb_df['timestamp'].max())\n",
        "\n",
        "  # fill in missing values with 0 (off)\n",
        "  if (bulb_data['value'].isnull().sum()):\n",
        "    bulb_df['value'] = bulb_df['value'].fillna(0)\n",
        "  \n",
        "  plt.plot(bulb_df['timestamp'], bulb_df['value'])\n",
        "  plt.gcf().autofmt_xdate()\n",
        "\n",
        "  find_time_interval_gaps(bulb_df)"
      ],
      "execution_count": 392,
      "outputs": []
    },
    {
      "cell_type": "code",
      "metadata": {
        "id": "NwuqT-cDutRg"
      },
      "source": [
        "def find_time_interval_gaps(bulb_df, interval=1.0):\n",
        "  times = bulb_df['timestamp'].tolist()\n",
        "  start_time = times[0]\n",
        "  diffs = []\n",
        "\n",
        "  for timestamp in times:\n",
        "    diff_in_minutes = (timestamp - start_time).total_seconds() / 60\n",
        "\n",
        "    if (diff_in_minutes > interval):\n",
        "      diffs.append(diff_in_minutes)\n",
        "\n",
        "    start_time = timestamp\n",
        "\n",
        "  if (diffs):\n",
        "    print ('# of intervals > 1 min = {0}. Max diff = {1}, Min diff = {2}, Avg diff = {3}'.format(\n",
        "      len(diffs), max(diffs), min(diffs), sum(diffs) / len(diffs)))\n",
        "  \n",
        "  return diffs"
      ],
      "execution_count": 447,
      "outputs": []
    },
    {
      "cell_type": "code",
      "metadata": {
        "colab": {
          "base_uri": "https://localhost:8080/",
          "height": 305
        },
        "id": "XZ8t0JYAfZQg",
        "outputId": "8ff73c01-da84-4138-c12d-09ca009af1f5"
      },
      "source": [
        "analyze_df_for_bulb(bulb_data.loc[bulb_data['id'] == 'd073d55df12f'])"
      ],
      "execution_count": 386,
      "outputs": [
        {
          "output_type": "stream",
          "name": "stdout",
          "text": [
            "start time 2021-08-27 02:34:00 end time 2021-09-09 05:54:00\n",
            "# of intervals > 1 min = 9. Max diff = 7034.0, Min diff = 116.0, Avg diff = 1791.2222222222222\n"
          ]
        },
        {
          "output_type": "display_data",
          "data": {
            "image/png": "[encoded data removed]",
            "text/plain": [
              "<Figure size 432x288 with 1 Axes>"
            ]
          },
          "metadata": {
            "needs_background": "light"
          }
        }
      ]
    },
    {
      "cell_type": "code",
      "metadata": {
        "id": "_nc0IuZFhXnQ"
      },
      "source": [
        "def fill_in_missing_times(bulb_data, id):\n",
        "  light_df = bulb_data.loc[bulb_data['id'] == id]\n",
        "  r = pd.date_range(start=light_df.timestamp.min(), end=light_df.timestamp.max(), freq='1min')\n",
        "  reindexed = light_df.set_index('timestamp').reindex(r).rename_axis('timestamp').reset_index()\n",
        "  reindexed['value'].fillna(0, inplace=True)\n",
        "  reindexed['id'].fillna(id, inplace=True)\n",
        "  return reindexed"
      ],
      "execution_count": 425,
      "outputs": []
    },
    {
      "cell_type": "code",
      "metadata": {
        "colab": {
          "base_uri": "https://localhost:8080/",
          "height": 204
        },
        "id": "BAwbzBYQi1mb",
        "outputId": "4da99c15-326e-4bd7-c2b7-8951011c8229"
      },
      "source": [
        "light_df = fill_in_missing_times(bulb_data, 'd073d55df12f')\n",
        "light_df.head()"
      ],
      "execution_count": 433,
      "outputs": [
        {
          "output_type": "execute_result",
          "data": {
            "text/html": [
              "<div>\n",
              "<style scoped>\n",
              "    .dataframe tbody tr th:only-of-type {\n",
              "        vertical-align: middle;\n",
              "    }\n",
              "\n",
              "    .dataframe tbody tr th {\n",
              "        vertical-align: top;\n",
              "    }\n",
              "\n",
              "    .dataframe thead th {\n",
              "        text-align: right;\n",
              "    }\n",
              "</style>\n",
              "<table border=\"1\" class=\"dataframe\">\n",
              "  <thead>\n",
              "    <tr style=\"text-align: right;\">\n",
              "      <th></th>\n",
              "      <th>timestamp</th>\n",
              "      <th>value</th>\n",
              "      <th>id</th>\n",
              "    </tr>\n",
              "  </thead>\n",
              "  <tbody>\n",
              "    <tr>\n",
              "      <th>0</th>\n",
              "      <td>2021-08-27 02:34:00</td>\n",
              "      <td>0.607</td>\n",
              "      <td>d073d55df12f</td>\n",
              "    </tr>\n",
              "    <tr>\n",
              "      <th>1</th>\n",
              "      <td>2021-08-27 02:35:00</td>\n",
              "      <td>0.607</td>\n",
              "      <td>d073d55df12f</td>\n",
              "    </tr>\n",
              "    <tr>\n",
              "      <th>2</th>\n",
              "      <td>2021-08-27 02:36:00</td>\n",
              "      <td>0.607</td>\n",
              "      <td>d073d55df12f</td>\n",
              "    </tr>\n",
              "    <tr>\n",
              "      <th>3</th>\n",
              "      <td>2021-08-27 02:37:00</td>\n",
              "      <td>0.607</td>\n",
              "      <td>d073d55df12f</td>\n",
              "    </tr>\n",
              "    <tr>\n",
              "      <th>4</th>\n",
              "      <td>2021-08-27 02:38:00</td>\n",
              "      <td>0.607</td>\n",
              "      <td>d073d55df12f</td>\n",
              "    </tr>\n",
              "  </tbody>\n",
              "</table>\n",
              "</div>"
            ],
            "text/plain": [
              "            timestamp  value            id\n",
              "0 2021-08-27 02:34:00  0.607  d073d55df12f\n",
              "1 2021-08-27 02:35:00  0.607  d073d55df12f\n",
              "2 2021-08-27 02:36:00  0.607  d073d55df12f\n",
              "3 2021-08-27 02:37:00  0.607  d073d55df12f\n",
              "4 2021-08-27 02:38:00  0.607  d073d55df12f"
            ]
          },
          "metadata": {},
          "execution_count": 433
        }
      ]
    },
    {
      "cell_type": "code",
      "metadata": {
        "colab": {
          "base_uri": "https://localhost:8080/",
          "height": 288
        },
        "id": "iHv9xAKfoW4C",
        "outputId": "4edf07c2-9302-441e-94c4-66104a58adcd"
      },
      "source": [
        "analyze_df_for_bulb(light_df)"
      ],
      "execution_count": 434,
      "outputs": [
        {
          "output_type": "stream",
          "name": "stdout",
          "text": [
            "start time 2021-08-27 02:34:00 end time 2021-09-09 05:54:00\n"
          ]
        },
        {
          "output_type": "display_data",
          "data": {
            "image/png": "[encoded data removed]",
            "text/plain": [
              "<Figure size 432x288 with 1 Axes>"
            ]
          },
          "metadata": {
            "needs_background": "light"
          }
        }
      ]
    },
    {
      "cell_type": "code",
      "metadata": {
        "id": "o53isKDnsj7p"
      },
      "source": [
        "def range_brightness(brightness):\n",
        "  if brightness <= 0.5:\n",
        "    return 0\n",
        "  else:\n",
        "    return 1"
      ],
      "execution_count": 435,
      "outputs": []
    },
    {
      "cell_type": "code",
      "metadata": {
        "id": "D__4RW_DoydU"
      },
      "source": [
        "def brightness_to_category(df):\n",
        "  df['value'] = df['value'].apply(lambda value: range_brightness(value))"
      ],
      "execution_count": 436,
      "outputs": []
    },
    {
      "cell_type": "code",
      "metadata": {
        "id": "IlDx0fImrNrn"
      },
      "source": [
        "brightness_to_category(light_df)"
      ],
      "execution_count": 439,
      "outputs": []
    },
    {
      "cell_type": "code",
      "metadata": {
        "id": "NjaOonf6sv5S"
      },
      "source": [
        "def plot_cycle(series):\n",
        "  import matplotlib.pyplot as plt\n",
        "  from datetime import datetime, timedelta\n",
        "  import matplotlib.dates as dates\n",
        "\n",
        "  fig, ax = plt.subplots(figsize=(10, 5))\n",
        "  fig.autofmt_xdate(rotation=45)\n",
        "  ax.xaxis_date()\n",
        "  date_format = dates.DateFormatter('%m-%d %H:%m')\n",
        "  ax.xaxis.set_major_formatter(date_format)\n",
        "  plt.tight_layout()\n",
        "  plt.step(series['timestamp'], series['value'])\n",
        "  plt.show(fig)"
      ],
      "execution_count": 444,
      "outputs": []
    },
    {
      "cell_type": "code",
      "metadata": {
        "colab": {
          "base_uri": "https://localhost:8080/",
          "height": 365
        },
        "id": "X1643T0EteOu",
        "outputId": "6528c95c-92d4-4b91-bc71-633889c75dbf"
      },
      "source": [
        "plot_cycle(light_df)"
      ],
      "execution_count": 445,
      "outputs": [
        {
          "output_type": "display_data",
          "data": {
            "image/png": "[encoded data removed]",
            "text/plain": [
              "<Figure size 720x360 with 1 Axes>"
            ]
          },
          "metadata": {
            "needs_background": "light"
          }
        }
      ]
    },
    {
      "cell_type": "code",
      "metadata": {
        "id": "KOKwK2RXuXoA"
      },
      "source": [
        "from pytz import timezone\n",
        "import pytz\n",
        "import datetime\n",
        "\n",
        "### Plot intervals usage based on state change in the bulb (ON to OFF or vice versa)\n",
        "def get_power_intervals(bulb_df):\n",
        "  intervals = []\n",
        "  cycle = bulb_df['value'][0]\n",
        "  start = bulb_df['timestamp'][0]\n",
        "\n",
        "  for value, timestamp in zip(bulb_df['value'][1:], bulb_df['timestamp'][1:]):\n",
        "    if value != cycle:\n",
        "      duration = timestamp - start\n",
        "      duration = round(duration.total_seconds() / 60 / 60, 2)\n",
        "\n",
        "      intervals.append({ 'start': start.strftime('%m/%d/%Y %H:%M:%S %Z'),\n",
        "                         'end': timestamp.strftime('%m/%d/%Y %H:%M:%S %Z'),\n",
        "                         'from': cycle,\n",
        "                         'to': value,\n",
        "                         'duration (hours)': duration})\n",
        "      cycle = value\n",
        "      start = timestamp\n",
        "\n",
        "  df = pd.DataFrame(intervals)\n",
        "  return df"
      ],
      "execution_count": 462,
      "outputs": []
    },
    {
      "cell_type": "code",
      "metadata": {
        "id": "hKZdGAYsul7U"
      },
      "source": [
        "interval_df = get_power_intervals(light_df)"
      ],
      "execution_count": 463,
      "outputs": []
    },
    {
      "cell_type": "code",
      "metadata": {
        "colab": {
          "base_uri": "https://localhost:8080/",
          "height": 390
        },
        "id": "VbMw0QUXu9qt",
        "outputId": "e77c0f3f-7c43-475d-bad6-3536fe32544a"
      },
      "source": [
        "on_times = interval_df.loc[interval_df['from'] == 1]\n",
        "on_times"
      ],
      "execution_count": 464,
      "outputs": [
        {
          "output_type": "execute_result",
          "data": {
            "text/html": [
              "<div>\n",
              "<style scoped>\n",
              "    .dataframe tbody tr th:only-of-type {\n",
              "        vertical-align: middle;\n",
              "    }\n",
              "\n",
              "    .dataframe tbody tr th {\n",
              "        vertical-align: top;\n",
              "    }\n",
              "\n",
              "    .dataframe thead th {\n",
              "        text-align: right;\n",
              "    }\n",
              "</style>\n",
              "<table border=\"1\" class=\"dataframe\">\n",
              "  <thead>\n",
              "    <tr style=\"text-align: right;\">\n",
              "      <th></th>\n",
              "      <th>start</th>\n",
              "      <th>end</th>\n",
              "      <th>from</th>\n",
              "      <th>to</th>\n",
              "      <th>duration (hours)</th>\n",
              "    </tr>\n",
              "  </thead>\n",
              "  <tbody>\n",
              "    <tr>\n",
              "      <th>0</th>\n",
              "      <td>08/27/2021 02:34:00</td>\n",
              "      <td>08/27/2021 05:02:00</td>\n",
              "      <td>1</td>\n",
              "      <td>0</td>\n",
              "      <td>2.47</td>\n",
              "    </tr>\n",
              "    <tr>\n",
              "      <th>2</th>\n",
              "      <td>08/27/2021 05:03:00</td>\n",
              "      <td>08/27/2021 07:25:00</td>\n",
              "      <td>1</td>\n",
              "      <td>0</td>\n",
              "      <td>2.37</td>\n",
              "    </tr>\n",
              "    <tr>\n",
              "      <th>4</th>\n",
              "      <td>08/28/2021 08:31:00</td>\n",
              "      <td>08/28/2021 08:41:00</td>\n",
              "      <td>1</td>\n",
              "      <td>0</td>\n",
              "      <td>0.17</td>\n",
              "    </tr>\n",
              "    <tr>\n",
              "      <th>6</th>\n",
              "      <td>08/29/2021 03:18:00</td>\n",
              "      <td>08/29/2021 07:17:00</td>\n",
              "      <td>1</td>\n",
              "      <td>0</td>\n",
              "      <td>3.98</td>\n",
              "    </tr>\n",
              "    <tr>\n",
              "      <th>8</th>\n",
              "      <td>08/30/2021 21:03:00</td>\n",
              "      <td>08/30/2021 21:40:00</td>\n",
              "      <td>1</td>\n",
              "      <td>0</td>\n",
              "      <td>0.62</td>\n",
              "    </tr>\n",
              "    <tr>\n",
              "      <th>10</th>\n",
              "      <td>08/31/2021 02:55:00</td>\n",
              "      <td>08/31/2021 06:58:00</td>\n",
              "      <td>1</td>\n",
              "      <td>0</td>\n",
              "      <td>4.05</td>\n",
              "    </tr>\n",
              "    <tr>\n",
              "      <th>12</th>\n",
              "      <td>09/01/2021 02:33:00</td>\n",
              "      <td>09/01/2021 07:33:00</td>\n",
              "      <td>1</td>\n",
              "      <td>0</td>\n",
              "      <td>5.00</td>\n",
              "    </tr>\n",
              "    <tr>\n",
              "      <th>14</th>\n",
              "      <td>09/01/2021 07:34:00</td>\n",
              "      <td>09/01/2021 07:35:00</td>\n",
              "      <td>1</td>\n",
              "      <td>0</td>\n",
              "      <td>0.02</td>\n",
              "    </tr>\n",
              "    <tr>\n",
              "      <th>16</th>\n",
              "      <td>09/02/2021 04:02:00</td>\n",
              "      <td>09/03/2021 03:08:00</td>\n",
              "      <td>1</td>\n",
              "      <td>0</td>\n",
              "      <td>23.10</td>\n",
              "    </tr>\n",
              "    <tr>\n",
              "      <th>18</th>\n",
              "      <td>09/03/2021 05:04:00</td>\n",
              "      <td>09/03/2021 07:21:00</td>\n",
              "      <td>1</td>\n",
              "      <td>0</td>\n",
              "      <td>2.28</td>\n",
              "    </tr>\n",
              "    <tr>\n",
              "      <th>20</th>\n",
              "      <td>09/08/2021 04:35:00</td>\n",
              "      <td>09/08/2021 05:42:00</td>\n",
              "      <td>1</td>\n",
              "      <td>0</td>\n",
              "      <td>1.12</td>\n",
              "    </tr>\n",
              "  </tbody>\n",
              "</table>\n",
              "</div>"
            ],
            "text/plain": [
              "                   start                   end  from  to  duration (hours)\n",
              "0   08/27/2021 02:34:00   08/27/2021 05:02:00      1   0              2.47\n",
              "2   08/27/2021 05:03:00   08/27/2021 07:25:00      1   0              2.37\n",
              "4   08/28/2021 08:31:00   08/28/2021 08:41:00      1   0              0.17\n",
              "6   08/29/2021 03:18:00   08/29/2021 07:17:00      1   0              3.98\n",
              "8   08/30/2021 21:03:00   08/30/2021 21:40:00      1   0              0.62\n",
              "10  08/31/2021 02:55:00   08/31/2021 06:58:00      1   0              4.05\n",
              "12  09/01/2021 02:33:00   09/01/2021 07:33:00      1   0              5.00\n",
              "14  09/01/2021 07:34:00   09/01/2021 07:35:00      1   0              0.02\n",
              "16  09/02/2021 04:02:00   09/03/2021 03:08:00      1   0             23.10\n",
              "18  09/03/2021 05:04:00   09/03/2021 07:21:00      1   0              2.28\n",
              "20  09/08/2021 04:35:00   09/08/2021 05:42:00      1   0              1.12"
            ]
          },
          "metadata": {},
          "execution_count": 464
        }
      ]
    },
    {
      "cell_type": "code",
      "metadata": {
        "colab": {
          "base_uri": "https://localhost:8080/",
          "height": 390
        },
        "id": "0__3lqHjwMZY",
        "outputId": "28ecdbee-e941-4229-bf35-1ad39c86ee51"
      },
      "source": [
        "off_times = interval_df.loc[interval_df['from'] == 0]\n",
        "off_times"
      ],
      "execution_count": 465,
      "outputs": [
        {
          "output_type": "execute_result",
          "data": {
            "text/html": [
              "<div>\n",
              "<style scoped>\n",
              "    .dataframe tbody tr th:only-of-type {\n",
              "        vertical-align: middle;\n",
              "    }\n",
              "\n",
              "    .dataframe tbody tr th {\n",
              "        vertical-align: top;\n",
              "    }\n",
              "\n",
              "    .dataframe thead th {\n",
              "        text-align: right;\n",
              "    }\n",
              "</style>\n",
              "<table border=\"1\" class=\"dataframe\">\n",
              "  <thead>\n",
              "    <tr style=\"text-align: right;\">\n",
              "      <th></th>\n",
              "      <th>start</th>\n",
              "      <th>end</th>\n",
              "      <th>from</th>\n",
              "      <th>to</th>\n",
              "      <th>duration (hours)</th>\n",
              "    </tr>\n",
              "  </thead>\n",
              "  <tbody>\n",
              "    <tr>\n",
              "      <th>1</th>\n",
              "      <td>08/27/2021 05:02:00</td>\n",
              "      <td>08/27/2021 05:03:00</td>\n",
              "      <td>0</td>\n",
              "      <td>1</td>\n",
              "      <td>0.02</td>\n",
              "    </tr>\n",
              "    <tr>\n",
              "      <th>3</th>\n",
              "      <td>08/27/2021 07:25:00</td>\n",
              "      <td>08/28/2021 08:31:00</td>\n",
              "      <td>0</td>\n",
              "      <td>1</td>\n",
              "      <td>25.10</td>\n",
              "    </tr>\n",
              "    <tr>\n",
              "      <th>5</th>\n",
              "      <td>08/28/2021 08:41:00</td>\n",
              "      <td>08/29/2021 03:18:00</td>\n",
              "      <td>0</td>\n",
              "      <td>1</td>\n",
              "      <td>18.62</td>\n",
              "    </tr>\n",
              "    <tr>\n",
              "      <th>7</th>\n",
              "      <td>08/29/2021 07:17:00</td>\n",
              "      <td>08/30/2021 21:03:00</td>\n",
              "      <td>0</td>\n",
              "      <td>1</td>\n",
              "      <td>37.77</td>\n",
              "    </tr>\n",
              "    <tr>\n",
              "      <th>9</th>\n",
              "      <td>08/30/2021 21:40:00</td>\n",
              "      <td>08/31/2021 02:55:00</td>\n",
              "      <td>0</td>\n",
              "      <td>1</td>\n",
              "      <td>5.25</td>\n",
              "    </tr>\n",
              "    <tr>\n",
              "      <th>11</th>\n",
              "      <td>08/31/2021 06:58:00</td>\n",
              "      <td>09/01/2021 02:33:00</td>\n",
              "      <td>0</td>\n",
              "      <td>1</td>\n",
              "      <td>19.58</td>\n",
              "    </tr>\n",
              "    <tr>\n",
              "      <th>13</th>\n",
              "      <td>09/01/2021 07:33:00</td>\n",
              "      <td>09/01/2021 07:34:00</td>\n",
              "      <td>0</td>\n",
              "      <td>1</td>\n",
              "      <td>0.02</td>\n",
              "    </tr>\n",
              "    <tr>\n",
              "      <th>15</th>\n",
              "      <td>09/01/2021 07:35:00</td>\n",
              "      <td>09/02/2021 04:02:00</td>\n",
              "      <td>0</td>\n",
              "      <td>1</td>\n",
              "      <td>20.45</td>\n",
              "    </tr>\n",
              "    <tr>\n",
              "      <th>17</th>\n",
              "      <td>09/03/2021 03:08:00</td>\n",
              "      <td>09/03/2021 05:04:00</td>\n",
              "      <td>0</td>\n",
              "      <td>1</td>\n",
              "      <td>1.93</td>\n",
              "    </tr>\n",
              "    <tr>\n",
              "      <th>19</th>\n",
              "      <td>09/03/2021 07:21:00</td>\n",
              "      <td>09/08/2021 04:35:00</td>\n",
              "      <td>0</td>\n",
              "      <td>1</td>\n",
              "      <td>117.23</td>\n",
              "    </tr>\n",
              "    <tr>\n",
              "      <th>21</th>\n",
              "      <td>09/08/2021 05:42:00</td>\n",
              "      <td>09/09/2021 04:24:00</td>\n",
              "      <td>0</td>\n",
              "      <td>1</td>\n",
              "      <td>22.70</td>\n",
              "    </tr>\n",
              "  </tbody>\n",
              "</table>\n",
              "</div>"
            ],
            "text/plain": [
              "                   start                   end  from  to  duration (hours)\n",
              "1   08/27/2021 05:02:00   08/27/2021 05:03:00      0   1              0.02\n",
              "3   08/27/2021 07:25:00   08/28/2021 08:31:00      0   1             25.10\n",
              "5   08/28/2021 08:41:00   08/29/2021 03:18:00      0   1             18.62\n",
              "7   08/29/2021 07:17:00   08/30/2021 21:03:00      0   1             37.77\n",
              "9   08/30/2021 21:40:00   08/31/2021 02:55:00      0   1              5.25\n",
              "11  08/31/2021 06:58:00   09/01/2021 02:33:00      0   1             19.58\n",
              "13  09/01/2021 07:33:00   09/01/2021 07:34:00      0   1              0.02\n",
              "15  09/01/2021 07:35:00   09/02/2021 04:02:00      0   1             20.45\n",
              "17  09/03/2021 03:08:00   09/03/2021 05:04:00      0   1              1.93\n",
              "19  09/03/2021 07:21:00   09/08/2021 04:35:00      0   1            117.23\n",
              "21  09/08/2021 05:42:00   09/09/2021 04:24:00      0   1             22.70"
            ]
          },
          "metadata": {},
          "execution_count": 465
        }
      ]
    },
    {
      "cell_type": "code",
      "metadata": {
        "id": "K8CBR3ymxa8S"
      },
      "source": [
        ""
      ],
      "execution_count": null,
      "outputs": []
    }
  ]
}