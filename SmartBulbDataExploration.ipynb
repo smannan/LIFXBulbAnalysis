{
  "nbformat": 4,
  "nbformat_minor": 0,
  "metadata": {
    "colab": {
      "name": "SmartBulbDataExploration.ipynb",
      "provenance": [],
      "collapsed_sections": [],
      "authorship_tag": "ABX9TyPhxS+i3oGsfUI9YuMiuX9R",
      "include_colab_link": true
    },
    "kernelspec": {
      "name": "python3",
      "display_name": "Python 3"
    },
    "language_info": {
      "name": "python"
    }
  },
  "cells": [
    {
      "cell_type": "markdown",
      "metadata": {
        "id": "view-in-github",
        "colab_type": "text"
      },
      "source": [
        "<a href=\"https://colab.research.google.com/github/smannan/LIFXBulbAnalysis/blob/main/SmartBulbDataExploration.ipynb\" target=\"_parent\"><img src=\"https://colab.research.google.com/assets/colab-badge.svg\" alt=\"Open In Colab\"/></a>"
      ]
    },
    {
      "cell_type": "markdown",
      "metadata": {
        "id": "RWRwCxKzgTkg"
      },
      "source": [
        "Analyze brightness for Influx light bulbs\n",
        "\n",
        "1.   Input data frame should have 3 columns: bulb id, timestamp, and value\n",
        "2.   Supported values are power or brighness\n",
        "3.   Brightness value should be a floating point\n",
        "4.   Power should be ON or OFF\n",
        "\n"
      ]
    },
    {
      "cell_type": "code",
      "metadata": {
        "id": "Z2oIXIuXncOd"
      },
      "source": [
        "import matplotlib.pyplot as plt\n",
        "import os\n",
        "import pandas as pd\n",
        "\n",
        "from datetime import datetime\n",
        "from dateutil.parser import parse"
      ],
      "execution_count": 1,
      "outputs": []
    },
    {
      "cell_type": "code",
      "metadata": {
        "id": "FoB1hhFDaV1g"
      },
      "source": [
        "MAX_TEMP = 2700.0 # (in Kelvin) 4,400 Farenheit\n",
        "MIN_TEMP = 0.0 # (in Kelvin)\n",
        "MAX_LUMENS = 650 # (lumens)\n",
        "MAX_WATTS = 8.5\n",
        "LUMENS_PER_WATT = MAX_LUMENS / MAX_WATTS # ~76.5"
      ],
      "execution_count": 2,
      "outputs": []
    },
    {
      "cell_type": "code",
      "metadata": {
        "id": "dR1k_TYJl3xZ"
      },
      "source": [
        "import matplotlib.pyplot as plt\n",
        "from datetime import datetime, timedelta\n",
        "import matplotlib.dates as dates\n",
        "\n",
        "def plot_hist(bulb_df):\n",
        "  fig, ax = plt.subplots(figsize=(10, 5))\n",
        "  ax.hist(bulb_df['value'], bins=25)\n",
        "  plt.show()"
      ],
      "execution_count": 3,
      "outputs": []
    },
    {
      "cell_type": "code",
      "metadata": {
        "colab": {
          "base_uri": "https://localhost:8080/"
        },
        "id": "nr7uRee4nVgV",
        "outputId": "9d5043e6-5f23-42e0-ac68-785108639ad8"
      },
      "source": [
        "from google.colab import drive\n",
        "drive.mount('/content/drive')"
      ],
      "execution_count": 4,
      "outputs": [
        {
          "output_type": "stream",
          "name": "stdout",
          "text": [
            "Mounted at /content/drive\n"
          ]
        }
      ]
    },
    {
      "cell_type": "code",
      "metadata": {
        "id": "_pSUIaNn79yK"
      },
      "source": [
        "def drop_seconds_from_timestamp(df):\n",
        "  bulb_data['timestamp'] = pd.to_datetime(bulb_data['timestamp'])\n",
        "  bulb_data['timestamp'] = bulb_data['timestamp'].dt.strftime('%Y-%m-%d %H:%M')\n",
        "  bulb_data['timestamp'] = pd.to_datetime(bulb_data['timestamp'])"
      ],
      "execution_count": 5,
      "outputs": []
    },
    {
      "cell_type": "code",
      "metadata": {
        "id": "NdE_nD3Y5sjW"
      },
      "source": [
        "# brightness is measured in percentage of lumens used\n",
        "def scale_brightness(df):\n",
        "  df['brightness'] = df['brightness'] * MAX_LUMENS"
      ],
      "execution_count": 6,
      "outputs": []
    },
    {
      "cell_type": "code",
      "metadata": {
        "id": "rB8QHTmsni79"
      },
      "source": [
        "filename = '/content/drive/Shared drives/CMPE295B/ProcessedBulbData/smart_bulb_data_from_influx_2021-08-26-13_46_2021-09-20-21_29.csv'\n",
        "bulb_data = pd.read_csv(filename, infer_datetime_format = True)\n",
        "drop_seconds_from_timestamp(bulb_data)\n",
        "scale_brightness(bulb_data)\n",
        "bulb_data.drop(['Unnamed: 0'], axis=1, inplace=True)"
      ],
      "execution_count": 7,
      "outputs": []
    },
    {
      "cell_type": "code",
      "metadata": {
        "colab": {
          "base_uri": "https://localhost:8080/",
          "height": 204
        },
        "id": "ix2Ql905pSUP",
        "outputId": "a3d04b01-40d0-415d-c146-bd5da4bfba6a"
      },
      "source": [
        "bulb_data.head()"
      ],
      "execution_count": 8,
      "outputs": [
        {
          "output_type": "execute_result",
          "data": {
            "text/html": [
              "<div>\n",
              "<style scoped>\n",
              "    .dataframe tbody tr th:only-of-type {\n",
              "        vertical-align: middle;\n",
              "    }\n",
              "\n",
              "    .dataframe tbody tr th {\n",
              "        vertical-align: top;\n",
              "    }\n",
              "\n",
              "    .dataframe thead th {\n",
              "        text-align: right;\n",
              "    }\n",
              "</style>\n",
              "<table border=\"1\" class=\"dataframe\">\n",
              "  <thead>\n",
              "    <tr style=\"text-align: right;\">\n",
              "      <th></th>\n",
              "      <th>timestamp</th>\n",
              "      <th>id</th>\n",
              "      <th>brightness</th>\n",
              "      <th>kelvin</th>\n",
              "    </tr>\n",
              "  </thead>\n",
              "  <tbody>\n",
              "    <tr>\n",
              "      <th>0</th>\n",
              "      <td>2021-08-26 13:46:00</td>\n",
              "      <td>d073d55df12f</td>\n",
              "      <td>650.000</td>\n",
              "      <td>2700</td>\n",
              "    </tr>\n",
              "    <tr>\n",
              "      <th>1</th>\n",
              "      <td>2021-08-26 13:47:00</td>\n",
              "      <td>d073d55df12f</td>\n",
              "      <td>650.000</td>\n",
              "      <td>2700</td>\n",
              "    </tr>\n",
              "    <tr>\n",
              "      <th>2</th>\n",
              "      <td>2021-08-26 13:57:00</td>\n",
              "      <td>d073d55df12f</td>\n",
              "      <td>456.365</td>\n",
              "      <td>2700</td>\n",
              "    </tr>\n",
              "    <tr>\n",
              "      <th>3</th>\n",
              "      <td>2021-08-26 13:58:00</td>\n",
              "      <td>d073d55df12f</td>\n",
              "      <td>456.365</td>\n",
              "      <td>2700</td>\n",
              "    </tr>\n",
              "    <tr>\n",
              "      <th>4</th>\n",
              "      <td>2021-08-26 13:59:00</td>\n",
              "      <td>d073d55df12f</td>\n",
              "      <td>456.365</td>\n",
              "      <td>2700</td>\n",
              "    </tr>\n",
              "  </tbody>\n",
              "</table>\n",
              "</div>"
            ],
            "text/plain": [
              "            timestamp            id  brightness  kelvin\n",
              "0 2021-08-26 13:46:00  d073d55df12f     650.000    2700\n",
              "1 2021-08-26 13:47:00  d073d55df12f     650.000    2700\n",
              "2 2021-08-26 13:57:00  d073d55df12f     456.365    2700\n",
              "3 2021-08-26 13:58:00  d073d55df12f     456.365    2700\n",
              "4 2021-08-26 13:59:00  d073d55df12f     456.365    2700"
            ]
          },
          "metadata": {},
          "execution_count": 8
        }
      ]
    },
    {
      "cell_type": "code",
      "metadata": {
        "colab": {
          "base_uri": "https://localhost:8080/"
        },
        "id": "OVi8niCwlwv8",
        "outputId": "51fcb560-9e97-43fe-f735-f716500d755f"
      },
      "source": [
        "bulb_data['brightness'].describe()"
      ],
      "execution_count": 9,
      "outputs": [
        {
          "output_type": "execute_result",
          "data": {
            "text/plain": [
              "count    9275.000000\n",
              "mean      546.775683\n",
              "std       108.863989\n",
              "min         0.000000\n",
              "25%       541.905000\n",
              "50%       541.905000\n",
              "75%       645.515000\n",
              "max       650.000000\n",
              "Name: brightness, dtype: float64"
            ]
          },
          "metadata": {},
          "execution_count": 9
        }
      ]
    },
    {
      "cell_type": "code",
      "metadata": {
        "colab": {
          "base_uri": "https://localhost:8080/"
        },
        "id": "W_lOeovKdzAn",
        "outputId": "7911c2c3-065f-4211-8975-0017d51976f1"
      },
      "source": [
        "bulb_data['kelvin'].describe()"
      ],
      "execution_count": 10,
      "outputs": [
        {
          "output_type": "execute_result",
          "data": {
            "text/plain": [
              "count    9275.000000\n",
              "mean     2750.059299\n",
              "std       246.945425\n",
              "min         0.000000\n",
              "25%      2700.000000\n",
              "50%      2700.000000\n",
              "75%      2700.000000\n",
              "max      3500.000000\n",
              "Name: kelvin, dtype: float64"
            ]
          },
          "metadata": {},
          "execution_count": 10
        }
      ]
    },
    {
      "cell_type": "code",
      "metadata": {
        "colab": {
          "base_uri": "https://localhost:8080/",
          "height": 142
        },
        "id": "JktKOXOnfLH5",
        "outputId": "e6e88c50-ab44-49e8-cde9-a97675324d4d"
      },
      "source": [
        "# group by light bulb id and sum the number of missing data for each bulb\n",
        "bulb_data.groupby(['id']).agg({\n",
        "    'brightness': lambda x: x.isnull().sum(),\n",
        "    'kelvin': lambda x: x.isnull().sum(),\n",
        "    'timestamp': lambda x: x.isnull().sum(),\n",
        "    'id': lambda x: x.isnull().sum()\n",
        "})"
      ],
      "execution_count": 11,
      "outputs": [
        {
          "output_type": "execute_result",
          "data": {
            "text/html": [
              "<div>\n",
              "<style scoped>\n",
              "    .dataframe tbody tr th:only-of-type {\n",
              "        vertical-align: middle;\n",
              "    }\n",
              "\n",
              "    .dataframe tbody tr th {\n",
              "        vertical-align: top;\n",
              "    }\n",
              "\n",
              "    .dataframe thead th {\n",
              "        text-align: right;\n",
              "    }\n",
              "</style>\n",
              "<table border=\"1\" class=\"dataframe\">\n",
              "  <thead>\n",
              "    <tr style=\"text-align: right;\">\n",
              "      <th></th>\n",
              "      <th>brightness</th>\n",
              "      <th>kelvin</th>\n",
              "      <th>timestamp</th>\n",
              "      <th>id</th>\n",
              "    </tr>\n",
              "    <tr>\n",
              "      <th>id</th>\n",
              "      <th></th>\n",
              "      <th></th>\n",
              "      <th></th>\n",
              "      <th></th>\n",
              "    </tr>\n",
              "  </thead>\n",
              "  <tbody>\n",
              "    <tr>\n",
              "      <th>d073d55df12f</th>\n",
              "      <td>0.0</td>\n",
              "      <td>0</td>\n",
              "      <td>0</td>\n",
              "      <td>0</td>\n",
              "    </tr>\n",
              "    <tr>\n",
              "      <th>d073d55e535c</th>\n",
              "      <td>0.0</td>\n",
              "      <td>0</td>\n",
              "      <td>0</td>\n",
              "      <td>0</td>\n",
              "    </tr>\n",
              "  </tbody>\n",
              "</table>\n",
              "</div>"
            ],
            "text/plain": [
              "              brightness  kelvin  timestamp  id\n",
              "id                                             \n",
              "d073d55df12f         0.0       0          0   0\n",
              "d073d55e535c         0.0       0          0   0"
            ]
          },
          "metadata": {},
          "execution_count": 11
        }
      ]
    },
    {
      "cell_type": "code",
      "metadata": {
        "id": "i4bQBA0XsDHe"
      },
      "source": [
        "def fill_missing_data(bulb_data):\n",
        "  bulb_data_complete = bulb_data.copy()\n",
        "\n",
        "  # where brightness > 0.5 and kelvin = null, set kelvin to max temp\n",
        "  bulb_data_complete.loc[bulb_data_complete['brightness'] >= 0.5, 'kelvin'] = \\\n",
        "    bulb_data_complete.loc[bulb_data_complete['brightness'] >= 0.5, 'kelvin'].fillna(bulb_data_complete['kelvin'].max())\n",
        "\n",
        "  # where brightness = 0 and kelvin = null, set kelvin to min temp\n",
        "  bulb_data_complete.loc[bulb_data_complete['brightness'] < 0.5, 'kelvin'] = \\\n",
        "    bulb_data_complete.loc[bulb_data_complete['brightness'] < 0.5, 'kelvin'].fillna(bulb_data_complete['kelvin'].min())\n",
        "\n",
        "  # where kelvin is MAX_TEMP and brightness = null, set brightness to max\n",
        "  bulb_data_complete.loc[bulb_data_complete['kelvin'] == MAX_TEMP, 'brightness'] = \\\n",
        "    bulb_data_complete.loc[bulb_data_complete['kelvin'] == MAX_TEMP, 'brightness'].fillna(bulb_data_complete['brightness'].max())\n",
        "\n",
        "  # where kelvin is MIN_TEMP and brightness = null, set brightness to min\n",
        "  bulb_data_complete.loc[bulb_data_complete['kelvin'] == MIN_TEMP, 'brightness'] = \\\n",
        "    bulb_data_complete.loc[bulb_data_complete['kelvin'] == MIN_TEMP, 'brightness'].fillna(bulb_data_complete['brightness'].min())\n",
        "\n",
        "  return bulb_data_complete"
      ],
      "execution_count": 12,
      "outputs": []
    },
    {
      "cell_type": "markdown",
      "metadata": {
        "id": "sOqobutOcZ1W"
      },
      "source": [
        "### Fill in missing brightness and Kelvin values\n",
        "- Some temperature readings don't have a brightness reading and vice versa?"
      ]
    },
    {
      "cell_type": "code",
      "metadata": {
        "colab": {
          "base_uri": "https://localhost:8080/"
        },
        "id": "-MKp3PMignNN",
        "outputId": "5a7c443f-853a-4b4c-eba4-c547da46e717"
      },
      "source": [
        "bulb_data_complete = fill_missing_data(bulb_data)\n",
        "bulb_data_complete.info()"
      ],
      "execution_count": 13,
      "outputs": [
        {
          "output_type": "stream",
          "name": "stdout",
          "text": [
            "<class 'pandas.core.frame.DataFrame'>\n",
            "RangeIndex: 9275 entries, 0 to 9274\n",
            "Data columns (total 4 columns):\n",
            " #   Column      Non-Null Count  Dtype         \n",
            "---  ------      --------------  -----         \n",
            " 0   timestamp   9275 non-null   datetime64[ns]\n",
            " 1   id          9275 non-null   object        \n",
            " 2   brightness  9275 non-null   float64       \n",
            " 3   kelvin      9275 non-null   int64         \n",
            "dtypes: datetime64[ns](1), float64(1), int64(1), object(1)\n",
            "memory usage: 290.0+ KB\n"
          ]
        }
      ]
    },
    {
      "cell_type": "code",
      "metadata": {
        "id": "NwuqT-cDutRg"
      },
      "source": [
        "def find_time_interval_gaps(bulb_df, interval=1.0):\n",
        "  times = bulb_df['timestamp'].tolist()\n",
        "  start_time = times[0]\n",
        "  diffs = []\n",
        "\n",
        "  for timestamp in times:\n",
        "    diff_in_minutes = (timestamp - start_time).total_seconds() / 60\n",
        "\n",
        "    if (diff_in_minutes > interval):\n",
        "      diffs.append(diff_in_minutes)\n",
        "\n",
        "    start_time = timestamp\n",
        "\n",
        "  if (diffs):\n",
        "    print ('# of intervals > 1 min = {0}. Max diff = {1}, Min diff = {2}, Avg diff = {3}'.format(\n",
        "      len(diffs), max(diffs), min(diffs), sum(diffs) / len(diffs)))\n",
        "  \n",
        "  return diffs"
      ],
      "execution_count": 14,
      "outputs": []
    },
    {
      "cell_type": "code",
      "metadata": {
        "id": "uqFmXpv4c-9z"
      },
      "source": [
        "def analyze_df_for_bulb(bulb_df):\n",
        "  print('start time', bulb_df['timestamp'].min(), 'end time', bulb_df['timestamp'].max())\n",
        "\n",
        "  fig, axs = plt.subplots(2)\n",
        "  fig.suptitle('Brigthness (1) and Temp (2)')\n",
        "  axs[0].plot(bulb_df['timestamp'], bulb_df['brightness'])\n",
        "  axs[1].plot(bulb_df['timestamp'], bulb_df['kelvin'])\n",
        "  plt.gcf().autofmt_xdate()\n",
        "\n",
        "  find_time_interval_gaps(bulb_df)"
      ],
      "execution_count": 15,
      "outputs": []
    },
    {
      "cell_type": "markdown",
      "metadata": {
        "id": "ut_3R1Tpfrok"
      },
      "source": [
        "### Plot brightness and temp over time"
      ]
    },
    {
      "cell_type": "code",
      "metadata": {
        "colab": {
          "base_uri": "https://localhost:8080/",
          "height": 334
        },
        "id": "XZ8t0JYAfZQg",
        "outputId": "45968d2d-86a2-405e-e9da-ab5b805a80c3"
      },
      "source": [
        "analyze_df_for_bulb(bulb_data_complete.loc[bulb_data_complete['id'] == 'd073d55df12f'])"
      ],
      "execution_count": 16,
      "outputs": [
        {
          "output_type": "stream",
          "name": "stdout",
          "text": [
            "start time 2021-08-26 13:46:00 end time 2021-09-20 21:29:00\n",
            "# of intervals > 1 min = 23. Max diff = 7034.0, Min diff = 2.0, Avg diff = 1341.608695652174\n"
          ]
        },
        {
          "output_type": "display_data",
          "data": {
            "image/png": "[encoded data removed]",
            "text/plain": [
              "<Figure size 432x288 with 2 Axes>"
            ]
          },
          "metadata": {
            "needs_background": "light"
          }
        }
      ]
    },
    {
      "cell_type": "code",
      "metadata": {
        "id": "_nc0IuZFhXnQ"
      },
      "source": [
        "def fill_in_missing_times(bulb_data, id):\n",
        "  light_df = bulb_data.loc[bulb_data['id'] == id].drop_duplicates(subset=['timestamp'])\n",
        "  r = pd.date_range(start=light_df.timestamp.min(), end=light_df.timestamp.max(), freq='1min')\n",
        "  reindexed = light_df.set_index('timestamp').reindex(r).rename_axis('timestamp').reset_index()\n",
        "\n",
        "  reindexed['brightness'].fillna(reindexed['brightness'].min(), inplace=True)\n",
        "  reindexed['kelvin'].fillna(reindexed['kelvin'].min(), inplace=True)\n",
        "  reindexed['id'].fillna(id, inplace=True)\n",
        "\n",
        "  return reindexed"
      ],
      "execution_count": 19,
      "outputs": []
    },
    {
      "cell_type": "code",
      "metadata": {
        "colab": {
          "base_uri": "https://localhost:8080/",
          "height": 204
        },
        "id": "BAwbzBYQi1mb",
        "outputId": "ffba4e82-de94-4628-c175-f1e6eef05115"
      },
      "source": [
        "light_df = fill_in_missing_times(bulb_data_complete, 'd073d55df12f')\n",
        "light_df.head()"
      ],
      "execution_count": 20,
      "outputs": [
        {
          "output_type": "execute_result",
          "data": {
            "text/html": [
              "<div>\n",
              "<style scoped>\n",
              "    .dataframe tbody tr th:only-of-type {\n",
              "        vertical-align: middle;\n",
              "    }\n",
              "\n",
              "    .dataframe tbody tr th {\n",
              "        vertical-align: top;\n",
              "    }\n",
              "\n",
              "    .dataframe thead th {\n",
              "        text-align: right;\n",
              "    }\n",
              "</style>\n",
              "<table border=\"1\" class=\"dataframe\">\n",
              "  <thead>\n",
              "    <tr style=\"text-align: right;\">\n",
              "      <th></th>\n",
              "      <th>timestamp</th>\n",
              "      <th>id</th>\n",
              "      <th>brightness</th>\n",
              "      <th>kelvin</th>\n",
              "    </tr>\n",
              "  </thead>\n",
              "  <tbody>\n",
              "    <tr>\n",
              "      <th>0</th>\n",
              "      <td>2021-08-26 13:46:00</td>\n",
              "      <td>d073d55df12f</td>\n",
              "      <td>650.0</td>\n",
              "      <td>2700.0</td>\n",
              "    </tr>\n",
              "    <tr>\n",
              "      <th>1</th>\n",
              "      <td>2021-08-26 13:47:00</td>\n",
              "      <td>d073d55df12f</td>\n",
              "      <td>650.0</td>\n",
              "      <td>2700.0</td>\n",
              "    </tr>\n",
              "    <tr>\n",
              "      <th>2</th>\n",
              "      <td>2021-08-26 13:48:00</td>\n",
              "      <td>d073d55df12f</td>\n",
              "      <td>650.0</td>\n",
              "      <td>2700.0</td>\n",
              "    </tr>\n",
              "    <tr>\n",
              "      <th>3</th>\n",
              "      <td>2021-08-26 13:49:00</td>\n",
              "      <td>d073d55df12f</td>\n",
              "      <td>650.0</td>\n",
              "      <td>2700.0</td>\n",
              "    </tr>\n",
              "    <tr>\n",
              "      <th>4</th>\n",
              "      <td>2021-08-26 13:50:00</td>\n",
              "      <td>d073d55df12f</td>\n",
              "      <td>650.0</td>\n",
              "      <td>2700.0</td>\n",
              "    </tr>\n",
              "  </tbody>\n",
              "</table>\n",
              "</div>"
            ],
            "text/plain": [
              "            timestamp            id  brightness  kelvin\n",
              "0 2021-08-26 13:46:00  d073d55df12f       650.0  2700.0\n",
              "1 2021-08-26 13:47:00  d073d55df12f       650.0  2700.0\n",
              "2 2021-08-26 13:48:00  d073d55df12f       650.0  2700.0\n",
              "3 2021-08-26 13:49:00  d073d55df12f       650.0  2700.0\n",
              "4 2021-08-26 13:50:00  d073d55df12f       650.0  2700.0"
            ]
          },
          "metadata": {},
          "execution_count": 20
        }
      ]
    },
    {
      "cell_type": "markdown",
      "metadata": {
        "id": "T-0p0pJ5gOpK"
      },
      "source": [
        "### Reindex dataframe and fill missing time intervals\n",
        "- When the light bulbs were off"
      ]
    },
    {
      "cell_type": "code",
      "metadata": {
        "colab": {
          "base_uri": "https://localhost:8080/",
          "height": 317
        },
        "id": "iHv9xAKfoW4C",
        "outputId": "9e956e52-4a61-436a-920c-d8d9c631d32c"
      },
      "source": [
        "analyze_df_for_bulb(light_df)"
      ],
      "execution_count": 21,
      "outputs": [
        {
          "output_type": "stream",
          "name": "stdout",
          "text": [
            "start time 2021-08-26 13:46:00 end time 2021-09-20 21:29:00\n"
          ]
        },
        {
          "output_type": "display_data",
          "data": {
            "image/png": "[encoded data removed]",
            "text/plain": [
              "<Figure size 432x288 with 2 Axes>"
            ]
          },
          "metadata": {
            "needs_background": "light"
          }
        }
      ]
    },
    {
      "cell_type": "code",
      "metadata": {
        "id": "o53isKDnsj7p"
      },
      "source": [
        "def range_brightness(brightness):\n",
        "  if brightness <= 0.5:\n",
        "    return 0\n",
        "  else:\n",
        "    return 1"
      ],
      "execution_count": 22,
      "outputs": []
    },
    {
      "cell_type": "code",
      "metadata": {
        "id": "D__4RW_DoydU"
      },
      "source": [
        "def brightness_to_category(df):\n",
        "  df['brightness'] = df['brightness'].apply(lambda value: range_brightness(value))"
      ],
      "execution_count": 23,
      "outputs": []
    },
    {
      "cell_type": "code",
      "metadata": {
        "id": "IlDx0fImrNrn"
      },
      "source": [
        "brightness_to_category(light_df)"
      ],
      "execution_count": 24,
      "outputs": []
    },
    {
      "cell_type": "code",
      "metadata": {
        "id": "KOKwK2RXuXoA"
      },
      "source": [
        "from pytz import timezone\n",
        "import pytz\n",
        "import datetime\n",
        "\n",
        "### Plot intervals usage based on state change in the bulb (ON to OFF or vice versa)\n",
        "def get_power_intervals(bulb_df, col):\n",
        "  intervals = []\n",
        "  cycle = bulb_df[col][0]\n",
        "  start = bulb_df['timestamp'][0]\n",
        "  current_timezone = pytz.timezone('US/Pacific')\n",
        "\n",
        "  for value, timestamp in zip(bulb_df[col][1:], bulb_df['timestamp'][1:]):\n",
        "    if value != cycle:\n",
        "      duration = timestamp - start\n",
        "      duration = round(duration.total_seconds() / 60 / 60, 2)\n",
        "\n",
        "      intervals.append({ 'start': current_timezone.localize(start).strftime('%m/%d/%Y %H:%M:%S %Z'),\n",
        "                         'end': current_timezone.localize(timestamp).strftime('%m/%d/%Y %H:%M:%S %Z'),\n",
        "                         'from': cycle,\n",
        "                         'to': value,\n",
        "                         'duration (hours)': duration})\n",
        "      cycle = value\n",
        "      start = timestamp\n",
        "\n",
        "  df = pd.DataFrame(intervals)\n",
        "  return df"
      ],
      "execution_count": 25,
      "outputs": []
    },
    {
      "cell_type": "code",
      "metadata": {
        "id": "hKZdGAYsul7U"
      },
      "source": [
        "interval_df = get_power_intervals(light_df, 'brightness')"
      ],
      "execution_count": 26,
      "outputs": []
    },
    {
      "cell_type": "code",
      "metadata": {
        "colab": {
          "base_uri": "https://localhost:8080/",
          "height": 1000
        },
        "id": "VbMw0QUXu9qt",
        "outputId": "19c4145e-66b4-4fe6-d103-2f9d6ed6dd14"
      },
      "source": [
        "interval_df"
      ],
      "execution_count": 27,
      "outputs": [
        {
          "output_type": "execute_result",
          "data": {
            "text/html": [
              "<div>\n",
              "<style scoped>\n",
              "    .dataframe tbody tr th:only-of-type {\n",
              "        vertical-align: middle;\n",
              "    }\n",
              "\n",
              "    .dataframe tbody tr th {\n",
              "        vertical-align: top;\n",
              "    }\n",
              "\n",
              "    .dataframe thead th {\n",
              "        text-align: right;\n",
              "    }\n",
              "</style>\n",
              "<table border=\"1\" class=\"dataframe\">\n",
              "  <thead>\n",
              "    <tr style=\"text-align: right;\">\n",
              "      <th></th>\n",
              "      <th>start</th>\n",
              "      <th>end</th>\n",
              "      <th>from</th>\n",
              "      <th>to</th>\n",
              "      <th>duration (hours)</th>\n",
              "    </tr>\n",
              "  </thead>\n",
              "  <tbody>\n",
              "    <tr>\n",
              "      <th>0</th>\n",
              "      <td>08/26/2021 13:46:00 PDT</td>\n",
              "      <td>08/26/2021 22:02:00 PDT</td>\n",
              "      <td>1</td>\n",
              "      <td>0</td>\n",
              "      <td>8.27</td>\n",
              "    </tr>\n",
              "    <tr>\n",
              "      <th>1</th>\n",
              "      <td>08/26/2021 22:02:00 PDT</td>\n",
              "      <td>08/26/2021 22:03:00 PDT</td>\n",
              "      <td>0</td>\n",
              "      <td>1</td>\n",
              "      <td>0.02</td>\n",
              "    </tr>\n",
              "    <tr>\n",
              "      <th>2</th>\n",
              "      <td>08/26/2021 22:03:00 PDT</td>\n",
              "      <td>08/27/2021 00:25:00 PDT</td>\n",
              "      <td>1</td>\n",
              "      <td>0</td>\n",
              "      <td>2.37</td>\n",
              "    </tr>\n",
              "    <tr>\n",
              "      <th>3</th>\n",
              "      <td>08/27/2021 00:25:00 PDT</td>\n",
              "      <td>08/28/2021 01:31:00 PDT</td>\n",
              "      <td>0</td>\n",
              "      <td>1</td>\n",
              "      <td>25.10</td>\n",
              "    </tr>\n",
              "    <tr>\n",
              "      <th>4</th>\n",
              "      <td>08/28/2021 01:31:00 PDT</td>\n",
              "      <td>08/28/2021 01:41:00 PDT</td>\n",
              "      <td>1</td>\n",
              "      <td>0</td>\n",
              "      <td>0.17</td>\n",
              "    </tr>\n",
              "    <tr>\n",
              "      <th>5</th>\n",
              "      <td>08/28/2021 01:41:00 PDT</td>\n",
              "      <td>08/28/2021 20:18:00 PDT</td>\n",
              "      <td>0</td>\n",
              "      <td>1</td>\n",
              "      <td>18.62</td>\n",
              "    </tr>\n",
              "    <tr>\n",
              "      <th>6</th>\n",
              "      <td>08/28/2021 20:18:00 PDT</td>\n",
              "      <td>08/29/2021 00:17:00 PDT</td>\n",
              "      <td>1</td>\n",
              "      <td>0</td>\n",
              "      <td>3.98</td>\n",
              "    </tr>\n",
              "    <tr>\n",
              "      <th>7</th>\n",
              "      <td>08/29/2021 00:17:00 PDT</td>\n",
              "      <td>08/30/2021 14:03:00 PDT</td>\n",
              "      <td>0</td>\n",
              "      <td>1</td>\n",
              "      <td>37.77</td>\n",
              "    </tr>\n",
              "    <tr>\n",
              "      <th>8</th>\n",
              "      <td>08/30/2021 14:03:00 PDT</td>\n",
              "      <td>08/30/2021 14:40:00 PDT</td>\n",
              "      <td>1</td>\n",
              "      <td>0</td>\n",
              "      <td>0.62</td>\n",
              "    </tr>\n",
              "    <tr>\n",
              "      <th>9</th>\n",
              "      <td>08/30/2021 14:40:00 PDT</td>\n",
              "      <td>08/30/2021 19:55:00 PDT</td>\n",
              "      <td>0</td>\n",
              "      <td>1</td>\n",
              "      <td>5.25</td>\n",
              "    </tr>\n",
              "    <tr>\n",
              "      <th>10</th>\n",
              "      <td>08/30/2021 19:55:00 PDT</td>\n",
              "      <td>08/30/2021 23:58:00 PDT</td>\n",
              "      <td>1</td>\n",
              "      <td>0</td>\n",
              "      <td>4.05</td>\n",
              "    </tr>\n",
              "    <tr>\n",
              "      <th>11</th>\n",
              "      <td>08/30/2021 23:58:00 PDT</td>\n",
              "      <td>08/31/2021 19:33:00 PDT</td>\n",
              "      <td>0</td>\n",
              "      <td>1</td>\n",
              "      <td>19.58</td>\n",
              "    </tr>\n",
              "    <tr>\n",
              "      <th>12</th>\n",
              "      <td>08/31/2021 19:33:00 PDT</td>\n",
              "      <td>09/01/2021 00:33:00 PDT</td>\n",
              "      <td>1</td>\n",
              "      <td>0</td>\n",
              "      <td>5.00</td>\n",
              "    </tr>\n",
              "    <tr>\n",
              "      <th>13</th>\n",
              "      <td>09/01/2021 00:33:00 PDT</td>\n",
              "      <td>09/01/2021 00:34:00 PDT</td>\n",
              "      <td>0</td>\n",
              "      <td>1</td>\n",
              "      <td>0.02</td>\n",
              "    </tr>\n",
              "    <tr>\n",
              "      <th>14</th>\n",
              "      <td>09/01/2021 00:34:00 PDT</td>\n",
              "      <td>09/01/2021 00:35:00 PDT</td>\n",
              "      <td>1</td>\n",
              "      <td>0</td>\n",
              "      <td>0.02</td>\n",
              "    </tr>\n",
              "    <tr>\n",
              "      <th>15</th>\n",
              "      <td>09/01/2021 00:35:00 PDT</td>\n",
              "      <td>09/01/2021 21:02:00 PDT</td>\n",
              "      <td>0</td>\n",
              "      <td>1</td>\n",
              "      <td>20.45</td>\n",
              "    </tr>\n",
              "    <tr>\n",
              "      <th>16</th>\n",
              "      <td>09/01/2021 21:02:00 PDT</td>\n",
              "      <td>09/02/2021 20:08:00 PDT</td>\n",
              "      <td>1</td>\n",
              "      <td>0</td>\n",
              "      <td>23.10</td>\n",
              "    </tr>\n",
              "    <tr>\n",
              "      <th>17</th>\n",
              "      <td>09/02/2021 20:08:00 PDT</td>\n",
              "      <td>09/02/2021 22:04:00 PDT</td>\n",
              "      <td>0</td>\n",
              "      <td>1</td>\n",
              "      <td>1.93</td>\n",
              "    </tr>\n",
              "    <tr>\n",
              "      <th>18</th>\n",
              "      <td>09/02/2021 22:04:00 PDT</td>\n",
              "      <td>09/03/2021 00:21:00 PDT</td>\n",
              "      <td>1</td>\n",
              "      <td>0</td>\n",
              "      <td>2.28</td>\n",
              "    </tr>\n",
              "    <tr>\n",
              "      <th>19</th>\n",
              "      <td>09/03/2021 00:21:00 PDT</td>\n",
              "      <td>09/07/2021 21:35:00 PDT</td>\n",
              "      <td>0</td>\n",
              "      <td>1</td>\n",
              "      <td>117.23</td>\n",
              "    </tr>\n",
              "    <tr>\n",
              "      <th>20</th>\n",
              "      <td>09/07/2021 21:35:00 PDT</td>\n",
              "      <td>09/07/2021 22:42:00 PDT</td>\n",
              "      <td>1</td>\n",
              "      <td>0</td>\n",
              "      <td>1.12</td>\n",
              "    </tr>\n",
              "    <tr>\n",
              "      <th>21</th>\n",
              "      <td>09/07/2021 22:42:00 PDT</td>\n",
              "      <td>09/08/2021 21:24:00 PDT</td>\n",
              "      <td>0</td>\n",
              "      <td>1</td>\n",
              "      <td>22.70</td>\n",
              "    </tr>\n",
              "    <tr>\n",
              "      <th>22</th>\n",
              "      <td>09/08/2021 21:24:00 PDT</td>\n",
              "      <td>09/08/2021 22:55:00 PDT</td>\n",
              "      <td>1</td>\n",
              "      <td>0</td>\n",
              "      <td>1.52</td>\n",
              "    </tr>\n",
              "    <tr>\n",
              "      <th>23</th>\n",
              "      <td>09/08/2021 22:55:00 PDT</td>\n",
              "      <td>09/09/2021 20:27:00 PDT</td>\n",
              "      <td>0</td>\n",
              "      <td>1</td>\n",
              "      <td>21.53</td>\n",
              "    </tr>\n",
              "    <tr>\n",
              "      <th>24</th>\n",
              "      <td>09/09/2021 20:27:00 PDT</td>\n",
              "      <td>09/09/2021 23:58:00 PDT</td>\n",
              "      <td>1</td>\n",
              "      <td>0</td>\n",
              "      <td>3.52</td>\n",
              "    </tr>\n",
              "    <tr>\n",
              "      <th>25</th>\n",
              "      <td>09/09/2021 23:58:00 PDT</td>\n",
              "      <td>09/10/2021 19:31:00 PDT</td>\n",
              "      <td>0</td>\n",
              "      <td>1</td>\n",
              "      <td>19.55</td>\n",
              "    </tr>\n",
              "    <tr>\n",
              "      <th>26</th>\n",
              "      <td>09/10/2021 19:31:00 PDT</td>\n",
              "      <td>09/11/2021 01:35:00 PDT</td>\n",
              "      <td>1</td>\n",
              "      <td>0</td>\n",
              "      <td>6.07</td>\n",
              "    </tr>\n",
              "    <tr>\n",
              "      <th>27</th>\n",
              "      <td>09/11/2021 01:35:00 PDT</td>\n",
              "      <td>09/12/2021 18:30:00 PDT</td>\n",
              "      <td>0</td>\n",
              "      <td>1</td>\n",
              "      <td>40.92</td>\n",
              "    </tr>\n",
              "    <tr>\n",
              "      <th>28</th>\n",
              "      <td>09/12/2021 18:30:00 PDT</td>\n",
              "      <td>09/12/2021 23:23:00 PDT</td>\n",
              "      <td>1</td>\n",
              "      <td>0</td>\n",
              "      <td>4.88</td>\n",
              "    </tr>\n",
              "    <tr>\n",
              "      <th>29</th>\n",
              "      <td>09/12/2021 23:23:00 PDT</td>\n",
              "      <td>09/13/2021 18:43:00 PDT</td>\n",
              "      <td>0</td>\n",
              "      <td>1</td>\n",
              "      <td>19.33</td>\n",
              "    </tr>\n",
              "    <tr>\n",
              "      <th>30</th>\n",
              "      <td>09/13/2021 18:43:00 PDT</td>\n",
              "      <td>09/14/2021 02:59:00 PDT</td>\n",
              "      <td>1</td>\n",
              "      <td>0</td>\n",
              "      <td>8.27</td>\n",
              "    </tr>\n",
              "    <tr>\n",
              "      <th>31</th>\n",
              "      <td>09/14/2021 02:59:00 PDT</td>\n",
              "      <td>09/14/2021 19:50:00 PDT</td>\n",
              "      <td>0</td>\n",
              "      <td>1</td>\n",
              "      <td>16.85</td>\n",
              "    </tr>\n",
              "    <tr>\n",
              "      <th>32</th>\n",
              "      <td>09/14/2021 19:50:00 PDT</td>\n",
              "      <td>09/14/2021 21:18:00 PDT</td>\n",
              "      <td>1</td>\n",
              "      <td>0</td>\n",
              "      <td>1.47</td>\n",
              "    </tr>\n",
              "    <tr>\n",
              "      <th>33</th>\n",
              "      <td>09/14/2021 21:18:00 PDT</td>\n",
              "      <td>09/14/2021 21:50:00 PDT</td>\n",
              "      <td>0</td>\n",
              "      <td>1</td>\n",
              "      <td>0.53</td>\n",
              "    </tr>\n",
              "    <tr>\n",
              "      <th>34</th>\n",
              "      <td>09/14/2021 21:50:00 PDT</td>\n",
              "      <td>09/14/2021 23:28:00 PDT</td>\n",
              "      <td>1</td>\n",
              "      <td>0</td>\n",
              "      <td>1.63</td>\n",
              "    </tr>\n",
              "    <tr>\n",
              "      <th>35</th>\n",
              "      <td>09/14/2021 23:28:00 PDT</td>\n",
              "      <td>09/16/2021 19:31:00 PDT</td>\n",
              "      <td>0</td>\n",
              "      <td>1</td>\n",
              "      <td>44.05</td>\n",
              "    </tr>\n",
              "    <tr>\n",
              "      <th>36</th>\n",
              "      <td>09/16/2021 19:31:00 PDT</td>\n",
              "      <td>09/17/2021 00:55:00 PDT</td>\n",
              "      <td>1</td>\n",
              "      <td>0</td>\n",
              "      <td>5.40</td>\n",
              "    </tr>\n",
              "    <tr>\n",
              "      <th>37</th>\n",
              "      <td>09/17/2021 00:55:00 PDT</td>\n",
              "      <td>09/17/2021 00:56:00 PDT</td>\n",
              "      <td>0</td>\n",
              "      <td>1</td>\n",
              "      <td>0.02</td>\n",
              "    </tr>\n",
              "    <tr>\n",
              "      <th>38</th>\n",
              "      <td>09/17/2021 00:56:00 PDT</td>\n",
              "      <td>09/17/2021 01:02:00 PDT</td>\n",
              "      <td>1</td>\n",
              "      <td>0</td>\n",
              "      <td>0.10</td>\n",
              "    </tr>\n",
              "    <tr>\n",
              "      <th>39</th>\n",
              "      <td>09/17/2021 01:02:00 PDT</td>\n",
              "      <td>09/17/2021 20:05:00 PDT</td>\n",
              "      <td>0</td>\n",
              "      <td>1</td>\n",
              "      <td>19.05</td>\n",
              "    </tr>\n",
              "    <tr>\n",
              "      <th>40</th>\n",
              "      <td>09/17/2021 20:05:00 PDT</td>\n",
              "      <td>09/17/2021 20:50:00 PDT</td>\n",
              "      <td>1</td>\n",
              "      <td>0</td>\n",
              "      <td>0.75</td>\n",
              "    </tr>\n",
              "    <tr>\n",
              "      <th>41</th>\n",
              "      <td>09/17/2021 20:50:00 PDT</td>\n",
              "      <td>09/17/2021 20:51:00 PDT</td>\n",
              "      <td>0</td>\n",
              "      <td>1</td>\n",
              "      <td>0.02</td>\n",
              "    </tr>\n",
              "    <tr>\n",
              "      <th>42</th>\n",
              "      <td>09/17/2021 20:51:00 PDT</td>\n",
              "      <td>09/17/2021 21:25:00 PDT</td>\n",
              "      <td>1</td>\n",
              "      <td>0</td>\n",
              "      <td>0.57</td>\n",
              "    </tr>\n",
              "    <tr>\n",
              "      <th>43</th>\n",
              "      <td>09/17/2021 21:25:00 PDT</td>\n",
              "      <td>09/18/2021 23:25:00 PDT</td>\n",
              "      <td>0</td>\n",
              "      <td>1</td>\n",
              "      <td>26.00</td>\n",
              "    </tr>\n",
              "    <tr>\n",
              "      <th>44</th>\n",
              "      <td>09/18/2021 23:25:00 PDT</td>\n",
              "      <td>09/19/2021 00:27:00 PDT</td>\n",
              "      <td>1</td>\n",
              "      <td>0</td>\n",
              "      <td>1.03</td>\n",
              "    </tr>\n",
              "    <tr>\n",
              "      <th>45</th>\n",
              "      <td>09/19/2021 00:27:00 PDT</td>\n",
              "      <td>09/19/2021 19:05:00 PDT</td>\n",
              "      <td>0</td>\n",
              "      <td>1</td>\n",
              "      <td>18.63</td>\n",
              "    </tr>\n",
              "    <tr>\n",
              "      <th>46</th>\n",
              "      <td>09/19/2021 19:05:00 PDT</td>\n",
              "      <td>09/20/2021 00:13:00 PDT</td>\n",
              "      <td>1</td>\n",
              "      <td>0</td>\n",
              "      <td>5.13</td>\n",
              "    </tr>\n",
              "    <tr>\n",
              "      <th>47</th>\n",
              "      <td>09/20/2021 00:13:00 PDT</td>\n",
              "      <td>09/20/2021 19:00:00 PDT</td>\n",
              "      <td>0</td>\n",
              "      <td>1</td>\n",
              "      <td>18.78</td>\n",
              "    </tr>\n",
              "  </tbody>\n",
              "</table>\n",
              "</div>"
            ],
            "text/plain": [
              "                      start                      end  ...  to  duration (hours)\n",
              "0   08/26/2021 13:46:00 PDT  08/26/2021 22:02:00 PDT  ...   0              8.27\n",
              "1   08/26/2021 22:02:00 PDT  08/26/2021 22:03:00 PDT  ...   1              0.02\n",
              "2   08/26/2021 22:03:00 PDT  08/27/2021 00:25:00 PDT  ...   0              2.37\n",
              "3   08/27/2021 00:25:00 PDT  08/28/2021 01:31:00 PDT  ...   1             25.10\n",
              "4   08/28/2021 01:31:00 PDT  08/28/2021 01:41:00 PDT  ...   0              0.17\n",
              "5   08/28/2021 01:41:00 PDT  08/28/2021 20:18:00 PDT  ...   1             18.62\n",
              "6   08/28/2021 20:18:00 PDT  08/29/2021 00:17:00 PDT  ...   0              3.98\n",
              "7   08/29/2021 00:17:00 PDT  08/30/2021 14:03:00 PDT  ...   1             37.77\n",
              "8   08/30/2021 14:03:00 PDT  08/30/2021 14:40:00 PDT  ...   0              0.62\n",
              "9   08/30/2021 14:40:00 PDT  08/30/2021 19:55:00 PDT  ...   1              5.25\n",
              "10  08/30/2021 19:55:00 PDT  08/30/2021 23:58:00 PDT  ...   0              4.05\n",
              "11  08/30/2021 23:58:00 PDT  08/31/2021 19:33:00 PDT  ...   1             19.58\n",
              "12  08/31/2021 19:33:00 PDT  09/01/2021 00:33:00 PDT  ...   0              5.00\n",
              "13  09/01/2021 00:33:00 PDT  09/01/2021 00:34:00 PDT  ...   1              0.02\n",
              "14  09/01/2021 00:34:00 PDT  09/01/2021 00:35:00 PDT  ...   0              0.02\n",
              "15  09/01/2021 00:35:00 PDT  09/01/2021 21:02:00 PDT  ...   1             20.45\n",
              "16  09/01/2021 21:02:00 PDT  09/02/2021 20:08:00 PDT  ...   0             23.10\n",
              "17  09/02/2021 20:08:00 PDT  09/02/2021 22:04:00 PDT  ...   1              1.93\n",
              "18  09/02/2021 22:04:00 PDT  09/03/2021 00:21:00 PDT  ...   0              2.28\n",
              "19  09/03/2021 00:21:00 PDT  09/07/2021 21:35:00 PDT  ...   1            117.23\n",
              "20  09/07/2021 21:35:00 PDT  09/07/2021 22:42:00 PDT  ...   0              1.12\n",
              "21  09/07/2021 22:42:00 PDT  09/08/2021 21:24:00 PDT  ...   1             22.70\n",
              "22  09/08/2021 21:24:00 PDT  09/08/2021 22:55:00 PDT  ...   0              1.52\n",
              "23  09/08/2021 22:55:00 PDT  09/09/2021 20:27:00 PDT  ...   1             21.53\n",
              "24  09/09/2021 20:27:00 PDT  09/09/2021 23:58:00 PDT  ...   0              3.52\n",
              "25  09/09/2021 23:58:00 PDT  09/10/2021 19:31:00 PDT  ...   1             19.55\n",
              "26  09/10/2021 19:31:00 PDT  09/11/2021 01:35:00 PDT  ...   0              6.07\n",
              "27  09/11/2021 01:35:00 PDT  09/12/2021 18:30:00 PDT  ...   1             40.92\n",
              "28  09/12/2021 18:30:00 PDT  09/12/2021 23:23:00 PDT  ...   0              4.88\n",
              "29  09/12/2021 23:23:00 PDT  09/13/2021 18:43:00 PDT  ...   1             19.33\n",
              "30  09/13/2021 18:43:00 PDT  09/14/2021 02:59:00 PDT  ...   0              8.27\n",
              "31  09/14/2021 02:59:00 PDT  09/14/2021 19:50:00 PDT  ...   1             16.85\n",
              "32  09/14/2021 19:50:00 PDT  09/14/2021 21:18:00 PDT  ...   0              1.47\n",
              "33  09/14/2021 21:18:00 PDT  09/14/2021 21:50:00 PDT  ...   1              0.53\n",
              "34  09/14/2021 21:50:00 PDT  09/14/2021 23:28:00 PDT  ...   0              1.63\n",
              "35  09/14/2021 23:28:00 PDT  09/16/2021 19:31:00 PDT  ...   1             44.05\n",
              "36  09/16/2021 19:31:00 PDT  09/17/2021 00:55:00 PDT  ...   0              5.40\n",
              "37  09/17/2021 00:55:00 PDT  09/17/2021 00:56:00 PDT  ...   1              0.02\n",
              "38  09/17/2021 00:56:00 PDT  09/17/2021 01:02:00 PDT  ...   0              0.10\n",
              "39  09/17/2021 01:02:00 PDT  09/17/2021 20:05:00 PDT  ...   1             19.05\n",
              "40  09/17/2021 20:05:00 PDT  09/17/2021 20:50:00 PDT  ...   0              0.75\n",
              "41  09/17/2021 20:50:00 PDT  09/17/2021 20:51:00 PDT  ...   1              0.02\n",
              "42  09/17/2021 20:51:00 PDT  09/17/2021 21:25:00 PDT  ...   0              0.57\n",
              "43  09/17/2021 21:25:00 PDT  09/18/2021 23:25:00 PDT  ...   1             26.00\n",
              "44  09/18/2021 23:25:00 PDT  09/19/2021 00:27:00 PDT  ...   0              1.03\n",
              "45  09/19/2021 00:27:00 PDT  09/19/2021 19:05:00 PDT  ...   1             18.63\n",
              "46  09/19/2021 19:05:00 PDT  09/20/2021 00:13:00 PDT  ...   0              5.13\n",
              "47  09/20/2021 00:13:00 PDT  09/20/2021 19:00:00 PDT  ...   1             18.78\n",
              "\n",
              "[48 rows x 5 columns]"
            ]
          },
          "metadata": {},
          "execution_count": 27
        }
      ]
    },
    {
      "cell_type": "code",
      "metadata": {
        "id": "nU6JCX1jKENQ"
      },
      "source": [
        "def lumens_to_watts(lumens):\n",
        "  if lumens > 0.5:\n",
        "    return MAX_WATTS\n",
        "  else:\n",
        "    return 0\n",
        "\n",
        "def add_watts(bulb_data):\n",
        "  bulb_data['watts'] = bulb_data['brightness'].apply(lambda x: lumens_to_watts(x))"
      ],
      "execution_count": 28,
      "outputs": []
    },
    {
      "cell_type": "code",
      "metadata": {
        "id": "62UJhcxGoTPA"
      },
      "source": [
        "add_watts(light_df)"
      ],
      "execution_count": 29,
      "outputs": []
    },
    {
      "cell_type": "markdown",
      "metadata": {
        "id": "UMJKnpxSm3x1"
      },
      "source": [
        "### Convert timestamp to hours and sum total watt usage"
      ]
    },
    {
      "cell_type": "code",
      "metadata": {
        "id": "BYEBOrTmm28P"
      },
      "source": [
        "def drop_seconds_from_timestamp(bulb_data):\n",
        "  bulb_data['timestamp'] = bulb_data['timestamp'].dt.strftime('%Y-%m-%d %H')\n",
        "  bulb_data['timestamp'] = pd.to_datetime(bulb_data['timestamp'])"
      ],
      "execution_count": 30,
      "outputs": []
    },
    {
      "cell_type": "code",
      "metadata": {
        "colab": {
          "base_uri": "https://localhost:8080/"
        },
        "id": "3IOi9pUonnR4",
        "outputId": "2923cc32-3fe5-4815-c020-8e5eb334103a"
      },
      "source": [
        "light_df_hourly = light_df.copy()\n",
        "drop_seconds_from_timestamp(light_df_hourly)\n",
        "light_df_hourly_aggd = light_df_hourly.groupby(['timestamp']).agg({\n",
        "    'brightness': 'mean',\n",
        "    'kelvin': 'mean',\n",
        "    'watts': 'sum'\n",
        "  })\n",
        "# convert watts per hour to kilowatts per hour\n",
        "light_df_hourly_aggd['watts'] = light_df_hourly_aggd['watts'] / 1000\n",
        "light_df_hourly_aggd.rename(columns={'watts': 'kWH'}, inplace=True)\n",
        "light_df_hourly_aggd['kWH'].describe()"
      ],
      "execution_count": 31,
      "outputs": [
        {
          "output_type": "execute_result",
          "data": {
            "text/plain": [
              "count    609.000000\n",
              "mean       0.078552\n",
              "std        0.176214\n",
              "min        0.000000\n",
              "25%        0.000000\n",
              "50%        0.000000\n",
              "75%        0.000000\n",
              "max        0.510000\n",
              "Name: kWH, dtype: float64"
            ]
          },
          "metadata": {},
          "execution_count": 31
        }
      ]
    },
    {
      "cell_type": "code",
      "metadata": {
        "id": "uFJpMGQHpJ_2"
      },
      "source": [
        "light_df_hourly_aggd.reset_index(inplace=True)"
      ],
      "execution_count": 32,
      "outputs": []
    },
    {
      "cell_type": "code",
      "metadata": {
        "colab": {
          "base_uri": "https://localhost:8080/",
          "height": 419
        },
        "id": "qaVaSv4lpGDp",
        "outputId": "dfb4baba-64e8-4a95-fa75-6a6be7d32438"
      },
      "source": [
        "get_power_intervals(light_df_hourly_aggd, 'kWH')"
      ],
      "execution_count": 33,
      "outputs": [
        {
          "output_type": "execute_result",
          "data": {
            "text/html": [
              "<div>\n",
              "<style scoped>\n",
              "    .dataframe tbody tr th:only-of-type {\n",
              "        vertical-align: middle;\n",
              "    }\n",
              "\n",
              "    .dataframe tbody tr th {\n",
              "        vertical-align: top;\n",
              "    }\n",
              "\n",
              "    .dataframe thead th {\n",
              "        text-align: right;\n",
              "    }\n",
              "</style>\n",
              "<table border=\"1\" class=\"dataframe\">\n",
              "  <thead>\n",
              "    <tr style=\"text-align: right;\">\n",
              "      <th></th>\n",
              "      <th>start</th>\n",
              "      <th>end</th>\n",
              "      <th>from</th>\n",
              "      <th>to</th>\n",
              "      <th>duration (hours)</th>\n",
              "    </tr>\n",
              "  </thead>\n",
              "  <tbody>\n",
              "    <tr>\n",
              "      <th>0</th>\n",
              "      <td>08/26/2021 13:00:00 PDT</td>\n",
              "      <td>08/26/2021 14:00:00 PDT</td>\n",
              "      <td>0.1190</td>\n",
              "      <td>0.5100</td>\n",
              "      <td>1.0</td>\n",
              "    </tr>\n",
              "    <tr>\n",
              "      <th>1</th>\n",
              "      <td>08/26/2021 14:00:00 PDT</td>\n",
              "      <td>08/26/2021 22:00:00 PDT</td>\n",
              "      <td>0.5100</td>\n",
              "      <td>0.5015</td>\n",
              "      <td>8.0</td>\n",
              "    </tr>\n",
              "    <tr>\n",
              "      <th>2</th>\n",
              "      <td>08/26/2021 22:00:00 PDT</td>\n",
              "      <td>08/26/2021 23:00:00 PDT</td>\n",
              "      <td>0.5015</td>\n",
              "      <td>0.5100</td>\n",
              "      <td>1.0</td>\n",
              "    </tr>\n",
              "    <tr>\n",
              "      <th>3</th>\n",
              "      <td>08/26/2021 23:00:00 PDT</td>\n",
              "      <td>08/27/2021 00:00:00 PDT</td>\n",
              "      <td>0.5100</td>\n",
              "      <td>0.2125</td>\n",
              "      <td>1.0</td>\n",
              "    </tr>\n",
              "    <tr>\n",
              "      <th>4</th>\n",
              "      <td>08/27/2021 00:00:00 PDT</td>\n",
              "      <td>08/27/2021 01:00:00 PDT</td>\n",
              "      <td>0.2125</td>\n",
              "      <td>0.0000</td>\n",
              "      <td>1.0</td>\n",
              "    </tr>\n",
              "    <tr>\n",
              "      <th>...</th>\n",
              "      <td>...</td>\n",
              "      <td>...</td>\n",
              "      <td>...</td>\n",
              "      <td>...</td>\n",
              "      <td>...</td>\n",
              "    </tr>\n",
              "    <tr>\n",
              "      <th>69</th>\n",
              "      <td>09/19/2021 19:00:00 PDT</td>\n",
              "      <td>09/19/2021 20:00:00 PDT</td>\n",
              "      <td>0.4675</td>\n",
              "      <td>0.5100</td>\n",
              "      <td>1.0</td>\n",
              "    </tr>\n",
              "    <tr>\n",
              "      <th>70</th>\n",
              "      <td>09/19/2021 20:00:00 PDT</td>\n",
              "      <td>09/20/2021 00:00:00 PDT</td>\n",
              "      <td>0.5100</td>\n",
              "      <td>0.1105</td>\n",
              "      <td>4.0</td>\n",
              "    </tr>\n",
              "    <tr>\n",
              "      <th>71</th>\n",
              "      <td>09/20/2021 00:00:00 PDT</td>\n",
              "      <td>09/20/2021 01:00:00 PDT</td>\n",
              "      <td>0.1105</td>\n",
              "      <td>0.0000</td>\n",
              "      <td>1.0</td>\n",
              "    </tr>\n",
              "    <tr>\n",
              "      <th>72</th>\n",
              "      <td>09/20/2021 01:00:00 PDT</td>\n",
              "      <td>09/20/2021 19:00:00 PDT</td>\n",
              "      <td>0.0000</td>\n",
              "      <td>0.5100</td>\n",
              "      <td>18.0</td>\n",
              "    </tr>\n",
              "    <tr>\n",
              "      <th>73</th>\n",
              "      <td>09/20/2021 19:00:00 PDT</td>\n",
              "      <td>09/20/2021 21:00:00 PDT</td>\n",
              "      <td>0.5100</td>\n",
              "      <td>0.2550</td>\n",
              "      <td>2.0</td>\n",
              "    </tr>\n",
              "  </tbody>\n",
              "</table>\n",
              "<p>74 rows × 5 columns</p>\n",
              "</div>"
            ],
            "text/plain": [
              "                      start                      end  ...      to  duration (hours)\n",
              "0   08/26/2021 13:00:00 PDT  08/26/2021 14:00:00 PDT  ...  0.5100               1.0\n",
              "1   08/26/2021 14:00:00 PDT  08/26/2021 22:00:00 PDT  ...  0.5015               8.0\n",
              "2   08/26/2021 22:00:00 PDT  08/26/2021 23:00:00 PDT  ...  0.5100               1.0\n",
              "3   08/26/2021 23:00:00 PDT  08/27/2021 00:00:00 PDT  ...  0.2125               1.0\n",
              "4   08/27/2021 00:00:00 PDT  08/27/2021 01:00:00 PDT  ...  0.0000               1.0\n",
              "..                      ...                      ...  ...     ...               ...\n",
              "69  09/19/2021 19:00:00 PDT  09/19/2021 20:00:00 PDT  ...  0.5100               1.0\n",
              "70  09/19/2021 20:00:00 PDT  09/20/2021 00:00:00 PDT  ...  0.1105               4.0\n",
              "71  09/20/2021 00:00:00 PDT  09/20/2021 01:00:00 PDT  ...  0.0000               1.0\n",
              "72  09/20/2021 01:00:00 PDT  09/20/2021 19:00:00 PDT  ...  0.5100              18.0\n",
              "73  09/20/2021 19:00:00 PDT  09/20/2021 21:00:00 PDT  ...  0.2550               2.0\n",
              "\n",
              "[74 rows x 5 columns]"
            ]
          },
          "metadata": {},
          "execution_count": 33
        }
      ]
    },
    {
      "cell_type": "code",
      "metadata": {
        "colab": {
          "base_uri": "https://localhost:8080/"
        },
        "id": "H42dRWGoK9Z_",
        "outputId": "21387aff-1e3b-4d81-a0bc-e8e7af3f6413"
      },
      "source": [
        "light_df_hourly_aggd.head()\n",
        "print (len(light_df_hourly_aggd))\n",
        "light_df_hourly_aggd.to_csv('{0}_{1}_hourly.csv'.format(light_df_hourly_aggd['timestamp'].min(), light_df_hourly_aggd['timestamp'].max()))"
      ],
      "execution_count": 34,
      "outputs": [
        {
          "output_type": "stream",
          "name": "stdout",
          "text": [
            "609\n"
          ]
        }
      ]
    },
    {
      "cell_type": "markdown",
      "metadata": {
        "id": "tePVcg2O6YkZ"
      },
      "source": [
        "https://www.energy.gov/energysaver/lighting-choices-save-you-money\n",
        "- Households spend 15% on lighting and can save 225$ per year by switching to LED bulbs \n",
        "\n",
        "https://www.energy.gov/energysaver/led-lighting\n",
        "- LED bulbs release 80% of their energy as heat\n",
        "\n",
        "Bulb energy useage\n",
        "- Watt = joules per second, how much energy it takes to power the bulb\n",
        "- Lumens = how much brightness the bulb provides\n",
        "more energy efficient bulbs have a higher lumens per watt ratio\n",
        "- Watts are usually used for individual bulbs and KW for large-scale capacity\n",
        "- KWh = energy usage over time. Multiple watts by hours used. Energy pricing is based on KWh or usage time"
      ]
    },
    {
      "cell_type": "markdown",
      "metadata": {
        "id": "8PYNdWrK0hr_"
      },
      "source": [
        "### Pre-processing\n",
        "1. Any brightness > 0.5 is considered ON\n",
        "2. Multiple missing time gaps - these were filled with a value of OFF\n",
        "3. Original dataset did not have any missing values\n",
        "4. Original length ~2.8k, after processing ~19k\n",
        "5. Some brightness value did not have a correpsonding temp and vice versa, missing values were filled in via max or min brightness / temp\n",
        "6. No straightforward way to calculate watts from temperature and brightness, can we assume if the light is on it's using the total wattage available? What if it's dimmed?\n",
        "\n",
        "### Light usage patterns\n",
        "- Use the lights mostly at night time from 8 PM to 2 AM\n",
        "- Working late might forget to turn on lights\n",
        "- Sometimes will use light from the TV, one person will watch tv almost every day\n",
        "- Daily routines are mostly the same but there may be seasonal changes based on daylight savings\n",
        "- 2-3 people living in the house\n",
        "- Lights are in the living room where everyone uses it"
      ]
    },
    {
      "cell_type": "markdown",
      "metadata": {
        "id": "iqOqhdfn1haV"
      },
      "source": [
        "### Results\n",
        "1. Lights were on from Sept 2nd to Sept 3rd?\n",
        "- Part of an experiment and intentially left on\n",
        "\n",
        "2. Lights were off from Sept 3rd to Sept 8th (participants came home on the 6th)\n",
        "3. Lights were also off for most of the day on Sept 8th to 9th"
      ]
    },
    {
      "cell_type": "code",
      "metadata": {
        "id": "K8CBR3ymxa8S"
      },
      "source": [
        ""
      ],
      "execution_count": 470,
      "outputs": []
    },
    {
      "cell_type": "code",
      "metadata": {
        "id": "YsZf3jSb04Oq"
      },
      "source": [
        ""
      ],
      "execution_count": null,
      "outputs": []
    }
  ]
}