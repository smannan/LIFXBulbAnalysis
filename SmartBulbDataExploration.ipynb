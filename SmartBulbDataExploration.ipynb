{
  "nbformat": 4,
  "nbformat_minor": 0,
  "metadata": {
    "colab": {
      "name": "SmartBulbDataExploration.ipynb",
      "provenance": [],
      "collapsed_sections": [],
      "authorship_tag": "ABX9TyPhzjla7Lt9omCXYbHSfC2B",
      "include_colab_link": true
    },
    "kernelspec": {
      "name": "python3",
      "display_name": "Python 3"
    },
    "language_info": {
      "name": "python"
    }
  },
  "cells": [
    {
      "cell_type": "markdown",
      "metadata": {
        "id": "view-in-github",
        "colab_type": "text"
      },
      "source": [
        "<a href=\"https://colab.research.google.com/github/smannan/LIFXBulbAnalysis/blob/main/SmartBulbDataExploration.ipynb\" target=\"_parent\"><img src=\"https://colab.research.google.com/assets/colab-badge.svg\" alt=\"Open In Colab\"/></a>"
      ]
    },
    {
      "cell_type": "markdown",
      "metadata": {
        "id": "RWRwCxKzgTkg"
      },
      "source": [
        "Analyze brightness for Influx light bulbs\n",
        "\n",
        "1.   Input data frame should have 3 columns: bulb id, timestamp, and value\n",
        "2.   Supported values are power or brighness\n",
        "3.   Brightness value should be a floating point\n",
        "4.   Power should be ON or OFF\n",
        "\n"
      ]
    },
    {
      "cell_type": "code",
      "metadata": {
        "id": "Z2oIXIuXncOd"
      },
      "source": [
        "import matplotlib.pyplot as plt\n",
        "import os\n",
        "import pandas as pd\n",
        "\n",
        "from datetime import datetime\n",
        "from dateutil.parser import parse"
      ],
      "execution_count": 1,
      "outputs": []
    },
    {
      "cell_type": "code",
      "metadata": {
        "id": "FoB1hhFDaV1g"
      },
      "source": [
        "MAX_TEMP = 2700.0 # (in Kelvin) 4,400 Farenheit\n",
        "MIN_TEMP = 0.0 # (in Kelvin)\n",
        "MAX_LUMENS = 650 # (lumens)\n",
        "MAX_WATTS = 8.5\n",
        "LUMENS_PER_WATT = MAX_LUMENS / MAX_WATTS # ~76.5"
      ],
      "execution_count": 24,
      "outputs": []
    },
    {
      "cell_type": "code",
      "metadata": {
        "id": "dR1k_TYJl3xZ"
      },
      "source": [
        "import matplotlib.pyplot as plt\n",
        "from datetime import datetime, timedelta\n",
        "import matplotlib.dates as dates\n",
        "\n",
        "def plot_hist(bulb_df):\n",
        "  fig, ax = plt.subplots(figsize=(10, 5))\n",
        "  ax.hist(bulb_df['value'], bins=25)\n",
        "  plt.show()"
      ],
      "execution_count": 3,
      "outputs": []
    },
    {
      "cell_type": "code",
      "metadata": {
        "colab": {
          "base_uri": "https://localhost:8080/"
        },
        "id": "nr7uRee4nVgV",
        "outputId": "cc520ba5-a646-4330-c90f-84bc1fea0dc6"
      },
      "source": [
        "from google.colab import drive\n",
        "drive.mount('/content/drive')"
      ],
      "execution_count": 5,
      "outputs": [
        {
          "output_type": "stream",
          "name": "stdout",
          "text": [
            "Drive already mounted at /content/drive; to attempt to forcibly remount, call drive.mount(\"/content/drive\", force_remount=True).\n"
          ]
        }
      ]
    },
    {
      "cell_type": "code",
      "metadata": {
        "id": "_pSUIaNn79yK"
      },
      "source": [
        "def drop_seconds_from_timestamp(df):\n",
        "  bulb_data['timestamp'] = pd.to_datetime(bulb_data['timestamp'])\n",
        "  bulb_data['timestamp'] = bulb_data['timestamp'].dt.strftime('%Y-%m-%d %H:%M')\n",
        "  bulb_data['timestamp'] = pd.to_datetime(bulb_data['timestamp'])"
      ],
      "execution_count": 6,
      "outputs": []
    },
    {
      "cell_type": "code",
      "metadata": {
        "id": "NdE_nD3Y5sjW"
      },
      "source": [
        "# brightness is measured in percentage of lumens used\n",
        "def scale_brightness(df):\n",
        "  df['brightness'] = df['brightness'] * MAX_LUMENS"
      ],
      "execution_count": 8,
      "outputs": []
    },
    {
      "cell_type": "code",
      "metadata": {
        "id": "rB8QHTmsni79"
      },
      "source": [
        "filename = '/content/drive/Shared drives/CMPE295B/ProcessedBulbData/smart_bulb_data_from_influx_2021-08-26-20_46_2021-09-11-08_34.csv'\n",
        "bulb_data = pd.read_csv(filename, infer_datetime_format = True)\n",
        "drop_seconds_from_timestamp(bulb_data)\n",
        "scale_brightness(bulb_data)\n",
        "bulb_data.drop(['Unnamed: 0'], axis=1, inplace=True)"
      ],
      "execution_count": 9,
      "outputs": []
    },
    {
      "cell_type": "code",
      "metadata": {
        "colab": {
          "base_uri": "https://localhost:8080/",
          "height": 204
        },
        "id": "ix2Ql905pSUP",
        "outputId": "f6dc030d-077f-4a18-a7ad-8e1a9fb2a16b"
      },
      "source": [
        "bulb_data.head()"
      ],
      "execution_count": 10,
      "outputs": [
        {
          "output_type": "execute_result",
          "data": {
            "text/html": [
              "<div>\n",
              "<style scoped>\n",
              "    .dataframe tbody tr th:only-of-type {\n",
              "        vertical-align: middle;\n",
              "    }\n",
              "\n",
              "    .dataframe tbody tr th {\n",
              "        vertical-align: top;\n",
              "    }\n",
              "\n",
              "    .dataframe thead th {\n",
              "        text-align: right;\n",
              "    }\n",
              "</style>\n",
              "<table border=\"1\" class=\"dataframe\">\n",
              "  <thead>\n",
              "    <tr style=\"text-align: right;\">\n",
              "      <th></th>\n",
              "      <th>timestamp</th>\n",
              "      <th>id</th>\n",
              "      <th>kelvin</th>\n",
              "      <th>brightness</th>\n",
              "    </tr>\n",
              "  </thead>\n",
              "  <tbody>\n",
              "    <tr>\n",
              "      <th>0</th>\n",
              "      <td>2021-08-26 20:57:00</td>\n",
              "      <td>d073d55e535c</td>\n",
              "      <td>2700.0</td>\n",
              "      <td>NaN</td>\n",
              "    </tr>\n",
              "    <tr>\n",
              "      <th>1</th>\n",
              "      <td>2021-08-26 20:58:00</td>\n",
              "      <td>d073d55e535c</td>\n",
              "      <td>2700.0</td>\n",
              "      <td>NaN</td>\n",
              "    </tr>\n",
              "    <tr>\n",
              "      <th>2</th>\n",
              "      <td>2021-08-26 20:59:00</td>\n",
              "      <td>d073d55e535c</td>\n",
              "      <td>2700.0</td>\n",
              "      <td>NaN</td>\n",
              "    </tr>\n",
              "    <tr>\n",
              "      <th>3</th>\n",
              "      <td>2021-08-26 21:00:00</td>\n",
              "      <td>d073d55e535c</td>\n",
              "      <td>2700.0</td>\n",
              "      <td>NaN</td>\n",
              "    </tr>\n",
              "    <tr>\n",
              "      <th>4</th>\n",
              "      <td>2021-08-26 21:01:00</td>\n",
              "      <td>d073d55e535c</td>\n",
              "      <td>2700.0</td>\n",
              "      <td>NaN</td>\n",
              "    </tr>\n",
              "  </tbody>\n",
              "</table>\n",
              "</div>"
            ],
            "text/plain": [
              "            timestamp            id  kelvin  brightness\n",
              "0 2021-08-26 20:57:00  d073d55e535c  2700.0         NaN\n",
              "1 2021-08-26 20:58:00  d073d55e535c  2700.0         NaN\n",
              "2 2021-08-26 20:59:00  d073d55e535c  2700.0         NaN\n",
              "3 2021-08-26 21:00:00  d073d55e535c  2700.0         NaN\n",
              "4 2021-08-26 21:01:00  d073d55e535c  2700.0         NaN"
            ]
          },
          "metadata": {},
          "execution_count": 10
        }
      ]
    },
    {
      "cell_type": "code",
      "metadata": {
        "colab": {
          "base_uri": "https://localhost:8080/"
        },
        "id": "OVi8niCwlwv8",
        "outputId": "0cc0e080-624e-401c-92ec-b14443a37525"
      },
      "source": [
        "bulb_data['brightness'].describe()"
      ],
      "execution_count": 11,
      "outputs": [
        {
          "output_type": "execute_result",
          "data": {
            "text/plain": [
              "count    3727.000000\n",
              "mean      545.105574\n",
              "std        66.056288\n",
              "min         0.000000\n",
              "25%       541.905000\n",
              "50%       541.905000\n",
              "75%       541.905000\n",
              "max       650.000000\n",
              "Name: brightness, dtype: float64"
            ]
          },
          "metadata": {},
          "execution_count": 11
        }
      ]
    },
    {
      "cell_type": "code",
      "metadata": {
        "colab": {
          "base_uri": "https://localhost:8080/"
        },
        "id": "W_lOeovKdzAn",
        "outputId": "4ecf7d22-34ae-4488-bf71-819fd9e73638"
      },
      "source": [
        "bulb_data['kelvin'].describe()"
      ],
      "execution_count": 12,
      "outputs": [
        {
          "output_type": "execute_result",
          "data": {
            "text/plain": [
              "count    2979.000000\n",
              "mean     2691.842900\n",
              "std       148.205952\n",
              "min         0.000000\n",
              "25%      2700.000000\n",
              "50%      2700.000000\n",
              "75%      2700.000000\n",
              "max      2700.000000\n",
              "Name: kelvin, dtype: float64"
            ]
          },
          "metadata": {},
          "execution_count": 12
        }
      ]
    },
    {
      "cell_type": "code",
      "metadata": {
        "colab": {
          "base_uri": "https://localhost:8080/",
          "height": 142
        },
        "id": "JktKOXOnfLH5",
        "outputId": "08f805a9-6377-459d-9c5a-21a4a4ee5887"
      },
      "source": [
        "# group by light bulb id and sum the number of missing data for each bulb\n",
        "bulb_data.groupby(['id']).agg({\n",
        "    'brightness': lambda x: x.isnull().sum(),\n",
        "    'kelvin': lambda x: x.isnull().sum(),\n",
        "    'timestamp': lambda x: x.isnull().sum(),\n",
        "    'id': lambda x: x.isnull().sum()\n",
        "})"
      ],
      "execution_count": 13,
      "outputs": [
        {
          "output_type": "execute_result",
          "data": {
            "text/html": [
              "<div>\n",
              "<style scoped>\n",
              "    .dataframe tbody tr th:only-of-type {\n",
              "        vertical-align: middle;\n",
              "    }\n",
              "\n",
              "    .dataframe tbody tr th {\n",
              "        vertical-align: top;\n",
              "    }\n",
              "\n",
              "    .dataframe thead th {\n",
              "        text-align: right;\n",
              "    }\n",
              "</style>\n",
              "<table border=\"1\" class=\"dataframe\">\n",
              "  <thead>\n",
              "    <tr style=\"text-align: right;\">\n",
              "      <th></th>\n",
              "      <th>brightness</th>\n",
              "      <th>kelvin</th>\n",
              "      <th>timestamp</th>\n",
              "      <th>id</th>\n",
              "    </tr>\n",
              "    <tr>\n",
              "      <th>id</th>\n",
              "      <th></th>\n",
              "      <th></th>\n",
              "      <th></th>\n",
              "      <th></th>\n",
              "    </tr>\n",
              "  </thead>\n",
              "  <tbody>\n",
              "    <tr>\n",
              "      <th>d073d55df12f</th>\n",
              "      <td>11.0</td>\n",
              "      <td>3722.0</td>\n",
              "      <td>0</td>\n",
              "      <td>0</td>\n",
              "    </tr>\n",
              "    <tr>\n",
              "      <th>d073d55e535c</th>\n",
              "      <td>2968.0</td>\n",
              "      <td>5.0</td>\n",
              "      <td>0</td>\n",
              "      <td>0</td>\n",
              "    </tr>\n",
              "  </tbody>\n",
              "</table>\n",
              "</div>"
            ],
            "text/plain": [
              "              brightness  kelvin  timestamp  id\n",
              "id                                             \n",
              "d073d55df12f        11.0  3722.0          0   0\n",
              "d073d55e535c      2968.0     5.0          0   0"
            ]
          },
          "metadata": {},
          "execution_count": 13
        }
      ]
    },
    {
      "cell_type": "code",
      "metadata": {
        "id": "i4bQBA0XsDHe"
      },
      "source": [
        "def fill_missing_data(bulb_data):\n",
        "  bulb_data_complete = bulb_data.copy()\n",
        "\n",
        "  # where brightness > 0.5 and kelvin = null, set kelvin to max temp\n",
        "  bulb_data_complete.loc[bulb_data_complete['brightness'] >= 0.5, 'kelvin'] = \\\n",
        "    bulb_data_complete.loc[bulb_data_complete['brightness'] >= 0.5, 'kelvin'].fillna(bulb_data_complete['kelvin'].max())\n",
        "\n",
        "  # where brightness = 0 and kelvin = null, set kelvin to min temp\n",
        "  bulb_data_complete.loc[bulb_data_complete['brightness'] < 0.5, 'kelvin'] = \\\n",
        "    bulb_data_complete.loc[bulb_data_complete['brightness'] < 0.5, 'kelvin'].fillna(bulb_data_complete['kelvin'].min())\n",
        "\n",
        "  # where kelvin is MAX_TEMP and brightness = null, set brightness to max\n",
        "  bulb_data_complete.loc[bulb_data_complete['kelvin'] == MAX_TEMP, 'brightness'] = \\\n",
        "    bulb_data_complete.loc[bulb_data_complete['kelvin'] == MAX_TEMP, 'brightness'].fillna(bulb_data_complete['brightness'].max())\n",
        "\n",
        "  # where kelvin is MIN_TEMP and brightness = null, set brightness to min\n",
        "  bulb_data_complete.loc[bulb_data_complete['kelvin'] == MIN_TEMP, 'brightness'] = \\\n",
        "    bulb_data_complete.loc[bulb_data_complete['kelvin'] == MIN_TEMP, 'brightness'].fillna(bulb_data_complete['brightness'].min())\n",
        "\n",
        "  return bulb_data_complete"
      ],
      "execution_count": 14,
      "outputs": []
    },
    {
      "cell_type": "markdown",
      "metadata": {
        "id": "sOqobutOcZ1W"
      },
      "source": [
        "### Fill in missing brightness and Kelvin values\n",
        "- Some temperature readings don't have a brightness reading and vice versa?"
      ]
    },
    {
      "cell_type": "code",
      "metadata": {
        "colab": {
          "base_uri": "https://localhost:8080/"
        },
        "id": "-MKp3PMignNN",
        "outputId": "f2d95650-8f7d-422d-b85c-19bbada18ed3"
      },
      "source": [
        "bulb_data_complete = fill_missing_data(bulb_data)\n",
        "bulb_data_complete.info()"
      ],
      "execution_count": 15,
      "outputs": [
        {
          "output_type": "stream",
          "name": "stdout",
          "text": [
            "<class 'pandas.core.frame.DataFrame'>\n",
            "RangeIndex: 6706 entries, 0 to 6705\n",
            "Data columns (total 4 columns):\n",
            " #   Column      Non-Null Count  Dtype         \n",
            "---  ------      --------------  -----         \n",
            " 0   timestamp   6706 non-null   datetime64[ns]\n",
            " 1   id          6706 non-null   object        \n",
            " 2   kelvin      6706 non-null   float64       \n",
            " 3   brightness  6706 non-null   float64       \n",
            "dtypes: datetime64[ns](1), float64(2), object(1)\n",
            "memory usage: 209.7+ KB\n"
          ]
        }
      ]
    },
    {
      "cell_type": "code",
      "metadata": {
        "id": "NwuqT-cDutRg"
      },
      "source": [
        "def find_time_interval_gaps(bulb_df, interval=1.0):\n",
        "  times = bulb_df['timestamp'].tolist()\n",
        "  start_time = times[0]\n",
        "  diffs = []\n",
        "\n",
        "  for timestamp in times:\n",
        "    diff_in_minutes = (timestamp - start_time).total_seconds() / 60\n",
        "\n",
        "    if (diff_in_minutes > interval):\n",
        "      diffs.append(diff_in_minutes)\n",
        "\n",
        "    start_time = timestamp\n",
        "\n",
        "  if (diffs):\n",
        "    print ('# of intervals > 1 min = {0}. Max diff = {1}, Min diff = {2}, Avg diff = {3}'.format(\n",
        "      len(diffs), max(diffs), min(diffs), sum(diffs) / len(diffs)))\n",
        "  \n",
        "  return diffs"
      ],
      "execution_count": 16,
      "outputs": []
    },
    {
      "cell_type": "code",
      "metadata": {
        "id": "uqFmXpv4c-9z"
      },
      "source": [
        "def analyze_df_for_bulb(bulb_df):\n",
        "  print('start time', bulb_df['timestamp'].min(), 'end time', bulb_df['timestamp'].max())\n",
        "\n",
        "  fig, axs = plt.subplots(2)\n",
        "  fig.suptitle('Brigthness (1) and Temp (2)')\n",
        "  axs[0].plot(bulb_df['timestamp'], bulb_df['brightness'])\n",
        "  axs[1].plot(bulb_df['timestamp'], bulb_df['kelvin'])\n",
        "  plt.gcf().autofmt_xdate()\n",
        "\n",
        "  find_time_interval_gaps(bulb_df)"
      ],
      "execution_count": 17,
      "outputs": []
    },
    {
      "cell_type": "markdown",
      "metadata": {
        "id": "ut_3R1Tpfrok"
      },
      "source": [
        "### Plot brightness and temp over time"
      ]
    },
    {
      "cell_type": "code",
      "metadata": {
        "colab": {
          "base_uri": "https://localhost:8080/",
          "height": 334
        },
        "id": "XZ8t0JYAfZQg",
        "outputId": "d44b5183-fa37-42d0-ddf7-df995288a5c6"
      },
      "source": [
        "analyze_df_for_bulb(bulb_data_complete.loc[bulb_data_complete['id'] == 'd073d55df12f'])"
      ],
      "execution_count": 18,
      "outputs": [
        {
          "output_type": "stream",
          "name": "stdout",
          "text": [
            "start time 2021-08-26 20:46:00 end time 2021-09-11 08:34:00\n",
            "# of intervals > 1 min = 11. Max diff = 7034.0, Min diff = 116.0, Avg diff = 1689.7272727272727\n"
          ]
        },
        {
          "output_type": "display_data",
          "data": {
            "image/png": "[encoded data removed]",
            "text/plain": [
              "<Figure size 432x288 with 2 Axes>"
            ]
          },
          "metadata": {
            "needs_background": "light"
          }
        }
      ]
    },
    {
      "cell_type": "code",
      "metadata": {
        "id": "_nc0IuZFhXnQ"
      },
      "source": [
        "def fill_in_missing_times(bulb_data, id):\n",
        "  light_df = bulb_data.loc[bulb_data['id'] == id]\n",
        "  r = pd.date_range(start=light_df.timestamp.min(), end=light_df.timestamp.max(), freq='1min')\n",
        "  reindexed = light_df.set_index('timestamp').reindex(r).rename_axis('timestamp').reset_index()\n",
        "\n",
        "  reindexed['brightness'].fillna(reindexed['brightness'].min(), inplace=True)\n",
        "  reindexed['kelvin'].fillna(reindexed['kelvin'].min(), inplace=True)\n",
        "  reindexed['id'].fillna(id, inplace=True)\n",
        "  \n",
        "  return reindexed"
      ],
      "execution_count": 19,
      "outputs": []
    },
    {
      "cell_type": "code",
      "metadata": {
        "colab": {
          "base_uri": "https://localhost:8080/",
          "height": 204
        },
        "id": "BAwbzBYQi1mb",
        "outputId": "dd5a81c0-bae5-41bf-cbc2-743c61dd3efb"
      },
      "source": [
        "light_df = fill_in_missing_times(bulb_data_complete, 'd073d55df12f')\n",
        "light_df.head()"
      ],
      "execution_count": 20,
      "outputs": [
        {
          "output_type": "execute_result",
          "data": {
            "text/html": [
              "<div>\n",
              "<style scoped>\n",
              "    .dataframe tbody tr th:only-of-type {\n",
              "        vertical-align: middle;\n",
              "    }\n",
              "\n",
              "    .dataframe tbody tr th {\n",
              "        vertical-align: top;\n",
              "    }\n",
              "\n",
              "    .dataframe thead th {\n",
              "        text-align: right;\n",
              "    }\n",
              "</style>\n",
              "<table border=\"1\" class=\"dataframe\">\n",
              "  <thead>\n",
              "    <tr style=\"text-align: right;\">\n",
              "      <th></th>\n",
              "      <th>timestamp</th>\n",
              "      <th>id</th>\n",
              "      <th>kelvin</th>\n",
              "      <th>brightness</th>\n",
              "    </tr>\n",
              "  </thead>\n",
              "  <tbody>\n",
              "    <tr>\n",
              "      <th>0</th>\n",
              "      <td>2021-08-26 20:46:00</td>\n",
              "      <td>d073d55df12f</td>\n",
              "      <td>2700.0</td>\n",
              "      <td>650.0</td>\n",
              "    </tr>\n",
              "    <tr>\n",
              "      <th>1</th>\n",
              "      <td>2021-08-26 20:47:00</td>\n",
              "      <td>d073d55df12f</td>\n",
              "      <td>2700.0</td>\n",
              "      <td>650.0</td>\n",
              "    </tr>\n",
              "    <tr>\n",
              "      <th>2</th>\n",
              "      <td>2021-08-26 20:48:00</td>\n",
              "      <td>d073d55df12f</td>\n",
              "      <td>2700.0</td>\n",
              "      <td>650.0</td>\n",
              "    </tr>\n",
              "    <tr>\n",
              "      <th>3</th>\n",
              "      <td>2021-08-26 20:49:00</td>\n",
              "      <td>d073d55df12f</td>\n",
              "      <td>2700.0</td>\n",
              "      <td>650.0</td>\n",
              "    </tr>\n",
              "    <tr>\n",
              "      <th>4</th>\n",
              "      <td>2021-08-26 20:50:00</td>\n",
              "      <td>d073d55df12f</td>\n",
              "      <td>2700.0</td>\n",
              "      <td>650.0</td>\n",
              "    </tr>\n",
              "  </tbody>\n",
              "</table>\n",
              "</div>"
            ],
            "text/plain": [
              "            timestamp            id  kelvin  brightness\n",
              "0 2021-08-26 20:46:00  d073d55df12f  2700.0       650.0\n",
              "1 2021-08-26 20:47:00  d073d55df12f  2700.0       650.0\n",
              "2 2021-08-26 20:48:00  d073d55df12f  2700.0       650.0\n",
              "3 2021-08-26 20:49:00  d073d55df12f  2700.0       650.0\n",
              "4 2021-08-26 20:50:00  d073d55df12f  2700.0       650.0"
            ]
          },
          "metadata": {},
          "execution_count": 20
        }
      ]
    },
    {
      "cell_type": "markdown",
      "metadata": {
        "id": "T-0p0pJ5gOpK"
      },
      "source": [
        "### Reindex dataframe and fill missing time intervals\n",
        "- When the light bulbs were off"
      ]
    },
    {
      "cell_type": "code",
      "metadata": {
        "colab": {
          "base_uri": "https://localhost:8080/",
          "height": 317
        },
        "id": "iHv9xAKfoW4C",
        "outputId": "7efcce73-8239-42d5-a5d9-9011915e4d46"
      },
      "source": [
        "analyze_df_for_bulb(light_df)"
      ],
      "execution_count": 21,
      "outputs": [
        {
          "output_type": "stream",
          "name": "stdout",
          "text": [
            "start time 2021-08-26 20:46:00 end time 2021-09-11 08:34:00\n"
          ]
        },
        {
          "output_type": "display_data",
          "data": {
            "image/png": "[encoded data removed]",
            "text/plain": [
              "<Figure size 432x288 with 2 Axes>"
            ]
          },
          "metadata": {
            "needs_background": "light"
          }
        }
      ]
    },
    {
      "cell_type": "code",
      "metadata": {
        "id": "o53isKDnsj7p"
      },
      "source": [
        "def range_brightness(brightness):\n",
        "  if brightness <= 0.5:\n",
        "    return 0\n",
        "  else:\n",
        "    return 1"
      ],
      "execution_count": 22,
      "outputs": []
    },
    {
      "cell_type": "code",
      "metadata": {
        "id": "D__4RW_DoydU"
      },
      "source": [
        "def brightness_to_category(df):\n",
        "  df['brightness'] = df['brightness'].apply(lambda value: range_brightness(value))"
      ],
      "execution_count": 23,
      "outputs": []
    },
    {
      "cell_type": "code",
      "metadata": {
        "id": "IlDx0fImrNrn"
      },
      "source": [
        "brightness_to_category(light_df)"
      ],
      "execution_count": 92,
      "outputs": []
    },
    {
      "cell_type": "code",
      "metadata": {
        "id": "KOKwK2RXuXoA"
      },
      "source": [
        "from pytz import timezone\n",
        "import pytz\n",
        "import datetime\n",
        "\n",
        "### Plot intervals usage based on state change in the bulb (ON to OFF or vice versa)\n",
        "def get_power_intervals(bulb_df):\n",
        "  intervals = []\n",
        "  cycle = bulb_df['brightness'][0]\n",
        "  start = bulb_df['timestamp'][0]\n",
        "  current_timezone = pytz.timezone(\"US/Pacific\")\n",
        "\n",
        "  for value, timestamp in zip(bulb_df['brightness'][1:], bulb_df['timestamp'][1:]):\n",
        "    if value != cycle:\n",
        "      duration = timestamp - start\n",
        "      duration = round(duration.total_seconds() / 60 / 60, 2)\n",
        "\n",
        "      intervals.append({ 'start': current_timezone.localize(start).strftime('%m/%d/%Y %H:%M:%S %Z'),\n",
        "                         'end': current_timezone.localize(timestamp).strftime('%m/%d/%Y %H:%M:%S %Z'),\n",
        "                         'from': cycle,\n",
        "                         'to': value,\n",
        "                         'duration (hours)': duration})\n",
        "      cycle = value\n",
        "      start = timestamp\n",
        "\n",
        "  df = pd.DataFrame(intervals)\n",
        "  return df"
      ],
      "execution_count": 97,
      "outputs": []
    },
    {
      "cell_type": "code",
      "metadata": {
        "id": "hKZdGAYsul7U"
      },
      "source": [
        "interval_df = get_power_intervals(light_df)"
      ],
      "execution_count": 98,
      "outputs": []
    },
    {
      "cell_type": "code",
      "metadata": {
        "colab": {
          "base_uri": "https://localhost:8080/",
          "height": 452
        },
        "id": "VbMw0QUXu9qt",
        "outputId": "08b365a5-5cbf-4909-d075-1f343320da68"
      },
      "source": [
        "on_times = interval_df.loc[interval_df['from'] == 1]\n",
        "on_times"
      ],
      "execution_count": 99,
      "outputs": [
        {
          "output_type": "execute_result",
          "data": {
            "text/html": [
              "<div>\n",
              "<style scoped>\n",
              "    .dataframe tbody tr th:only-of-type {\n",
              "        vertical-align: middle;\n",
              "    }\n",
              "\n",
              "    .dataframe tbody tr th {\n",
              "        vertical-align: top;\n",
              "    }\n",
              "\n",
              "    .dataframe thead th {\n",
              "        text-align: right;\n",
              "    }\n",
              "</style>\n",
              "<table border=\"1\" class=\"dataframe\">\n",
              "  <thead>\n",
              "    <tr style=\"text-align: right;\">\n",
              "      <th></th>\n",
              "      <th>start</th>\n",
              "      <th>end</th>\n",
              "      <th>from</th>\n",
              "      <th>to</th>\n",
              "      <th>duration (hours)</th>\n",
              "    </tr>\n",
              "  </thead>\n",
              "  <tbody>\n",
              "    <tr>\n",
              "      <th>0</th>\n",
              "      <td>08/26/2021 20:46:00 PDT</td>\n",
              "      <td>08/27/2021 05:02:00 PDT</td>\n",
              "      <td>1</td>\n",
              "      <td>0</td>\n",
              "      <td>8.27</td>\n",
              "    </tr>\n",
              "    <tr>\n",
              "      <th>2</th>\n",
              "      <td>08/27/2021 05:03:00 PDT</td>\n",
              "      <td>08/27/2021 07:25:00 PDT</td>\n",
              "      <td>1</td>\n",
              "      <td>0</td>\n",
              "      <td>2.37</td>\n",
              "    </tr>\n",
              "    <tr>\n",
              "      <th>4</th>\n",
              "      <td>08/28/2021 08:31:00 PDT</td>\n",
              "      <td>08/28/2021 08:41:00 PDT</td>\n",
              "      <td>1</td>\n",
              "      <td>0</td>\n",
              "      <td>0.17</td>\n",
              "    </tr>\n",
              "    <tr>\n",
              "      <th>6</th>\n",
              "      <td>08/29/2021 03:18:00 PDT</td>\n",
              "      <td>08/29/2021 07:17:00 PDT</td>\n",
              "      <td>1</td>\n",
              "      <td>0</td>\n",
              "      <td>3.98</td>\n",
              "    </tr>\n",
              "    <tr>\n",
              "      <th>8</th>\n",
              "      <td>08/30/2021 21:03:00 PDT</td>\n",
              "      <td>08/30/2021 21:40:00 PDT</td>\n",
              "      <td>1</td>\n",
              "      <td>0</td>\n",
              "      <td>0.62</td>\n",
              "    </tr>\n",
              "    <tr>\n",
              "      <th>10</th>\n",
              "      <td>08/31/2021 02:55:00 PDT</td>\n",
              "      <td>08/31/2021 06:58:00 PDT</td>\n",
              "      <td>1</td>\n",
              "      <td>0</td>\n",
              "      <td>4.05</td>\n",
              "    </tr>\n",
              "    <tr>\n",
              "      <th>12</th>\n",
              "      <td>09/01/2021 02:33:00 PDT</td>\n",
              "      <td>09/01/2021 07:33:00 PDT</td>\n",
              "      <td>1</td>\n",
              "      <td>0</td>\n",
              "      <td>5.00</td>\n",
              "    </tr>\n",
              "    <tr>\n",
              "      <th>14</th>\n",
              "      <td>09/01/2021 07:34:00 PDT</td>\n",
              "      <td>09/01/2021 07:35:00 PDT</td>\n",
              "      <td>1</td>\n",
              "      <td>0</td>\n",
              "      <td>0.02</td>\n",
              "    </tr>\n",
              "    <tr>\n",
              "      <th>16</th>\n",
              "      <td>09/02/2021 04:02:00 PDT</td>\n",
              "      <td>09/03/2021 03:08:00 PDT</td>\n",
              "      <td>1</td>\n",
              "      <td>0</td>\n",
              "      <td>23.10</td>\n",
              "    </tr>\n",
              "    <tr>\n",
              "      <th>18</th>\n",
              "      <td>09/03/2021 05:04:00 PDT</td>\n",
              "      <td>09/03/2021 07:21:00 PDT</td>\n",
              "      <td>1</td>\n",
              "      <td>0</td>\n",
              "      <td>2.28</td>\n",
              "    </tr>\n",
              "    <tr>\n",
              "      <th>20</th>\n",
              "      <td>09/08/2021 04:35:00 PDT</td>\n",
              "      <td>09/08/2021 05:42:00 PDT</td>\n",
              "      <td>1</td>\n",
              "      <td>0</td>\n",
              "      <td>1.12</td>\n",
              "    </tr>\n",
              "    <tr>\n",
              "      <th>22</th>\n",
              "      <td>09/09/2021 04:24:00 PDT</td>\n",
              "      <td>09/09/2021 05:55:00 PDT</td>\n",
              "      <td>1</td>\n",
              "      <td>0</td>\n",
              "      <td>1.52</td>\n",
              "    </tr>\n",
              "    <tr>\n",
              "      <th>24</th>\n",
              "      <td>09/10/2021 03:27:00 PDT</td>\n",
              "      <td>09/10/2021 06:58:00 PDT</td>\n",
              "      <td>1</td>\n",
              "      <td>0</td>\n",
              "      <td>3.52</td>\n",
              "    </tr>\n",
              "  </tbody>\n",
              "</table>\n",
              "</div>"
            ],
            "text/plain": [
              "                      start                      end  ...  to  duration (hours)\n",
              "0   08/26/2021 20:46:00 PDT  08/27/2021 05:02:00 PDT  ...   0              8.27\n",
              "2   08/27/2021 05:03:00 PDT  08/27/2021 07:25:00 PDT  ...   0              2.37\n",
              "4   08/28/2021 08:31:00 PDT  08/28/2021 08:41:00 PDT  ...   0              0.17\n",
              "6   08/29/2021 03:18:00 PDT  08/29/2021 07:17:00 PDT  ...   0              3.98\n",
              "8   08/30/2021 21:03:00 PDT  08/30/2021 21:40:00 PDT  ...   0              0.62\n",
              "10  08/31/2021 02:55:00 PDT  08/31/2021 06:58:00 PDT  ...   0              4.05\n",
              "12  09/01/2021 02:33:00 PDT  09/01/2021 07:33:00 PDT  ...   0              5.00\n",
              "14  09/01/2021 07:34:00 PDT  09/01/2021 07:35:00 PDT  ...   0              0.02\n",
              "16  09/02/2021 04:02:00 PDT  09/03/2021 03:08:00 PDT  ...   0             23.10\n",
              "18  09/03/2021 05:04:00 PDT  09/03/2021 07:21:00 PDT  ...   0              2.28\n",
              "20  09/08/2021 04:35:00 PDT  09/08/2021 05:42:00 PDT  ...   0              1.12\n",
              "22  09/09/2021 04:24:00 PDT  09/09/2021 05:55:00 PDT  ...   0              1.52\n",
              "24  09/10/2021 03:27:00 PDT  09/10/2021 06:58:00 PDT  ...   0              3.52\n",
              "\n",
              "[13 rows x 5 columns]"
            ]
          },
          "metadata": {},
          "execution_count": 99
        }
      ]
    },
    {
      "cell_type": "code",
      "metadata": {
        "colab": {
          "base_uri": "https://localhost:8080/",
          "height": 452
        },
        "id": "0__3lqHjwMZY",
        "outputId": "24ac79da-5e7b-4818-c38b-c9cbbd2c3307"
      },
      "source": [
        "off_times = interval_df.loc[interval_df['from'] == 0]\n",
        "off_times"
      ],
      "execution_count": 100,
      "outputs": [
        {
          "output_type": "execute_result",
          "data": {
            "text/html": [
              "<div>\n",
              "<style scoped>\n",
              "    .dataframe tbody tr th:only-of-type {\n",
              "        vertical-align: middle;\n",
              "    }\n",
              "\n",
              "    .dataframe tbody tr th {\n",
              "        vertical-align: top;\n",
              "    }\n",
              "\n",
              "    .dataframe thead th {\n",
              "        text-align: right;\n",
              "    }\n",
              "</style>\n",
              "<table border=\"1\" class=\"dataframe\">\n",
              "  <thead>\n",
              "    <tr style=\"text-align: right;\">\n",
              "      <th></th>\n",
              "      <th>start</th>\n",
              "      <th>end</th>\n",
              "      <th>from</th>\n",
              "      <th>to</th>\n",
              "      <th>duration (hours)</th>\n",
              "    </tr>\n",
              "  </thead>\n",
              "  <tbody>\n",
              "    <tr>\n",
              "      <th>1</th>\n",
              "      <td>08/27/2021 05:02:00 PDT</td>\n",
              "      <td>08/27/2021 05:03:00 PDT</td>\n",
              "      <td>0</td>\n",
              "      <td>1</td>\n",
              "      <td>0.02</td>\n",
              "    </tr>\n",
              "    <tr>\n",
              "      <th>3</th>\n",
              "      <td>08/27/2021 07:25:00 PDT</td>\n",
              "      <td>08/28/2021 08:31:00 PDT</td>\n",
              "      <td>0</td>\n",
              "      <td>1</td>\n",
              "      <td>25.10</td>\n",
              "    </tr>\n",
              "    <tr>\n",
              "      <th>5</th>\n",
              "      <td>08/28/2021 08:41:00 PDT</td>\n",
              "      <td>08/29/2021 03:18:00 PDT</td>\n",
              "      <td>0</td>\n",
              "      <td>1</td>\n",
              "      <td>18.62</td>\n",
              "    </tr>\n",
              "    <tr>\n",
              "      <th>7</th>\n",
              "      <td>08/29/2021 07:17:00 PDT</td>\n",
              "      <td>08/30/2021 21:03:00 PDT</td>\n",
              "      <td>0</td>\n",
              "      <td>1</td>\n",
              "      <td>37.77</td>\n",
              "    </tr>\n",
              "    <tr>\n",
              "      <th>9</th>\n",
              "      <td>08/30/2021 21:40:00 PDT</td>\n",
              "      <td>08/31/2021 02:55:00 PDT</td>\n",
              "      <td>0</td>\n",
              "      <td>1</td>\n",
              "      <td>5.25</td>\n",
              "    </tr>\n",
              "    <tr>\n",
              "      <th>11</th>\n",
              "      <td>08/31/2021 06:58:00 PDT</td>\n",
              "      <td>09/01/2021 02:33:00 PDT</td>\n",
              "      <td>0</td>\n",
              "      <td>1</td>\n",
              "      <td>19.58</td>\n",
              "    </tr>\n",
              "    <tr>\n",
              "      <th>13</th>\n",
              "      <td>09/01/2021 07:33:00 PDT</td>\n",
              "      <td>09/01/2021 07:34:00 PDT</td>\n",
              "      <td>0</td>\n",
              "      <td>1</td>\n",
              "      <td>0.02</td>\n",
              "    </tr>\n",
              "    <tr>\n",
              "      <th>15</th>\n",
              "      <td>09/01/2021 07:35:00 PDT</td>\n",
              "      <td>09/02/2021 04:02:00 PDT</td>\n",
              "      <td>0</td>\n",
              "      <td>1</td>\n",
              "      <td>20.45</td>\n",
              "    </tr>\n",
              "    <tr>\n",
              "      <th>17</th>\n",
              "      <td>09/03/2021 03:08:00 PDT</td>\n",
              "      <td>09/03/2021 05:04:00 PDT</td>\n",
              "      <td>0</td>\n",
              "      <td>1</td>\n",
              "      <td>1.93</td>\n",
              "    </tr>\n",
              "    <tr>\n",
              "      <th>19</th>\n",
              "      <td>09/03/2021 07:21:00 PDT</td>\n",
              "      <td>09/08/2021 04:35:00 PDT</td>\n",
              "      <td>0</td>\n",
              "      <td>1</td>\n",
              "      <td>117.23</td>\n",
              "    </tr>\n",
              "    <tr>\n",
              "      <th>21</th>\n",
              "      <td>09/08/2021 05:42:00 PDT</td>\n",
              "      <td>09/09/2021 04:24:00 PDT</td>\n",
              "      <td>0</td>\n",
              "      <td>1</td>\n",
              "      <td>22.70</td>\n",
              "    </tr>\n",
              "    <tr>\n",
              "      <th>23</th>\n",
              "      <td>09/09/2021 05:55:00 PDT</td>\n",
              "      <td>09/10/2021 03:27:00 PDT</td>\n",
              "      <td>0</td>\n",
              "      <td>1</td>\n",
              "      <td>21.53</td>\n",
              "    </tr>\n",
              "    <tr>\n",
              "      <th>25</th>\n",
              "      <td>09/10/2021 06:58:00 PDT</td>\n",
              "      <td>09/11/2021 02:31:00 PDT</td>\n",
              "      <td>0</td>\n",
              "      <td>1</td>\n",
              "      <td>19.55</td>\n",
              "    </tr>\n",
              "  </tbody>\n",
              "</table>\n",
              "</div>"
            ],
            "text/plain": [
              "                      start                      end  ...  to  duration (hours)\n",
              "1   08/27/2021 05:02:00 PDT  08/27/2021 05:03:00 PDT  ...   1              0.02\n",
              "3   08/27/2021 07:25:00 PDT  08/28/2021 08:31:00 PDT  ...   1             25.10\n",
              "5   08/28/2021 08:41:00 PDT  08/29/2021 03:18:00 PDT  ...   1             18.62\n",
              "7   08/29/2021 07:17:00 PDT  08/30/2021 21:03:00 PDT  ...   1             37.77\n",
              "9   08/30/2021 21:40:00 PDT  08/31/2021 02:55:00 PDT  ...   1              5.25\n",
              "11  08/31/2021 06:58:00 PDT  09/01/2021 02:33:00 PDT  ...   1             19.58\n",
              "13  09/01/2021 07:33:00 PDT  09/01/2021 07:34:00 PDT  ...   1              0.02\n",
              "15  09/01/2021 07:35:00 PDT  09/02/2021 04:02:00 PDT  ...   1             20.45\n",
              "17  09/03/2021 03:08:00 PDT  09/03/2021 05:04:00 PDT  ...   1              1.93\n",
              "19  09/03/2021 07:21:00 PDT  09/08/2021 04:35:00 PDT  ...   1            117.23\n",
              "21  09/08/2021 05:42:00 PDT  09/09/2021 04:24:00 PDT  ...   1             22.70\n",
              "23  09/09/2021 05:55:00 PDT  09/10/2021 03:27:00 PDT  ...   1             21.53\n",
              "25  09/10/2021 06:58:00 PDT  09/11/2021 02:31:00 PDT  ...   1             19.55\n",
              "\n",
              "[13 rows x 5 columns]"
            ]
          },
          "metadata": {},
          "execution_count": 100
        }
      ]
    },
    {
      "cell_type": "markdown",
      "metadata": {
        "id": "tePVcg2O6YkZ"
      },
      "source": [
        "https://www.energy.gov/energysaver/lighting-choices-save-you-money\n",
        "- Households spend 15% on lighting and can save 225$ per year by switching to LED bulbs \n",
        "\n",
        "https://www.energy.gov/energysaver/led-lighting\n",
        "- LED bulbs release 80% of their energy as heat\n",
        "\n",
        "Bulb energy useage\n",
        "- Watt = joules per second, how much energy it takes to power the bulb\n",
        "- Lumens = how much brightness the bulb provides\n",
        "more energy efficient bulbs have a higher lumens per watt ratio\n",
        "- Watts are usually used for individual bulbs and KW for large-scale capacity\n",
        "- KWh = energy usage over time. Multiple watts by hours used. Energy pricing is based on KWh or usage time"
      ]
    },
    {
      "cell_type": "markdown",
      "metadata": {
        "id": "8PYNdWrK0hr_"
      },
      "source": [
        "### Pre-processing\n",
        "1. Any brightness > 0.5 is considered ON\n",
        "2. Multiple missing time gaps - these were filled with a value of OFF\n",
        "3. Original dataset did not have any missing values\n",
        "4. Original length ~2.8k, after processing ~19k\n",
        "5. Some brightness value did not have a correpsonding temp and vice versa, missing values were filled in via max or min brightness / temp\n",
        "6. No straightforward way to calculate watts from temperature and brightness, can we assume if the light is on it's using the total wattage available? What if it's dimmed?\n",
        "\n",
        "### Light usage patterns\n",
        "- Use the lights mostly at night time from 8 PM to 2 AM\n",
        "- Working late might forget to turn on lights\n",
        "- Sometimes will use light from the TV, one person will watch tv almost every day\n",
        "- Daily routines are mostly the same but there may be seasonal changes based on daylight savings\n",
        "- 2-3 people living in the house\n",
        "- Lights are in the living room where everyone uses it"
      ]
    },
    {
      "cell_type": "markdown",
      "metadata": {
        "id": "iqOqhdfn1haV"
      },
      "source": [
        "### Results\n",
        "1. Lights were on from Sept 2nd to Sept 3rd?\n",
        "- Part of an experiment and intentially left on\n",
        "\n",
        "2. Lights were off from Sept 3rd to Sept 8th (participants came home on the 6th)\n",
        "3. Lights were also off for most of the day on Sept 8th to 9th"
      ]
    },
    {
      "cell_type": "code",
      "metadata": {
        "id": "K8CBR3ymxa8S"
      },
      "source": [
        ""
      ],
      "execution_count": 470,
      "outputs": []
    },
    {
      "cell_type": "code",
      "metadata": {
        "id": "YsZf3jSb04Oq"
      },
      "source": [
        ""
      ],
      "execution_count": null,
      "outputs": []
    }
  ]
}