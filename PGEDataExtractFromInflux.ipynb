{
  "nbformat": 4,
  "nbformat_minor": 0,
  "metadata": {
    "colab": {
      "name": "PGEDataExtractFromInflux.ipynb",
      "provenance": [],
      "collapsed_sections": [],
      "authorship_tag": "ABX9TyOpBhcm+0i+yR8YrN1A1sRN",
      "include_colab_link": true
    },
    "kernelspec": {
      "name": "python3",
      "display_name": "Python 3"
    },
    "language_info": {
      "name": "python"
    }
  },
  "cells": [
    {
      "cell_type": "markdown",
      "metadata": {
        "id": "view-in-github",
        "colab_type": "text"
      },
      "source": [
        "<a href=\"https://colab.research.google.com/github/smannan/LIFXBulbAnalysis/blob/main/PGEDataExtractFromInflux.ipynb\" target=\"_parent\"><img src=\"https://colab.research.google.com/assets/colab-badge.svg\" alt=\"Open In Colab\"/></a>"
      ]
    },
    {
      "cell_type": "code",
      "metadata": {
        "id": "uDqg82Wji889",
        "colab": {
          "base_uri": "https://localhost:8080/"
        },
        "outputId": "a60540f0-39b6-46ad-838c-a04ebdf33ec6"
      },
      "source": [
        "pip install influxdb-client"
      ],
      "execution_count": 1,
      "outputs": [
        {
          "output_type": "stream",
          "name": "stdout",
          "text": [
            "Requirement already satisfied: influxdb-client in /usr/local/lib/python3.7/dist-packages (1.23.0)\n",
            "Requirement already satisfied: pytz>=2019.1 in /usr/local/lib/python3.7/dist-packages (from influxdb-client) (2021.3)\n",
            "Requirement already satisfied: certifi>=14.05.14 in /usr/local/lib/python3.7/dist-packages (from influxdb-client) (2021.5.30)\n",
            "Requirement already satisfied: urllib3>=1.15.1 in /usr/local/lib/python3.7/dist-packages (from influxdb-client) (1.24.3)\n",
            "Requirement already satisfied: setuptools>=21.0.0 in /usr/local/lib/python3.7/dist-packages (from influxdb-client) (57.4.0)\n",
            "Requirement already satisfied: rx>=3.0.1 in /usr/local/lib/python3.7/dist-packages (from influxdb-client) (3.2.0)\n",
            "Requirement already satisfied: six>=1.10 in /usr/local/lib/python3.7/dist-packages (from influxdb-client) (1.15.0)\n",
            "Requirement already satisfied: python-dateutil>=2.5.3 in /usr/local/lib/python3.7/dist-packages (from influxdb-client) (2.8.2)\n"
          ]
        }
      ]
    },
    {
      "cell_type": "code",
      "metadata": {
        "id": "qcVSrGhLaTmC"
      },
      "source": [
        "import pandas as pd"
      ],
      "execution_count": 2,
      "outputs": []
    },
    {
      "cell_type": "code",
      "metadata": {
        "id": "noNOpRYnjsKI"
      },
      "source": [
        "from influxdb_client import InfluxDBClient, Point, WritePrecision\n",
        "\n",
        "# You can generate a Token from the \"Tokens Tab\" in the UI\n",
        "# https://us-central1-1.gcp.cloud2.influxdata.com/orgs/a33284f1a3112d0e/data-explorer\n",
        "token = \"uaElnni__FwThkojQgBlw069cZzqFiehCwog5QmiSsOKPSSdEj7O1PK8qDd_alm253SL8ZHj6PRhKuUclUXDDw==\"\n",
        "org = \"praveenkumar23.anguru@gmail.com\"\n",
        "bucket = \"PGE_CSV_DATA\"\n",
        "account_number = \"863594456\"\n",
        "\n",
        "client = InfluxDBClient(url=\"https://us-central1-1.gcp.cloud2.influxdata.com\", token=token, verify_ssl=False)"
      ],
      "execution_count": 3,
      "outputs": []
    },
    {
      "cell_type": "code",
      "metadata": {
        "id": "xnAANDALj06k"
      },
      "source": [
        "def query_field():\n",
        "  # |> group(columns: [\"_field\"])\n",
        "  # |> filter(fn:(r) => r._account_number == \\\"{account_number}\\\")\n",
        "  # |> filter(fn:(r) => r._field =~ /cost|usage/)\n",
        "  query = f\"\"\"\n",
        "    from(bucket: \\\"{bucket}\\\")\n",
        "    |> range(start: -365d)\n",
        "    |> timeShift(duration: -7h)\n",
        "    |> filter(fn:(r) => r._field =~ /cost|usage/)\n",
        "    |> group(columns: [\"_account_number\"])\n",
        "  \"\"\"\n",
        "  print (query)\n",
        "  tables = client.query_api().query(query, org=org)\n",
        "  return tables"
      ],
      "execution_count": 4,
      "outputs": []
    },
    {
      "cell_type": "code",
      "metadata": {
        "id": "-QUWpdZHfrQO"
      },
      "source": [
        "def query_cost():\n",
        "  query = f\"\"\"\n",
        "    from(bucket: \\\"{bucket}\\\")\n",
        "    |> range(start: -21d)\n",
        "    |> timeShift(duration: -7h)\n",
        "    |> filter(fn:(r) => r._measurement == \\\"pge_reading\\\")\n",
        "    |> filter(fn:(r) => r._field == \\\"cost\\\")\n",
        "    |> filter(fn:(r) => r.account_number == \\\"863594456\\\")\n",
        "    |> drop(columns:[\"table\", \"_start\", \"_stop\", \"_field\", \"_measurement\", \"account_number\", \"result\"])\n",
        "  \"\"\"\n",
        "  tables = client.query_api().query(query, org=org)\n",
        "\n",
        "  records = []\n",
        "  for record in tables[0]:\n",
        "    records.append({'time': record.values['_time'], 'cost': record.values['_value']})\n",
        "\n",
        "  steps = 7\n",
        "  df = pd.DataFrame(records)\n",
        "  df['time'] = df['time'].dt.round('D')\n",
        "  df = df.groupby(['time']).agg({'cost': 'sum'}).reset_index()\n",
        "\n",
        "  return df['cost'].tolist()[-steps:]"
      ],
      "execution_count": 62,
      "outputs": []
    },
    {
      "cell_type": "code",
      "metadata": {
        "id": "NwZXgh6YY_QW"
      },
      "source": [
        "def get_field_values_from_flux():\n",
        "  tables = query_field()\n",
        "  field_values = {}\n",
        "\n",
        "  for table in tables:\n",
        "    for record in table.records:\n",
        "      if record.values['account_number'] == account_number:\n",
        "        if record.values['_time'] not in field_values:\n",
        "          field_values[record.values['_time']] = {\n",
        "              'timestamp': record.values['_time'],\n",
        "              'account_number': record.values['account_number']\n",
        "          }\n",
        "        \n",
        "        field_values[record.values['_time']][record.values['_field']] = record.values['_value']\n",
        "\n",
        "  return pd.DataFrame(field_values.values())"
      ],
      "execution_count": null,
      "outputs": []
    },
    {
      "cell_type": "code",
      "metadata": {
        "colab": {
          "base_uri": "https://localhost:8080/"
        },
        "id": "JNSv3RFxaCu0",
        "outputId": "1e982d17-7b6d-4119-86ab-b13733111fab"
      },
      "source": [
        "df = get_field_values_from_flux()"
      ],
      "execution_count": null,
      "outputs": [
        {
          "output_type": "stream",
          "name": "stdout",
          "text": [
            "\n",
            "    from(bucket: \"PGE_CSV_DATA\")\n",
            "    |> range(start: -365d)\n",
            "    |> timeShift(duration: -7h)\n",
            "    |> filter(fn:(r) => r._field =~ /cost|usage/)\n",
            "    |> group(columns: [\"_account_number\"])\n",
            "  \n"
          ]
        },
        {
          "output_type": "stream",
          "name": "stderr",
          "text": [
            "/usr/local/lib/python3.7/dist-packages/urllib3/connectionpool.py:847: InsecureRequestWarning: Unverified HTTPS request is being made. Adding certificate verification is strongly advised. See: https://urllib3.readthedocs.io/en/latest/advanced-usage.html#ssl-warnings\n",
            "  InsecureRequestWarning)\n"
          ]
        }
      ]
    },
    {
      "cell_type": "code",
      "metadata": {
        "colab": {
          "base_uri": "https://localhost:8080/"
        },
        "id": "gAzo34LdaFV3",
        "outputId": "347af087-1c95-4acb-f9b0-76049ada33b0"
      },
      "source": [
        "df.head()\n",
        "print (len(df))"
      ],
      "execution_count": null,
      "outputs": [
        {
          "output_type": "stream",
          "name": "stdout",
          "text": [
            "34958\n"
          ]
        }
      ]
    },
    {
      "cell_type": "code",
      "metadata": {
        "colab": {
          "base_uri": "https://localhost:8080/",
          "height": 204
        },
        "id": "0bP4sxTQaZ1k",
        "outputId": "a9f6f7de-1411-4c18-d764-8adcb5cb01c2"
      },
      "source": [
        "df['timestamp'] = df['timestamp'].dt.round('15min')\n",
        "df.head()"
      ],
      "execution_count": null,
      "outputs": [
        {
          "output_type": "execute_result",
          "data": {
            "text/html": [
              "<div>\n",
              "<style scoped>\n",
              "    .dataframe tbody tr th:only-of-type {\n",
              "        vertical-align: middle;\n",
              "    }\n",
              "\n",
              "    .dataframe tbody tr th {\n",
              "        vertical-align: top;\n",
              "    }\n",
              "\n",
              "    .dataframe thead th {\n",
              "        text-align: right;\n",
              "    }\n",
              "</style>\n",
              "<table border=\"1\" class=\"dataframe\">\n",
              "  <thead>\n",
              "    <tr style=\"text-align: right;\">\n",
              "      <th></th>\n",
              "      <th>timestamp</th>\n",
              "      <th>account_number</th>\n",
              "      <th>cost</th>\n",
              "      <th>usage</th>\n",
              "    </tr>\n",
              "  </thead>\n",
              "  <tbody>\n",
              "    <tr>\n",
              "      <th>0</th>\n",
              "      <td>2020-10-19 19:45:00+00:00</td>\n",
              "      <td>863594456</td>\n",
              "      <td>0.01</td>\n",
              "      <td>0.06</td>\n",
              "    </tr>\n",
              "    <tr>\n",
              "      <th>1</th>\n",
              "      <td>2020-10-19 20:00:00+00:00</td>\n",
              "      <td>863594456</td>\n",
              "      <td>0.01</td>\n",
              "      <td>0.06</td>\n",
              "    </tr>\n",
              "    <tr>\n",
              "      <th>2</th>\n",
              "      <td>2020-10-19 20:15:00+00:00</td>\n",
              "      <td>863594456</td>\n",
              "      <td>0.01</td>\n",
              "      <td>0.05</td>\n",
              "    </tr>\n",
              "    <tr>\n",
              "      <th>3</th>\n",
              "      <td>2020-10-19 20:30:00+00:00</td>\n",
              "      <td>863594456</td>\n",
              "      <td>0.01</td>\n",
              "      <td>0.05</td>\n",
              "    </tr>\n",
              "    <tr>\n",
              "      <th>4</th>\n",
              "      <td>2020-10-19 20:45:00+00:00</td>\n",
              "      <td>863594456</td>\n",
              "      <td>0.01</td>\n",
              "      <td>0.05</td>\n",
              "    </tr>\n",
              "  </tbody>\n",
              "</table>\n",
              "</div>"
            ],
            "text/plain": [
              "                  timestamp account_number  cost  usage\n",
              "0 2020-10-19 19:45:00+00:00      863594456  0.01   0.06\n",
              "1 2020-10-19 20:00:00+00:00      863594456  0.01   0.06\n",
              "2 2020-10-19 20:15:00+00:00      863594456  0.01   0.05\n",
              "3 2020-10-19 20:30:00+00:00      863594456  0.01   0.05\n",
              "4 2020-10-19 20:45:00+00:00      863594456  0.01   0.05"
            ]
          },
          "metadata": {},
          "execution_count": 8
        }
      ]
    },
    {
      "cell_type": "code",
      "metadata": {
        "id": "O8qhu0E6az1h"
      },
      "source": [
        "min_time = str(df['timestamp'].min()).replace(\" \", \"-\")\n",
        "max_time = str(df['timestamp'].max()).replace(\" \", \"-\")\n",
        "df.to_csv('pge_data_from_influx_{0}_{1}.csv'.format(min_time, max_time))"
      ],
      "execution_count": null,
      "outputs": []
    },
    {
      "cell_type": "code",
      "metadata": {
        "id": "d5C6WNrOdNNh",
        "colab": {
          "base_uri": "https://localhost:8080/",
          "height": 35
        },
        "outputId": "8a4abd70-0d09-45d0-d041-3c392f2d647a"
      },
      "source": [
        "min_time"
      ],
      "execution_count": null,
      "outputs": [
        {
          "output_type": "execute_result",
          "data": {
            "application/vnd.google.colaboratory.intrinsic+json": {
              "type": "string"
            },
            "text/plain": [
              "'2020-10-19-19:45:00+00:00'"
            ]
          },
          "metadata": {},
          "execution_count": 10
        }
      ]
    },
    {
      "cell_type": "code",
      "metadata": {
        "colab": {
          "base_uri": "https://localhost:8080/",
          "height": 35
        },
        "id": "jochD5GfXs8b",
        "outputId": "6812702a-6ef2-4a62-cbfc-261b495b0d78"
      },
      "source": [
        "max_time"
      ],
      "execution_count": null,
      "outputs": [
        {
          "output_type": "execute_result",
          "data": {
            "application/vnd.google.colaboratory.intrinsic+json": {
              "type": "string"
            },
            "text/plain": [
              "'2021-10-19-00:00:00+00:00'"
            ]
          },
          "metadata": {},
          "execution_count": 11
        }
      ]
    },
    {
      "cell_type": "code",
      "metadata": {
        "id": "2lrvbZQIXuCM"
      },
      "source": [
        ""
      ],
      "execution_count": null,
      "outputs": []
    }
  ]
}