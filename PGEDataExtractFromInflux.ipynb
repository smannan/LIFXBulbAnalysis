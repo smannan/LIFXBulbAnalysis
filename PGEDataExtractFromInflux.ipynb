{
  "nbformat": 4,
  "nbformat_minor": 0,
  "metadata": {
    "colab": {
      "name": "PGEDataExtractFromInflux.ipynb",
      "provenance": [],
      "collapsed_sections": [],
      "authorship_tag": "ABX9TyPqTCQDtXoN6mhzyKxDu0Gc",
      "include_colab_link": true
    },
    "kernelspec": {
      "name": "python3",
      "display_name": "Python 3"
    },
    "language_info": {
      "name": "python"
    }
  },
  "cells": [
    {
      "cell_type": "markdown",
      "metadata": {
        "id": "view-in-github",
        "colab_type": "text"
      },
      "source": [
        "<a href=\"https://colab.research.google.com/github/smannan/LIFXBulbAnalysis/blob/main/PGEDataExtractFromInflux.ipynb\" target=\"_parent\"><img src=\"https://colab.research.google.com/assets/colab-badge.svg\" alt=\"Open In Colab\"/></a>"
      ]
    },
    {
      "cell_type": "code",
      "metadata": {
        "id": "uDqg82Wji889",
        "colab": {
          "base_uri": "https://localhost:8080/"
        },
        "outputId": "0cb8a2ad-8b9e-4d81-99c6-1aabe707464e"
      },
      "source": [
        "pip install influxdb-client"
      ],
      "execution_count": null,
      "outputs": [
        {
          "output_type": "stream",
          "name": "stdout",
          "text": [
            "Requirement already satisfied: influxdb-client in /usr/local/lib/python3.7/dist-packages (1.21.0)\n",
            "Requirement already satisfied: setuptools>=21.0.0 in /usr/local/lib/python3.7/dist-packages (from influxdb-client) (57.4.0)\n",
            "Requirement already satisfied: six>=1.10 in /usr/local/lib/python3.7/dist-packages (from influxdb-client) (1.15.0)\n",
            "Requirement already satisfied: python-dateutil>=2.5.3 in /usr/local/lib/python3.7/dist-packages (from influxdb-client) (2.8.2)\n",
            "Requirement already satisfied: urllib3>=1.15.1 in /usr/local/lib/python3.7/dist-packages (from influxdb-client) (1.24.3)\n",
            "Requirement already satisfied: certifi>=14.05.14 in /usr/local/lib/python3.7/dist-packages (from influxdb-client) (2021.5.30)\n",
            "Requirement already satisfied: pytz>=2019.1 in /usr/local/lib/python3.7/dist-packages (from influxdb-client) (2021.1)\n",
            "Requirement already satisfied: rx>=3.0.1 in /usr/local/lib/python3.7/dist-packages (from influxdb-client) (3.2.0)\n"
          ]
        }
      ]
    },
    {
      "cell_type": "code",
      "metadata": {
        "id": "qcVSrGhLaTmC"
      },
      "source": [
        "import pandas as pd"
      ],
      "execution_count": null,
      "outputs": []
    },
    {
      "cell_type": "code",
      "metadata": {
        "id": "noNOpRYnjsKI"
      },
      "source": [
        "from influxdb_client import InfluxDBClient, Point, WritePrecision\n",
        "\n",
        "# You can generate a Token from the \"Tokens Tab\" in the UI\n",
        "# https://us-central1-1.gcp.cloud2.influxdata.com/orgs/a33284f1a3112d0e/data-explorer\n",
        "token = \"vluJM7eJaD5LjKIZ8ZfX7FaXMW5rZiUOxXEavsf-v-NBZgiE4prj1tAjTAJIxTKfgfuLhgT9tqZejlEEnsKjNQ==\"\n",
        "org = \"praveenkumar23.anguru@gmail.com\"\n",
        "bucket = \"PGE_CSV_Data\"\n",
        "account_number = \"863594456\"\n",
        "\n",
        "client = InfluxDBClient(url=\"https://us-central1-1.gcp.cloud2.influxdata.com\", token=token, verify_ssl=False)"
      ],
      "execution_count": null,
      "outputs": []
    },
    {
      "cell_type": "code",
      "metadata": {
        "id": "xnAANDALj06k"
      },
      "source": [
        "def query_field():\n",
        "  # |> group(columns: [\"_field\"])\n",
        "  # |> filter(fn:(r) => r._account_number == \\\"{account_number}\\\")\n",
        "  # |> filter(fn:(r) => r._field =~ /cost|usage/)\n",
        "  query = f\"\"\"\n",
        "    from(bucket: \\\"{bucket}\\\")\n",
        "    |> range(start: -30d)\n",
        "    |> timeShift(duration: -7h)\n",
        "    |> filter(fn:(r) => r._field =~ /cost|usage/)\n",
        "    |> group(columns: [\"_account_number\"])\n",
        "  \"\"\"\n",
        "  print (query)\n",
        "  tables = client.query_api().query(query, org=org)\n",
        "  return tables"
      ],
      "execution_count": null,
      "outputs": []
    },
    {
      "cell_type": "code",
      "metadata": {
        "id": "NwZXgh6YY_QW"
      },
      "source": [
        "def get_field_values_from_flux():\n",
        "  tables = query_field()\n",
        "  field_values = {}\n",
        "\n",
        "  for table in tables:\n",
        "    for record in table.records:\n",
        "      if record.values['account_number'] == account_number:\n",
        "        if record.values['_time'] not in field_values:\n",
        "          field_values[record.values['_time']] = {\n",
        "              'timestamp': record.values['_time'],\n",
        "              'account_number': record.values['account_number']\n",
        "          }\n",
        "        \n",
        "        field_values[record.values['_time']][record.values['_field']] = record.values['_value']\n",
        "\n",
        "  return pd.DataFrame(field_values.values())"
      ],
      "execution_count": 117,
      "outputs": []
    },
    {
      "cell_type": "code",
      "metadata": {
        "colab": {
          "base_uri": "https://localhost:8080/"
        },
        "id": "JNSv3RFxaCu0",
        "outputId": "dedf2466-5b72-4476-ffe0-14fc1be923ee"
      },
      "source": [
        "df = get_field_values_from_flux()"
      ],
      "execution_count": 118,
      "outputs": [
        {
          "output_type": "stream",
          "name": "stdout",
          "text": [
            "\n",
            "    from(bucket: \"PGE_CSV_Data\")\n",
            "    |> range(start: -30d)\n",
            "    |> timeShift(duration: -7h)\n",
            "    |> filter(fn:(r) => r._field =~ /cost|usage/)\n",
            "    |> group(columns: [\"_account_number\"])\n",
            "  \n"
          ]
        },
        {
          "output_type": "stream",
          "name": "stderr",
          "text": [
            "/usr/local/lib/python3.7/dist-packages/urllib3/connectionpool.py:847: InsecureRequestWarning: Unverified HTTPS request is being made. Adding certificate verification is strongly advised. See: https://urllib3.readthedocs.io/en/latest/advanced-usage.html#ssl-warnings\n",
            "  InsecureRequestWarning)\n"
          ]
        }
      ]
    },
    {
      "cell_type": "code",
      "metadata": {
        "colab": {
          "base_uri": "https://localhost:8080/",
          "height": 204
        },
        "id": "gAzo34LdaFV3",
        "outputId": "ea40edce-3207-4782-edd2-931abfab51da"
      },
      "source": [
        "df.head()"
      ],
      "execution_count": 119,
      "outputs": [
        {
          "output_type": "execute_result",
          "data": {
            "text/html": [
              "<div>\n",
              "<style scoped>\n",
              "    .dataframe tbody tr th:only-of-type {\n",
              "        vertical-align: middle;\n",
              "    }\n",
              "\n",
              "    .dataframe tbody tr th {\n",
              "        vertical-align: top;\n",
              "    }\n",
              "\n",
              "    .dataframe thead th {\n",
              "        text-align: right;\n",
              "    }\n",
              "</style>\n",
              "<table border=\"1\" class=\"dataframe\">\n",
              "  <thead>\n",
              "    <tr style=\"text-align: right;\">\n",
              "      <th></th>\n",
              "      <th>timestamp</th>\n",
              "      <th>account_number</th>\n",
              "      <th>cost</th>\n",
              "      <th>usage</th>\n",
              "    </tr>\n",
              "  </thead>\n",
              "  <tbody>\n",
              "    <tr>\n",
              "      <th>0</th>\n",
              "      <td>2021-08-26 00:14:00+00:00</td>\n",
              "      <td>863594456</td>\n",
              "      <td>0.02</td>\n",
              "      <td>0.08</td>\n",
              "    </tr>\n",
              "    <tr>\n",
              "      <th>1</th>\n",
              "      <td>2021-08-26 00:29:00+00:00</td>\n",
              "      <td>863594456</td>\n",
              "      <td>0.02</td>\n",
              "      <td>0.08</td>\n",
              "    </tr>\n",
              "    <tr>\n",
              "      <th>2</th>\n",
              "      <td>2021-08-26 00:44:00+00:00</td>\n",
              "      <td>863594456</td>\n",
              "      <td>0.02</td>\n",
              "      <td>0.08</td>\n",
              "    </tr>\n",
              "    <tr>\n",
              "      <th>3</th>\n",
              "      <td>2021-08-26 00:59:00+00:00</td>\n",
              "      <td>863594456</td>\n",
              "      <td>0.02</td>\n",
              "      <td>0.08</td>\n",
              "    </tr>\n",
              "    <tr>\n",
              "      <th>4</th>\n",
              "      <td>2021-08-26 01:14:00+00:00</td>\n",
              "      <td>863594456</td>\n",
              "      <td>0.02</td>\n",
              "      <td>0.07</td>\n",
              "    </tr>\n",
              "  </tbody>\n",
              "</table>\n",
              "</div>"
            ],
            "text/plain": [
              "                  timestamp account_number  cost  usage\n",
              "0 2021-08-26 00:14:00+00:00      863594456  0.02   0.08\n",
              "1 2021-08-26 00:29:00+00:00      863594456  0.02   0.08\n",
              "2 2021-08-26 00:44:00+00:00      863594456  0.02   0.08\n",
              "3 2021-08-26 00:59:00+00:00      863594456  0.02   0.08\n",
              "4 2021-08-26 01:14:00+00:00      863594456  0.02   0.07"
            ]
          },
          "metadata": {},
          "execution_count": 119
        }
      ]
    },
    {
      "cell_type": "code",
      "metadata": {
        "colab": {
          "base_uri": "https://localhost:8080/",
          "height": 204
        },
        "id": "0bP4sxTQaZ1k",
        "outputId": "0dfeb46e-7ac9-4f40-b901-355a3629a4fa"
      },
      "source": [
        "df['timestamp'] = df['timestamp'].dt.round('15min')\n",
        "df.head()"
      ],
      "execution_count": 121,
      "outputs": [
        {
          "output_type": "execute_result",
          "data": {
            "text/html": [
              "<div>\n",
              "<style scoped>\n",
              "    .dataframe tbody tr th:only-of-type {\n",
              "        vertical-align: middle;\n",
              "    }\n",
              "\n",
              "    .dataframe tbody tr th {\n",
              "        vertical-align: top;\n",
              "    }\n",
              "\n",
              "    .dataframe thead th {\n",
              "        text-align: right;\n",
              "    }\n",
              "</style>\n",
              "<table border=\"1\" class=\"dataframe\">\n",
              "  <thead>\n",
              "    <tr style=\"text-align: right;\">\n",
              "      <th></th>\n",
              "      <th>timestamp</th>\n",
              "      <th>account_number</th>\n",
              "      <th>cost</th>\n",
              "      <th>usage</th>\n",
              "    </tr>\n",
              "  </thead>\n",
              "  <tbody>\n",
              "    <tr>\n",
              "      <th>0</th>\n",
              "      <td>2021-08-26 00:15:00+00:00</td>\n",
              "      <td>863594456</td>\n",
              "      <td>0.02</td>\n",
              "      <td>0.08</td>\n",
              "    </tr>\n",
              "    <tr>\n",
              "      <th>1</th>\n",
              "      <td>2021-08-26 00:30:00+00:00</td>\n",
              "      <td>863594456</td>\n",
              "      <td>0.02</td>\n",
              "      <td>0.08</td>\n",
              "    </tr>\n",
              "    <tr>\n",
              "      <th>2</th>\n",
              "      <td>2021-08-26 00:45:00+00:00</td>\n",
              "      <td>863594456</td>\n",
              "      <td>0.02</td>\n",
              "      <td>0.08</td>\n",
              "    </tr>\n",
              "    <tr>\n",
              "      <th>3</th>\n",
              "      <td>2021-08-26 01:00:00+00:00</td>\n",
              "      <td>863594456</td>\n",
              "      <td>0.02</td>\n",
              "      <td>0.08</td>\n",
              "    </tr>\n",
              "    <tr>\n",
              "      <th>4</th>\n",
              "      <td>2021-08-26 01:15:00+00:00</td>\n",
              "      <td>863594456</td>\n",
              "      <td>0.02</td>\n",
              "      <td>0.07</td>\n",
              "    </tr>\n",
              "  </tbody>\n",
              "</table>\n",
              "</div>"
            ],
            "text/plain": [
              "                  timestamp account_number  cost  usage\n",
              "0 2021-08-26 00:15:00+00:00      863594456  0.02   0.08\n",
              "1 2021-08-26 00:30:00+00:00      863594456  0.02   0.08\n",
              "2 2021-08-26 00:45:00+00:00      863594456  0.02   0.08\n",
              "3 2021-08-26 01:00:00+00:00      863594456  0.02   0.08\n",
              "4 2021-08-26 01:15:00+00:00      863594456  0.02   0.07"
            ]
          },
          "metadata": {},
          "execution_count": 121
        }
      ]
    },
    {
      "cell_type": "code",
      "metadata": {
        "id": "O8qhu0E6az1h"
      },
      "source": [
        "min_time = str(df['timestamp'].min()).replace(\" \", \"-\")\n",
        "max_time = str(df['timestamp'].max()).replace(\" \", \"-\")\n",
        "df.to_csv('pge_data_from_influx_{0}_{1}.csv'.format(min_time, max_time))"
      ],
      "execution_count": 123,
      "outputs": []
    },
    {
      "cell_type": "code",
      "metadata": {
        "id": "d5C6WNrOdNNh"
      },
      "source": [
        ""
      ],
      "execution_count": null,
      "outputs": []
    }
  ]
}