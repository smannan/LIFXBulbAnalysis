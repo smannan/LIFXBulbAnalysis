{
  "nbformat": 4,
  "nbformat_minor": 0,
  "metadata": {
    "colab": {
      "name": "PGEDataExtractFromInflux.ipynb",
      "provenance": [],
      "collapsed_sections": [],
      "authorship_tag": "ABX9TyNrMtpbBJ8kXgYGLRs0cS2i",
      "include_colab_link": true
    },
    "kernelspec": {
      "name": "python3",
      "display_name": "Python 3"
    },
    "language_info": {
      "name": "python"
    }
  },
  "cells": [
    {
      "cell_type": "markdown",
      "metadata": {
        "id": "view-in-github",
        "colab_type": "text"
      },
      "source": [
        "<a href=\"https://colab.research.google.com/github/smannan/LIFXBulbAnalysis/blob/main/PGEDataExtractFromInflux.ipynb\" target=\"_parent\"><img src=\"https://colab.research.google.com/assets/colab-badge.svg\" alt=\"Open In Colab\"/></a>"
      ]
    },
    {
      "cell_type": "code",
      "metadata": {
        "id": "uDqg82Wji889",
        "colab": {
          "base_uri": "https://localhost:8080/"
        },
        "outputId": "99c26351-3e95-487c-b603-5f0656b8b0a1"
      },
      "source": [
        "pip install influxdb-client"
      ],
      "execution_count": null,
      "outputs": [
        {
          "output_type": "stream",
          "name": "stdout",
          "text": [
            "Requirement already satisfied: influxdb-client in /usr/local/lib/python3.7/dist-packages (1.21.0)\n",
            "Requirement already satisfied: six>=1.10 in /usr/local/lib/python3.7/dist-packages (from influxdb-client) (1.15.0)\n",
            "Requirement already satisfied: setuptools>=21.0.0 in /usr/local/lib/python3.7/dist-packages (from influxdb-client) (57.4.0)\n",
            "Requirement already satisfied: python-dateutil>=2.5.3 in /usr/local/lib/python3.7/dist-packages (from influxdb-client) (2.8.2)\n",
            "Requirement already satisfied: urllib3>=1.15.1 in /usr/local/lib/python3.7/dist-packages (from influxdb-client) (1.24.3)\n",
            "Requirement already satisfied: pytz>=2019.1 in /usr/local/lib/python3.7/dist-packages (from influxdb-client) (2021.3)\n",
            "Requirement already satisfied: rx>=3.0.1 in /usr/local/lib/python3.7/dist-packages (from influxdb-client) (3.2.0)\n",
            "Requirement already satisfied: certifi>=14.05.14 in /usr/local/lib/python3.7/dist-packages (from influxdb-client) (2021.5.30)\n"
          ]
        }
      ]
    },
    {
      "cell_type": "code",
      "metadata": {
        "id": "qcVSrGhLaTmC"
      },
      "source": [
        "import pandas as pd"
      ],
      "execution_count": null,
      "outputs": []
    },
    {
      "cell_type": "code",
      "metadata": {
        "id": "noNOpRYnjsKI"
      },
      "source": [
        "from influxdb_client import InfluxDBClient, Point, WritePrecision\n",
        "\n",
        "# You can generate a Token from the \"Tokens Tab\" in the UI\n",
        "# https://us-central1-1.gcp.cloud2.influxdata.com/orgs/a33284f1a3112d0e/data-explorer\n",
        "token = \"uaElnni__FwThkojQgBlw069cZzqFiehCwog5QmiSsOKPSSdEj7O1PK8qDd_alm253SL8ZHj6PRhKuUclUXDDw==\"\n",
        "org = \"praveenkumar23.anguru@gmail.com\"\n",
        "bucket = \"PGE_CSV_DATA\"\n",
        "account_number = \"863594456\"\n",
        "\n",
        "client = InfluxDBClient(url=\"https://us-central1-1.gcp.cloud2.influxdata.com\", token=token, verify_ssl=False)"
      ],
      "execution_count": 12,
      "outputs": []
    },
    {
      "cell_type": "code",
      "metadata": {
        "id": "xnAANDALj06k"
      },
      "source": [
        "def query_field():\n",
        "  # |> group(columns: [\"_field\"])\n",
        "  # |> filter(fn:(r) => r._account_number == \\\"{account_number}\\\")\n",
        "  # |> filter(fn:(r) => r._field =~ /cost|usage/)\n",
        "  query = f\"\"\"\n",
        "    from(bucket: \\\"{bucket}\\\")\n",
        "    |> range(start: -365d)\n",
        "    |> timeShift(duration: -7h)\n",
        "    |> filter(fn:(r) => r._field =~ /cost|usage/)\n",
        "    |> group(columns: [\"_account_number\"])\n",
        "  \"\"\"\n",
        "  print (query)\n",
        "  tables = client.query_api().query(query, org=org)\n",
        "  return tables"
      ],
      "execution_count": 13,
      "outputs": []
    },
    {
      "cell_type": "code",
      "metadata": {
        "id": "NwZXgh6YY_QW"
      },
      "source": [
        "def get_field_values_from_flux():\n",
        "  tables = query_field()\n",
        "  field_values = {}\n",
        "\n",
        "  for table in tables:\n",
        "    for record in table.records:\n",
        "      if record.values['account_number'] == account_number:\n",
        "        if record.values['_time'] not in field_values:\n",
        "          field_values[record.values['_time']] = {\n",
        "              'timestamp': record.values['_time'],\n",
        "              'account_number': record.values['account_number']\n",
        "          }\n",
        "        \n",
        "        field_values[record.values['_time']][record.values['_field']] = record.values['_value']\n",
        "\n",
        "  return pd.DataFrame(field_values.values())"
      ],
      "execution_count": 14,
      "outputs": []
    },
    {
      "cell_type": "code",
      "metadata": {
        "colab": {
          "base_uri": "https://localhost:8080/"
        },
        "id": "JNSv3RFxaCu0",
        "outputId": "5b79cbcf-1a46-4fc6-8ecd-5c65398e22d1"
      },
      "source": [
        "df = get_field_values_from_flux()"
      ],
      "execution_count": 15,
      "outputs": [
        {
          "output_type": "stream",
          "name": "stdout",
          "text": [
            "\n",
            "    from(bucket: \"PGE_CSV_DATA\")\n",
            "    |> range(start: -365d)\n",
            "    |> timeShift(duration: -7h)\n",
            "    |> filter(fn:(r) => r._field =~ /cost|usage/)\n",
            "    |> group(columns: [\"_account_number\"])\n",
            "  \n"
          ]
        },
        {
          "output_type": "stream",
          "name": "stderr",
          "text": [
            "/usr/local/lib/python3.7/dist-packages/urllib3/connectionpool.py:847: InsecureRequestWarning: Unverified HTTPS request is being made. Adding certificate verification is strongly advised. See: https://urllib3.readthedocs.io/en/latest/advanced-usage.html#ssl-warnings\n",
            "  InsecureRequestWarning)\n"
          ]
        }
      ]
    },
    {
      "cell_type": "code",
      "metadata": {
        "colab": {
          "base_uri": "https://localhost:8080/"
        },
        "id": "gAzo34LdaFV3",
        "outputId": "2ab5b405-4128-44c4-c898-8c6b1a1f20d0"
      },
      "source": [
        "df.head()\n",
        "print (len(df))"
      ],
      "execution_count": 17,
      "outputs": [
        {
          "output_type": "stream",
          "name": "stdout",
          "text": [
            "34091\n"
          ]
        }
      ]
    },
    {
      "cell_type": "code",
      "metadata": {
        "colab": {
          "base_uri": "https://localhost:8080/",
          "height": 204
        },
        "id": "0bP4sxTQaZ1k",
        "outputId": "3372358b-5708-4d56-b6f7-156032b9651b"
      },
      "source": [
        "df['timestamp'] = df['timestamp'].dt.round('15min')\n",
        "df.head()"
      ],
      "execution_count": 18,
      "outputs": [
        {
          "output_type": "execute_result",
          "data": {
            "text/html": [
              "<div>\n",
              "<style scoped>\n",
              "    .dataframe tbody tr th:only-of-type {\n",
              "        vertical-align: middle;\n",
              "    }\n",
              "\n",
              "    .dataframe tbody tr th {\n",
              "        vertical-align: top;\n",
              "    }\n",
              "\n",
              "    .dataframe thead th {\n",
              "        text-align: right;\n",
              "    }\n",
              "</style>\n",
              "<table border=\"1\" class=\"dataframe\">\n",
              "  <thead>\n",
              "    <tr style=\"text-align: right;\">\n",
              "      <th></th>\n",
              "      <th>timestamp</th>\n",
              "      <th>account_number</th>\n",
              "      <th>cost</th>\n",
              "      <th>usage</th>\n",
              "    </tr>\n",
              "  </thead>\n",
              "  <tbody>\n",
              "    <tr>\n",
              "      <th>0</th>\n",
              "      <td>2020-10-10 20:30:00+00:00</td>\n",
              "      <td>863594456</td>\n",
              "      <td>0.02</td>\n",
              "      <td>0.10</td>\n",
              "    </tr>\n",
              "    <tr>\n",
              "      <th>1</th>\n",
              "      <td>2020-10-10 20:45:00+00:00</td>\n",
              "      <td>863594456</td>\n",
              "      <td>0.02</td>\n",
              "      <td>0.10</td>\n",
              "    </tr>\n",
              "    <tr>\n",
              "      <th>2</th>\n",
              "      <td>2020-10-10 21:00:00+00:00</td>\n",
              "      <td>863594456</td>\n",
              "      <td>0.02</td>\n",
              "      <td>0.10</td>\n",
              "    </tr>\n",
              "    <tr>\n",
              "      <th>3</th>\n",
              "      <td>2020-10-10 21:15:00+00:00</td>\n",
              "      <td>863594456</td>\n",
              "      <td>0.02</td>\n",
              "      <td>0.06</td>\n",
              "    </tr>\n",
              "    <tr>\n",
              "      <th>4</th>\n",
              "      <td>2020-10-10 21:30:00+00:00</td>\n",
              "      <td>863594456</td>\n",
              "      <td>0.02</td>\n",
              "      <td>0.06</td>\n",
              "    </tr>\n",
              "  </tbody>\n",
              "</table>\n",
              "</div>"
            ],
            "text/plain": [
              "                  timestamp account_number  cost  usage\n",
              "0 2020-10-10 20:30:00+00:00      863594456  0.02   0.10\n",
              "1 2020-10-10 20:45:00+00:00      863594456  0.02   0.10\n",
              "2 2020-10-10 21:00:00+00:00      863594456  0.02   0.10\n",
              "3 2020-10-10 21:15:00+00:00      863594456  0.02   0.06\n",
              "4 2020-10-10 21:30:00+00:00      863594456  0.02   0.06"
            ]
          },
          "metadata": {},
          "execution_count": 18
        }
      ]
    },
    {
      "cell_type": "code",
      "metadata": {
        "id": "O8qhu0E6az1h"
      },
      "source": [
        "min_time = str(df['timestamp'].min()).replace(\" \", \"-\")\n",
        "max_time = str(df['timestamp'].max()).replace(\" \", \"-\")\n",
        "df.to_csv('pge_data_from_influx_{0}_{1}.csv'.format(min_time, max_time))"
      ],
      "execution_count": 19,
      "outputs": []
    },
    {
      "cell_type": "code",
      "metadata": {
        "id": "d5C6WNrOdNNh",
        "colab": {
          "base_uri": "https://localhost:8080/",
          "height": 35
        },
        "outputId": "47712754-ffae-4590-b236-c0c0c182594c"
      },
      "source": [
        "min_time"
      ],
      "execution_count": 20,
      "outputs": [
        {
          "output_type": "execute_result",
          "data": {
            "application/vnd.google.colaboratory.intrinsic+json": {
              "type": "string"
            },
            "text/plain": [
              "'2020-10-10-20:30:00+00:00'"
            ]
          },
          "metadata": {},
          "execution_count": 20
        }
      ]
    },
    {
      "cell_type": "code",
      "metadata": {
        "colab": {
          "base_uri": "https://localhost:8080/",
          "height": 35
        },
        "id": "jochD5GfXs8b",
        "outputId": "920fbbf3-62d2-4ae0-cadb-be27c4596a5b"
      },
      "source": [
        "max_time"
      ],
      "execution_count": 21,
      "outputs": [
        {
          "output_type": "execute_result",
          "data": {
            "application/vnd.google.colaboratory.intrinsic+json": {
              "type": "string"
            },
            "text/plain": [
              "'2021-10-01-00:00:00+00:00'"
            ]
          },
          "metadata": {},
          "execution_count": 21
        }
      ]
    },
    {
      "cell_type": "code",
      "metadata": {
        "id": "2lrvbZQIXuCM"
      },
      "source": [
        ""
      ],
      "execution_count": null,
      "outputs": []
    }
  ]
}