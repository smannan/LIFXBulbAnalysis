{
  "nbformat": 4,
  "nbformat_minor": 0,
  "metadata": {
    "colab": {
      "name": "SmartBulbDataExplorationCSV.ipynb",
      "provenance": [],
      "collapsed_sections": [],
      "authorship_tag": "ABX9TyNH42sZzUyskAuVNlOnlSNv",
      "include_colab_link": true
    },
    "kernelspec": {
      "name": "python3",
      "display_name": "Python 3"
    },
    "language_info": {
      "name": "python"
    }
  },
  "cells": [
    {
      "cell_type": "markdown",
      "metadata": {
        "id": "view-in-github",
        "colab_type": "text"
      },
      "source": [
        "<a href=\"https://colab.research.google.com/github/smannan/LIFXBulbAnalysis/blob/main/SmartBulbDataExplorationCSV.ipynb\" target=\"_parent\"><img src=\"https://colab.research.google.com/assets/colab-badge.svg\" alt=\"Open In Colab\"/></a>"
      ]
    },
    {
      "cell_type": "code",
      "metadata": {
        "id": "qfkAkHzFNh0k",
        "colab": {
          "base_uri": "https://localhost:8080/"
        },
        "outputId": "28232d86-d4ce-4114-9dcb-0225a5a3cd4a"
      },
      "source": [
        "from google.colab import drive\n",
        "drive.mount('/content/drive')"
      ],
      "execution_count": 1,
      "outputs": [
        {
          "output_type": "stream",
          "name": "stdout",
          "text": [
            "Mounted at /content/drive\n"
          ]
        }
      ]
    },
    {
      "cell_type": "code",
      "metadata": {
        "id": "nL2nJtGrUElU"
      },
      "source": [
        "import matplotlib.pyplot as plt\n",
        "import os\n",
        "import pandas as pd\n",
        "\n",
        "from datetime import datetime\n",
        "from dateutil.parser import parse"
      ],
      "execution_count": 45,
      "outputs": []
    },
    {
      "cell_type": "code",
      "metadata": {
        "id": "YDfLCoGpg0-X"
      },
      "source": [
        "def map_str_col_to_time(df, col):\n",
        "  df[col] = df[col].map(lambda time: parse(time))"
      ],
      "execution_count": 3,
      "outputs": []
    },
    {
      "cell_type": "code",
      "metadata": {
        "id": "7krnR5RmUVEr"
      },
      "source": [
        "bulb_data = pd.read_csv('/content/drive/Shared drives/CMPE295B/InfluxData/2021-07-12_10_15-2021-07-12_10_15.csv', infer_datetime_format = True)\n",
        "map_str_col_to_time(bulb_data, '_time')\n",
        "\n",
        "# start and stop time are the total interval for the dataset\n",
        "# this data was collected over 30 days at 1 hour intervals\n",
        "bulb_data.drop(['_start', '_stop'], axis=1, inplace=True)"
      ],
      "execution_count": 4,
      "outputs": []
    },
    {
      "cell_type": "code",
      "metadata": {
        "colab": {
          "base_uri": "https://localhost:8080/",
          "height": 204
        },
        "id": "GQOjuBamVhDR",
        "outputId": "fa531076-c895-454c-9243-9ae69815871b"
      },
      "source": [
        "bulb_data.head()"
      ],
      "execution_count": 5,
      "outputs": [
        {
          "output_type": "execute_result",
          "data": {
            "text/html": [
              "<div>\n",
              "<style scoped>\n",
              "    .dataframe tbody tr th:only-of-type {\n",
              "        vertical-align: middle;\n",
              "    }\n",
              "\n",
              "    .dataframe tbody tr th {\n",
              "        vertical-align: top;\n",
              "    }\n",
              "\n",
              "    .dataframe thead th {\n",
              "        text-align: right;\n",
              "    }\n",
              "</style>\n",
              "<table border=\"1\" class=\"dataframe\">\n",
              "  <thead>\n",
              "    <tr style=\"text-align: right;\">\n",
              "      <th></th>\n",
              "      <th>table</th>\n",
              "      <th>_time</th>\n",
              "      <th>_value</th>\n",
              "      <th>_field</th>\n",
              "      <th>_measurement</th>\n",
              "      <th>id</th>\n",
              "      <th>label</th>\n",
              "    </tr>\n",
              "  </thead>\n",
              "  <tbody>\n",
              "    <tr>\n",
              "      <th>0</th>\n",
              "      <td>0</td>\n",
              "      <td>2021-06-12 18:00:00+00:00</td>\n",
              "      <td>NaN</td>\n",
              "      <td>brightness</td>\n",
              "      <td>bulb_reading</td>\n",
              "      <td>d073d55e535c</td>\n",
              "      <td>LIFX White 5E535C</td>\n",
              "    </tr>\n",
              "    <tr>\n",
              "      <th>1</th>\n",
              "      <td>0</td>\n",
              "      <td>2021-06-12 19:00:00+00:00</td>\n",
              "      <td>NaN</td>\n",
              "      <td>brightness</td>\n",
              "      <td>bulb_reading</td>\n",
              "      <td>d073d55e535c</td>\n",
              "      <td>LIFX White 5E535C</td>\n",
              "    </tr>\n",
              "    <tr>\n",
              "      <th>2</th>\n",
              "      <td>0</td>\n",
              "      <td>2021-06-12 20:00:00+00:00</td>\n",
              "      <td>NaN</td>\n",
              "      <td>brightness</td>\n",
              "      <td>bulb_reading</td>\n",
              "      <td>d073d55e535c</td>\n",
              "      <td>LIFX White 5E535C</td>\n",
              "    </tr>\n",
              "    <tr>\n",
              "      <th>3</th>\n",
              "      <td>0</td>\n",
              "      <td>2021-06-12 21:00:00+00:00</td>\n",
              "      <td>NaN</td>\n",
              "      <td>brightness</td>\n",
              "      <td>bulb_reading</td>\n",
              "      <td>d073d55e535c</td>\n",
              "      <td>LIFX White 5E535C</td>\n",
              "    </tr>\n",
              "    <tr>\n",
              "      <th>4</th>\n",
              "      <td>0</td>\n",
              "      <td>2021-06-12 22:00:00+00:00</td>\n",
              "      <td>NaN</td>\n",
              "      <td>brightness</td>\n",
              "      <td>bulb_reading</td>\n",
              "      <td>d073d55e535c</td>\n",
              "      <td>LIFX White 5E535C</td>\n",
              "    </tr>\n",
              "  </tbody>\n",
              "</table>\n",
              "</div>"
            ],
            "text/plain": [
              "   table                     _time  ...            id              label\n",
              "0      0 2021-06-12 18:00:00+00:00  ...  d073d55e535c  LIFX White 5E535C\n",
              "1      0 2021-06-12 19:00:00+00:00  ...  d073d55e535c  LIFX White 5E535C\n",
              "2      0 2021-06-12 20:00:00+00:00  ...  d073d55e535c  LIFX White 5E535C\n",
              "3      0 2021-06-12 21:00:00+00:00  ...  d073d55e535c  LIFX White 5E535C\n",
              "4      0 2021-06-12 22:00:00+00:00  ...  d073d55e535c  LIFX White 5E535C\n",
              "\n",
              "[5 rows x 7 columns]"
            ]
          },
          "metadata": {},
          "execution_count": 5
        }
      ]
    },
    {
      "cell_type": "code",
      "metadata": {
        "colab": {
          "base_uri": "https://localhost:8080/"
        },
        "id": "qWIGEzwgWBEp",
        "outputId": "fa1ad917-8938-4978-f02e-c0d259624326"
      },
      "source": [
        "bulb_data.count()"
      ],
      "execution_count": 6,
      "outputs": [
        {
          "output_type": "execute_result",
          "data": {
            "text/plain": [
              "table           2163\n",
              "_time           2163\n",
              "_value           280\n",
              "_field          2163\n",
              "_measurement    2163\n",
              "id              2163\n",
              "label           2163\n",
              "dtype: int64"
            ]
          },
          "metadata": {},
          "execution_count": 6
        }
      ]
    },
    {
      "cell_type": "code",
      "metadata": {
        "colab": {
          "base_uri": "https://localhost:8080/"
        },
        "id": "WpBSpgGhYxqC",
        "outputId": "3fcfb067-a504-4ae9-f192-fc3b10f28c34"
      },
      "source": [
        "### 3 different tables with equally-distributed samples\n",
        "bulb_data['table'].value_counts()"
      ],
      "execution_count": 7,
      "outputs": [
        {
          "output_type": "execute_result",
          "data": {
            "text/plain": [
              "1    721\n",
              "2    721\n",
              "0    721\n",
              "Name: table, dtype: int64"
            ]
          },
          "metadata": {},
          "execution_count": 7
        }
      ]
    },
    {
      "cell_type": "code",
      "metadata": {
        "colab": {
          "base_uri": "https://localhost:8080/"
        },
        "id": "leopwZSMZGVz",
        "outputId": "40fc5811-032c-4b3f-e081-83f7a467d00f"
      },
      "source": [
        "### Only two unique ids - one has twice as many samples as the other?\n",
        "### Assuming each light bulb has its own id?\n",
        "bulb_data['id'].value_counts()"
      ],
      "execution_count": 8,
      "outputs": [
        {
          "output_type": "execute_result",
          "data": {
            "text/plain": [
              "d073d55e535c    1442\n",
              "d073d55df12f     721\n",
              "Name: id, dtype: int64"
            ]
          },
          "metadata": {},
          "execution_count": 8
        }
      ]
    },
    {
      "cell_type": "code",
      "metadata": {
        "colab": {
          "base_uri": "https://localhost:8080/"
        },
        "id": "jZUYmFZPZSaR",
        "outputId": "063012ee-819c-4c04-cf4d-52bed4074c99"
      },
      "source": [
        "bulb_data['_field'].value_counts()"
      ],
      "execution_count": 9,
      "outputs": [
        {
          "output_type": "execute_result",
          "data": {
            "text/plain": [
              "brightness    2163\n",
              "Name: _field, dtype: int64"
            ]
          },
          "metadata": {},
          "execution_count": 9
        }
      ]
    },
    {
      "cell_type": "code",
      "metadata": {
        "colab": {
          "base_uri": "https://localhost:8080/"
        },
        "id": "2knr17EO00gQ",
        "outputId": "afedd345-95f1-4233-d1c0-8dae0718991f"
      },
      "source": [
        "bulb_data['_value'].value_counts()"
      ],
      "execution_count": 11,
      "outputs": [
        {
          "output_type": "execute_result",
          "data": {
            "text/plain": [
              "1.000000    148\n",
              "0.085400     44\n",
              "0.447200     38\n",
              "0.417387      3\n",
              "0.968750      3\n",
              "0.983333      3\n",
              "0.439747      3\n",
              "0.982143      3\n",
              "0.962963      3\n",
              "0.916667      2\n",
              "0.083953      2\n",
              "0.928571      2\n",
              "0.439354      2\n",
              "0.430637      2\n",
              "0.492448      2\n",
              "0.083543      2\n",
              "0.980392      2\n",
              "0.435733      2\n",
              "0.857143      2\n",
              "0.976190      2\n",
              "0.933333      1\n",
              "0.433225      1\n",
              "0.427757      1\n",
              "0.956522      1\n",
              "0.778746      1\n",
              "0.439214      1\n",
              "0.223600      1\n",
              "0.972973      1\n",
              "0.500000      1\n",
              "0.972360      1\n",
              "Name: _value, dtype: int64"
            ]
          },
          "metadata": {},
          "execution_count": 11
        }
      ]
    },
    {
      "cell_type": "code",
      "metadata": {
        "colab": {
          "base_uri": "https://localhost:8080/"
        },
        "id": "XcXL8XJMa5bU",
        "outputId": "0939b92e-36c9-49aa-bdbb-77097c88e248"
      },
      "source": [
        "bulb_data['label'].value_counts()"
      ],
      "execution_count": 12,
      "outputs": [
        {
          "output_type": "execute_result",
          "data": {
            "text/plain": [
              "LIFX White 5E535C    721\n",
              "Light1               721\n",
              "Light2               721\n",
              "Name: label, dtype: int64"
            ]
          },
          "metadata": {},
          "execution_count": 12
        }
      ]
    },
    {
      "cell_type": "code",
      "metadata": {
        "colab": {
          "base_uri": "https://localhost:8080/",
          "height": 142
        },
        "id": "bq7ZIcBXZU2J",
        "outputId": "5aafec15-4fca-420d-9c6e-fce44e8de5c5"
      },
      "source": [
        "# group by light bulb id and sum the number of nulls in the value column\n",
        "# AKA the number of missing readings for each bulb\n",
        "# 77.8% missing values for bulb d073d55df12f\n",
        "# 61.1% missing values for bulb d073d55e535c\n",
        "bulb_data.groupby(['id']).agg({ '_value': lambda x: x.isnull().sum() })"
      ],
      "execution_count": 13,
      "outputs": [
        {
          "output_type": "execute_result",
          "data": {
            "text/html": [
              "<div>\n",
              "<style scoped>\n",
              "    .dataframe tbody tr th:only-of-type {\n",
              "        vertical-align: middle;\n",
              "    }\n",
              "\n",
              "    .dataframe tbody tr th {\n",
              "        vertical-align: top;\n",
              "    }\n",
              "\n",
              "    .dataframe thead th {\n",
              "        text-align: right;\n",
              "    }\n",
              "</style>\n",
              "<table border=\"1\" class=\"dataframe\">\n",
              "  <thead>\n",
              "    <tr style=\"text-align: right;\">\n",
              "      <th></th>\n",
              "      <th>_value</th>\n",
              "    </tr>\n",
              "    <tr>\n",
              "      <th>id</th>\n",
              "      <th></th>\n",
              "    </tr>\n",
              "  </thead>\n",
              "  <tbody>\n",
              "    <tr>\n",
              "      <th>d073d55df12f</th>\n",
              "      <td>561.0</td>\n",
              "    </tr>\n",
              "    <tr>\n",
              "      <th>d073d55e535c</th>\n",
              "      <td>1322.0</td>\n",
              "    </tr>\n",
              "  </tbody>\n",
              "</table>\n",
              "</div>"
            ],
            "text/plain": [
              "              _value\n",
              "id                  \n",
              "d073d55df12f   561.0\n",
              "d073d55e535c  1322.0"
            ]
          },
          "metadata": {},
          "execution_count": 13
        }
      ]
    },
    {
      "cell_type": "markdown",
      "metadata": {
        "id": "F4ZTe1tg2we-"
      },
      "source": [
        "Inspect values for a specific light bulb"
      ]
    },
    {
      "cell_type": "code",
      "metadata": {
        "colab": {
          "base_uri": "https://localhost:8080/"
        },
        "id": "Y93IyJ0Q2hIl",
        "outputId": "5208069f-f5af-426e-bcb3-80b67a38a908"
      },
      "source": [
        "bulb_1_df = bulb_data.loc[bulb_data['id'] == 'd073d55e535c']\n",
        "print(bulb_1_df['_time'].min(), bulb_1_df['_time'].max())"
      ],
      "execution_count": 19,
      "outputs": [
        {
          "output_type": "stream",
          "name": "stdout",
          "text": [
            "2021-06-12 18:00:00+00:00 2021-07-12 17:15:32.866158+00:00\n"
          ]
        }
      ]
    },
    {
      "cell_type": "code",
      "metadata": {
        "colab": {
          "base_uri": "https://localhost:8080/",
          "height": 373
        },
        "id": "K_ifRoLbeMGM",
        "outputId": "b05e9a6e-8487-4fec-ada0-be951fa85a30"
      },
      "source": [
        "bulb_1_df['_value'] = bulb_1_df['_value'].fillna(0)\n",
        "plt.plot(bulb_1_df['_time'], bulb_1_df['_value'])\n",
        "plt.gcf().autofmt_xdate()"
      ],
      "execution_count": 20,
      "outputs": [
        {
          "output_type": "stream",
          "name": "stderr",
          "text": [
            "/usr/local/lib/python3.7/dist-packages/ipykernel_launcher.py:1: SettingWithCopyWarning: \n",
            "A value is trying to be set on a copy of a slice from a DataFrame.\n",
            "Try using .loc[row_indexer,col_indexer] = value instead\n",
            "\n",
            "See the caveats in the documentation: https://pandas.pydata.org/pandas-docs/stable/user_guide/indexing.html#returning-a-view-versus-a-copy\n",
            "  \"\"\"Entry point for launching an IPython kernel.\n"
          ]
        },
        {
          "output_type": "display_data",
          "data": {
            "image/png": "[encoded data removed]",
            "text/plain": [
              "<Figure size 432x288 with 1 Axes>"
            ]
          },
          "metadata": {
            "needs_background": "light"
          }
        }
      ]
    },
    {
      "cell_type": "code",
      "metadata": {
        "colab": {
          "base_uri": "https://localhost:8080/"
        },
        "id": "RfzD6kH03cX0",
        "outputId": "bb2e802b-c3bc-433f-a7fb-d741bc2726a3"
      },
      "source": [
        "times = bulb_1_df['_time'].tolist()\n",
        "start_time = times[0]\n",
        "for timestamp in times[1:10]:\n",
        "  diff_in_minutes = (timestamp - start_time).total_seconds() / 60\n",
        "  if (diff_in_minutes != 60.0):\n",
        "    print (diff_in_minutes)"
      ],
      "execution_count": 46,
      "outputs": [
        {
          "output_type": "stream",
          "name": "stdout",
          "text": [
            "120.0\n",
            "180.0\n",
            "240.0\n",
            "300.0\n",
            "360.0\n",
            "420.0\n",
            "480.0\n",
            "540.0\n"
          ]
        }
      ]
    },
    {
      "cell_type": "markdown",
      "metadata": {
        "id": "wMM7-6HoZtfz"
      },
      "source": [
        "Questions\n",
        "\n",
        "\n",
        "1.   What does the table id correspond to? Is it one table per bulb?\n",
        "2.   Why does one light bulb have twice as many samples as the other?\n",
        "3.   Is there a temperature field available? -> **Yes, in Kelvin but this static download only includes brightness**\n",
        "4.   Was there a third light bulb added? LIFX White 5E535C? -> **labels were switched halfway through the semester**\n",
        "5.   Most readings are missing - can we assume the brightness was 0 for these readings, as in the light was turned off? -> **yes**\n",
        "6.   One month's worth of data sampled every hour should = 730 records x 2 devices = 1,460 readings but there are 2,163?\n",
        "7.   Brightness field is continuous - makes sense because the bulb is dimmable but some values are really specific such as 0.083953. Should check with Nithiya on how the lights are being turned on? I thought the app allowed fixed intervals for brightness (0, 0.25, 0.5. 0.75, 1.0), etc?\n",
        "8.   Really large gaps where lights were off - for example bulb d073d55e535c was off from June 13th to June 17th? And again from July 1st to July 5th?\n",
        "9.   Large gaps between some of the readings - as much as 9 hours between two readings\n",
        "\n"
      ]
    },
    {
      "cell_type": "markdown",
      "metadata": {
        "id": "K1PcZFwZ7GvK"
      },
      "source": [
        "Feature Engineering\n",
        "1. Replace nan values with 0 - assume bulbs were off\n",
        "2. Labels were changed halfway through the summer so LIFX White 5E535C corresponds to device d073d55e535c or Light 2"
      ]
    },
    {
      "cell_type": "code",
      "metadata": {
        "id": "EOpierY7Z3j-"
      },
      "source": [
        ""
      ],
      "execution_count": null,
      "outputs": []
    }
  ]
}