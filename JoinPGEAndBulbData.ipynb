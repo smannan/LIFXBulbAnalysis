{
  "nbformat": 4,
  "nbformat_minor": 0,
  "metadata": {
    "colab": {
      "name": "JoinPGEAndBulbData.ipynb",
      "provenance": [],
      "collapsed_sections": [],
      "authorship_tag": "ABX9TyM7teV84cFaMLLhMQ/gHd+q",
      "include_colab_link": true
    },
    "kernelspec": {
      "name": "python3",
      "display_name": "Python 3"
    },
    "language_info": {
      "name": "python"
    }
  },
  "cells": [
    {
      "cell_type": "markdown",
      "metadata": {
        "id": "view-in-github",
        "colab_type": "text"
      },
      "source": [
        "<a href=\"https://colab.research.google.com/github/smannan/LIFXBulbAnalysis/blob/main/JoinPGEAndBulbData.ipynb\" target=\"_parent\"><img src=\"https://colab.research.google.com/assets/colab-badge.svg\" alt=\"Open In Colab\"/></a>"
      ]
    },
    {
      "cell_type": "code",
      "metadata": {
        "id": "LnlFnlu-lsr9"
      },
      "source": [
        "import pandas as pd"
      ],
      "execution_count": 48,
      "outputs": []
    },
    {
      "cell_type": "code",
      "metadata": {
        "colab": {
          "base_uri": "https://localhost:8080/"
        },
        "id": "-T99WLrjl8Oi",
        "outputId": "38501885-e81d-43ad-dcd8-0046dbeb1543"
      },
      "source": [
        "from google.colab import drive\n",
        "drive.mount('/content/drive')"
      ],
      "execution_count": 49,
      "outputs": [
        {
          "output_type": "stream",
          "name": "stdout",
          "text": [
            "Drive already mounted at /content/drive; to attempt to forcibly remount, call drive.mount(\"/content/drive\", force_remount=True).\n"
          ]
        }
      ]
    },
    {
      "cell_type": "code",
      "metadata": {
        "id": "Rsi_MxTmRgJ-"
      },
      "source": [
        "def drop_seconds_from_timestamp(df):\n",
        "  df['timestamp'] = pd.to_datetime(df['timestamp'])\n",
        "  df['timestamp'] = df['timestamp'].dt.strftime('%Y-%m-%d %H:%M')\n",
        "  df['timestamp'] = pd.to_datetime(df['timestamp'])"
      ],
      "execution_count": 50,
      "outputs": []
    },
    {
      "cell_type": "code",
      "metadata": {
        "id": "7SOjoBGnSyqU"
      },
      "source": [
        "def agg_pge_hourly(df):\n",
        "  df['timestamp'] = pd.to_datetime(df['timestamp'])\n",
        "  df['timestamp'] = df['timestamp'].dt.strftime('%Y-%m-%d %H')\n",
        "  df['timestamp'] = pd.to_datetime(df['timestamp'])\n",
        "\n",
        "  df = df.groupby(['timestamp']).agg({\n",
        "    'cost': 'sum',\n",
        "    'usage': 'sum'\n",
        "  })\n",
        "\n",
        "  return df.reset_index()"
      ],
      "execution_count": 51,
      "outputs": []
    },
    {
      "cell_type": "code",
      "metadata": {
        "id": "ZSf87QOEmBFw"
      },
      "source": [
        "bulb_file = '/content/drive/Shared drives/CMPE295B/FinalBulbData/2021-08-26_13_2021-09-25_00_hourly.csv'\n",
        "bulb_data = pd.read_csv(bulb_file, infer_datetime_format = True).drop(['Unnamed: 0'], axis=1, inplace=False)\n",
        "bulb_data['timestamp'] = pd.to_datetime(bulb_data['timestamp'])"
      ],
      "execution_count": 52,
      "outputs": []
    },
    {
      "cell_type": "code",
      "metadata": {
        "id": "uei9XlV5mJse"
      },
      "source": [
        "pge_file = '/content/drive/Shared drives/CMPE295B/ProcessedPGEData/pge_data_from_influx_2021-08-26-00_15_2021-09-21-00_00.csv'\n",
        "pge_data = pd.read_csv(pge_file, infer_datetime_format = True).drop(['Unnamed: 0'], axis=1, inplace=False)\n",
        "pge_hourly = agg_pge_hourly(pge_data)"
      ],
      "execution_count": 53,
      "outputs": []
    },
    {
      "cell_type": "code",
      "metadata": {
        "colab": {
          "base_uri": "https://localhost:8080/",
          "height": 221
        },
        "id": "d4g8CDocTM65",
        "outputId": "f1d6d204-c828-4f84-82c2-881888c3bb3c"
      },
      "source": [
        "print (len(pge_hourly))\n",
        "pge_hourly.head()"
      ],
      "execution_count": 54,
      "outputs": [
        {
          "output_type": "stream",
          "name": "stdout",
          "text": [
            "625\n"
          ]
        },
        {
          "output_type": "execute_result",
          "data": {
            "text/html": [
              "<div>\n",
              "<style scoped>\n",
              "    .dataframe tbody tr th:only-of-type {\n",
              "        vertical-align: middle;\n",
              "    }\n",
              "\n",
              "    .dataframe tbody tr th {\n",
              "        vertical-align: top;\n",
              "    }\n",
              "\n",
              "    .dataframe thead th {\n",
              "        text-align: right;\n",
              "    }\n",
              "</style>\n",
              "<table border=\"1\" class=\"dataframe\">\n",
              "  <thead>\n",
              "    <tr style=\"text-align: right;\">\n",
              "      <th></th>\n",
              "      <th>timestamp</th>\n",
              "      <th>cost</th>\n",
              "      <th>usage</th>\n",
              "    </tr>\n",
              "  </thead>\n",
              "  <tbody>\n",
              "    <tr>\n",
              "      <th>0</th>\n",
              "      <td>2021-08-26 00:00:00</td>\n",
              "      <td>0.06</td>\n",
              "      <td>0.24</td>\n",
              "    </tr>\n",
              "    <tr>\n",
              "      <th>1</th>\n",
              "      <td>2021-08-26 01:00:00</td>\n",
              "      <td>0.08</td>\n",
              "      <td>0.29</td>\n",
              "    </tr>\n",
              "    <tr>\n",
              "      <th>2</th>\n",
              "      <td>2021-08-26 02:00:00</td>\n",
              "      <td>0.08</td>\n",
              "      <td>0.28</td>\n",
              "    </tr>\n",
              "    <tr>\n",
              "      <th>3</th>\n",
              "      <td>2021-08-26 03:00:00</td>\n",
              "      <td>0.08</td>\n",
              "      <td>0.28</td>\n",
              "    </tr>\n",
              "    <tr>\n",
              "      <th>4</th>\n",
              "      <td>2021-08-26 04:00:00</td>\n",
              "      <td>0.08</td>\n",
              "      <td>0.28</td>\n",
              "    </tr>\n",
              "  </tbody>\n",
              "</table>\n",
              "</div>"
            ],
            "text/plain": [
              "            timestamp  cost  usage\n",
              "0 2021-08-26 00:00:00  0.06   0.24\n",
              "1 2021-08-26 01:00:00  0.08   0.29\n",
              "2 2021-08-26 02:00:00  0.08   0.28\n",
              "3 2021-08-26 03:00:00  0.08   0.28\n",
              "4 2021-08-26 04:00:00  0.08   0.28"
            ]
          },
          "metadata": {},
          "execution_count": 54
        }
      ]
    },
    {
      "cell_type": "code",
      "metadata": {
        "colab": {
          "base_uri": "https://localhost:8080/",
          "height": 221
        },
        "id": "Y242c3Snmilr",
        "outputId": "3d14910f-cbdc-4219-f587-b055e0af3089"
      },
      "source": [
        "print (len(bulb_data))\n",
        "bulb_data.head()"
      ],
      "execution_count": 55,
      "outputs": [
        {
          "output_type": "stream",
          "name": "stdout",
          "text": [
            "708\n"
          ]
        },
        {
          "output_type": "execute_result",
          "data": {
            "text/html": [
              "<div>\n",
              "<style scoped>\n",
              "    .dataframe tbody tr th:only-of-type {\n",
              "        vertical-align: middle;\n",
              "    }\n",
              "\n",
              "    .dataframe tbody tr th {\n",
              "        vertical-align: top;\n",
              "    }\n",
              "\n",
              "    .dataframe thead th {\n",
              "        text-align: right;\n",
              "    }\n",
              "</style>\n",
              "<table border=\"1\" class=\"dataframe\">\n",
              "  <thead>\n",
              "    <tr style=\"text-align: right;\">\n",
              "      <th></th>\n",
              "      <th>timestamp</th>\n",
              "      <th>brightness</th>\n",
              "      <th>kelvin</th>\n",
              "      <th>kWH</th>\n",
              "    </tr>\n",
              "  </thead>\n",
              "  <tbody>\n",
              "    <tr>\n",
              "      <th>0</th>\n",
              "      <td>2021-08-26 13:00:00</td>\n",
              "      <td>1.0</td>\n",
              "      <td>2700.0</td>\n",
              "      <td>0.119</td>\n",
              "    </tr>\n",
              "    <tr>\n",
              "      <th>1</th>\n",
              "      <td>2021-08-26 14:00:00</td>\n",
              "      <td>1.0</td>\n",
              "      <td>2700.0</td>\n",
              "      <td>0.510</td>\n",
              "    </tr>\n",
              "    <tr>\n",
              "      <th>2</th>\n",
              "      <td>2021-08-26 15:00:00</td>\n",
              "      <td>1.0</td>\n",
              "      <td>2700.0</td>\n",
              "      <td>0.510</td>\n",
              "    </tr>\n",
              "    <tr>\n",
              "      <th>3</th>\n",
              "      <td>2021-08-26 16:00:00</td>\n",
              "      <td>1.0</td>\n",
              "      <td>2700.0</td>\n",
              "      <td>0.510</td>\n",
              "    </tr>\n",
              "    <tr>\n",
              "      <th>4</th>\n",
              "      <td>2021-08-26 17:00:00</td>\n",
              "      <td>1.0</td>\n",
              "      <td>2700.0</td>\n",
              "      <td>0.510</td>\n",
              "    </tr>\n",
              "  </tbody>\n",
              "</table>\n",
              "</div>"
            ],
            "text/plain": [
              "            timestamp  brightness  kelvin    kWH\n",
              "0 2021-08-26 13:00:00         1.0  2700.0  0.119\n",
              "1 2021-08-26 14:00:00         1.0  2700.0  0.510\n",
              "2 2021-08-26 15:00:00         1.0  2700.0  0.510\n",
              "3 2021-08-26 16:00:00         1.0  2700.0  0.510\n",
              "4 2021-08-26 17:00:00         1.0  2700.0  0.510"
            ]
          },
          "metadata": {},
          "execution_count": 55
        }
      ]
    },
    {
      "cell_type": "code",
      "metadata": {
        "id": "ie-8a_yMmlxs"
      },
      "source": [
        "merged = pd.merge_asof(bulb_data, pge_hourly, on='timestamp')"
      ],
      "execution_count": 56,
      "outputs": []
    },
    {
      "cell_type": "code",
      "metadata": {
        "colab": {
          "base_uri": "https://localhost:8080/",
          "height": 221
        },
        "id": "-E7ZV4tdQzcs",
        "outputId": "edc25625-28e9-432d-8639-a8b2a929273e"
      },
      "source": [
        "print (len(merged))\n",
        "merged.head()"
      ],
      "execution_count": 57,
      "outputs": [
        {
          "output_type": "stream",
          "name": "stdout",
          "text": [
            "708\n"
          ]
        },
        {
          "output_type": "execute_result",
          "data": {
            "text/html": [
              "<div>\n",
              "<style scoped>\n",
              "    .dataframe tbody tr th:only-of-type {\n",
              "        vertical-align: middle;\n",
              "    }\n",
              "\n",
              "    .dataframe tbody tr th {\n",
              "        vertical-align: top;\n",
              "    }\n",
              "\n",
              "    .dataframe thead th {\n",
              "        text-align: right;\n",
              "    }\n",
              "</style>\n",
              "<table border=\"1\" class=\"dataframe\">\n",
              "  <thead>\n",
              "    <tr style=\"text-align: right;\">\n",
              "      <th></th>\n",
              "      <th>timestamp</th>\n",
              "      <th>brightness</th>\n",
              "      <th>kelvin</th>\n",
              "      <th>kWH</th>\n",
              "      <th>cost</th>\n",
              "      <th>usage</th>\n",
              "    </tr>\n",
              "  </thead>\n",
              "  <tbody>\n",
              "    <tr>\n",
              "      <th>0</th>\n",
              "      <td>2021-08-26 13:00:00</td>\n",
              "      <td>1.0</td>\n",
              "      <td>2700.0</td>\n",
              "      <td>0.119</td>\n",
              "      <td>0.09</td>\n",
              "      <td>0.35</td>\n",
              "    </tr>\n",
              "    <tr>\n",
              "      <th>1</th>\n",
              "      <td>2021-08-26 14:00:00</td>\n",
              "      <td>1.0</td>\n",
              "      <td>2700.0</td>\n",
              "      <td>0.510</td>\n",
              "      <td>0.11</td>\n",
              "      <td>0.38</td>\n",
              "    </tr>\n",
              "    <tr>\n",
              "      <th>2</th>\n",
              "      <td>2021-08-26 15:00:00</td>\n",
              "      <td>1.0</td>\n",
              "      <td>2700.0</td>\n",
              "      <td>0.510</td>\n",
              "      <td>0.09</td>\n",
              "      <td>0.34</td>\n",
              "    </tr>\n",
              "    <tr>\n",
              "      <th>3</th>\n",
              "      <td>2021-08-26 16:00:00</td>\n",
              "      <td>1.0</td>\n",
              "      <td>2700.0</td>\n",
              "      <td>0.510</td>\n",
              "      <td>0.08</td>\n",
              "      <td>0.29</td>\n",
              "    </tr>\n",
              "    <tr>\n",
              "      <th>4</th>\n",
              "      <td>2021-08-26 17:00:00</td>\n",
              "      <td>1.0</td>\n",
              "      <td>2700.0</td>\n",
              "      <td>0.510</td>\n",
              "      <td>0.11</td>\n",
              "      <td>0.40</td>\n",
              "    </tr>\n",
              "  </tbody>\n",
              "</table>\n",
              "</div>"
            ],
            "text/plain": [
              "            timestamp  brightness  kelvin    kWH  cost  usage\n",
              "0 2021-08-26 13:00:00         1.0  2700.0  0.119  0.09   0.35\n",
              "1 2021-08-26 14:00:00         1.0  2700.0  0.510  0.11   0.38\n",
              "2 2021-08-26 15:00:00         1.0  2700.0  0.510  0.09   0.34\n",
              "3 2021-08-26 16:00:00         1.0  2700.0  0.510  0.08   0.29\n",
              "4 2021-08-26 17:00:00         1.0  2700.0  0.510  0.11   0.40"
            ]
          },
          "metadata": {},
          "execution_count": 57
        }
      ]
    },
    {
      "cell_type": "code",
      "metadata": {
        "colab": {
          "base_uri": "https://localhost:8080/"
        },
        "id": "INYAFtuSQ-_q",
        "outputId": "769fd361-4dc6-4492-8447-a7f2167a69ce"
      },
      "source": [
        "merged.info()"
      ],
      "execution_count": 59,
      "outputs": [
        {
          "output_type": "stream",
          "name": "stdout",
          "text": [
            "<class 'pandas.core.frame.DataFrame'>\n",
            "Int64Index: 708 entries, 0 to 707\n",
            "Data columns (total 6 columns):\n",
            " #   Column      Non-Null Count  Dtype         \n",
            "---  ------      --------------  -----         \n",
            " 0   timestamp   708 non-null    datetime64[ns]\n",
            " 1   brightness  708 non-null    float64       \n",
            " 2   kelvin      708 non-null    float64       \n",
            " 3   kWH         708 non-null    float64       \n",
            " 4   cost        708 non-null    float64       \n",
            " 5   usage       708 non-null    float64       \n",
            "dtypes: datetime64[ns](1), float64(5)\n",
            "memory usage: 38.7 KB\n"
          ]
        }
      ]
    },
    {
      "cell_type": "code",
      "metadata": {
        "colab": {
          "base_uri": "https://localhost:8080/",
          "height": 297
        },
        "id": "VUAGxF3fY6AJ",
        "outputId": "97c4fba9-8e52-49d1-c730-d87e28b02859"
      },
      "source": [
        "merged.describe()"
      ],
      "execution_count": 63,
      "outputs": [
        {
          "output_type": "execute_result",
          "data": {
            "text/html": [
              "<div>\n",
              "<style scoped>\n",
              "    .dataframe tbody tr th:only-of-type {\n",
              "        vertical-align: middle;\n",
              "    }\n",
              "\n",
              "    .dataframe tbody tr th {\n",
              "        vertical-align: top;\n",
              "    }\n",
              "\n",
              "    .dataframe thead th {\n",
              "        text-align: right;\n",
              "    }\n",
              "</style>\n",
              "<table border=\"1\" class=\"dataframe\">\n",
              "  <thead>\n",
              "    <tr style=\"text-align: right;\">\n",
              "      <th></th>\n",
              "      <th>brightness</th>\n",
              "      <th>kelvin</th>\n",
              "      <th>kWH</th>\n",
              "      <th>cost</th>\n",
              "      <th>usage</th>\n",
              "    </tr>\n",
              "  </thead>\n",
              "  <tbody>\n",
              "    <tr>\n",
              "      <th>count</th>\n",
              "      <td>708.000000</td>\n",
              "      <td>708.000000</td>\n",
              "      <td>708.000000</td>\n",
              "      <td>708.000000</td>\n",
              "      <td>708.000000</td>\n",
              "    </tr>\n",
              "    <tr>\n",
              "      <th>mean</th>\n",
              "      <td>0.160852</td>\n",
              "      <td>447.257533</td>\n",
              "      <td>0.080858</td>\n",
              "      <td>0.078347</td>\n",
              "      <td>0.294449</td>\n",
              "    </tr>\n",
              "    <tr>\n",
              "      <th>std</th>\n",
              "      <td>0.352692</td>\n",
              "      <td>984.988367</td>\n",
              "      <td>0.178429</td>\n",
              "      <td>0.060254</td>\n",
              "      <td>0.229621</td>\n",
              "    </tr>\n",
              "    <tr>\n",
              "      <th>min</th>\n",
              "      <td>0.000000</td>\n",
              "      <td>0.000000</td>\n",
              "      <td>0.000000</td>\n",
              "      <td>0.020000</td>\n",
              "      <td>0.080000</td>\n",
              "    </tr>\n",
              "    <tr>\n",
              "      <th>25%</th>\n",
              "      <td>0.000000</td>\n",
              "      <td>0.000000</td>\n",
              "      <td>0.000000</td>\n",
              "      <td>0.040000</td>\n",
              "      <td>0.120000</td>\n",
              "    </tr>\n",
              "    <tr>\n",
              "      <th>50%</th>\n",
              "      <td>0.000000</td>\n",
              "      <td>0.000000</td>\n",
              "      <td>0.000000</td>\n",
              "      <td>0.080000</td>\n",
              "      <td>0.270000</td>\n",
              "    </tr>\n",
              "    <tr>\n",
              "      <th>75%</th>\n",
              "      <td>0.000000</td>\n",
              "      <td>0.000000</td>\n",
              "      <td>0.000000</td>\n",
              "      <td>0.090000</td>\n",
              "      <td>0.360000</td>\n",
              "    </tr>\n",
              "    <tr>\n",
              "      <th>max</th>\n",
              "      <td>1.000000</td>\n",
              "      <td>3500.000000</td>\n",
              "      <td>0.510000</td>\n",
              "      <td>0.520000</td>\n",
              "      <td>1.960000</td>\n",
              "    </tr>\n",
              "  </tbody>\n",
              "</table>\n",
              "</div>"
            ],
            "text/plain": [
              "       brightness       kelvin         kWH        cost       usage\n",
              "count  708.000000   708.000000  708.000000  708.000000  708.000000\n",
              "mean     0.160852   447.257533    0.080858    0.078347    0.294449\n",
              "std      0.352692   984.988367    0.178429    0.060254    0.229621\n",
              "min      0.000000     0.000000    0.000000    0.020000    0.080000\n",
              "25%      0.000000     0.000000    0.000000    0.040000    0.120000\n",
              "50%      0.000000     0.000000    0.000000    0.080000    0.270000\n",
              "75%      0.000000     0.000000    0.000000    0.090000    0.360000\n",
              "max      1.000000  3500.000000    0.510000    0.520000    1.960000"
            ]
          },
          "metadata": {},
          "execution_count": 63
        }
      ]
    },
    {
      "cell_type": "code",
      "metadata": {
        "id": "TP3eN8f3ZFIv"
      },
      "source": [
        "merged['percent_usage_by_bulb'] = (merged['kWH'] / merged['usage']) * 100\n",
        "merged['cost_per_bulb'] = (merged['kWH'] / merged['usage']) * merged['cost']"
      ],
      "execution_count": 68,
      "outputs": []
    },
    {
      "cell_type": "code",
      "metadata": {
        "colab": {
          "base_uri": "https://localhost:8080/",
          "height": 204
        },
        "id": "D6Afy_RsZeIB",
        "outputId": "7c808302-8643-49de-c812-2605e131e285"
      },
      "source": [
        "merged.head()"
      ],
      "execution_count": 69,
      "outputs": [
        {
          "output_type": "execute_result",
          "data": {
            "text/html": [
              "<div>\n",
              "<style scoped>\n",
              "    .dataframe tbody tr th:only-of-type {\n",
              "        vertical-align: middle;\n",
              "    }\n",
              "\n",
              "    .dataframe tbody tr th {\n",
              "        vertical-align: top;\n",
              "    }\n",
              "\n",
              "    .dataframe thead th {\n",
              "        text-align: right;\n",
              "    }\n",
              "</style>\n",
              "<table border=\"1\" class=\"dataframe\">\n",
              "  <thead>\n",
              "    <tr style=\"text-align: right;\">\n",
              "      <th></th>\n",
              "      <th>timestamp</th>\n",
              "      <th>brightness</th>\n",
              "      <th>kelvin</th>\n",
              "      <th>kWH</th>\n",
              "      <th>cost</th>\n",
              "      <th>usage</th>\n",
              "      <th>percent_usage_by_bulb</th>\n",
              "      <th>cost_per_bulb</th>\n",
              "    </tr>\n",
              "  </thead>\n",
              "  <tbody>\n",
              "    <tr>\n",
              "      <th>0</th>\n",
              "      <td>2021-08-26 13:00:00</td>\n",
              "      <td>1.0</td>\n",
              "      <td>2700.0</td>\n",
              "      <td>0.119</td>\n",
              "      <td>0.09</td>\n",
              "      <td>0.35</td>\n",
              "      <td>34.000000</td>\n",
              "      <td>0.030600</td>\n",
              "    </tr>\n",
              "    <tr>\n",
              "      <th>1</th>\n",
              "      <td>2021-08-26 14:00:00</td>\n",
              "      <td>1.0</td>\n",
              "      <td>2700.0</td>\n",
              "      <td>0.510</td>\n",
              "      <td>0.11</td>\n",
              "      <td>0.38</td>\n",
              "      <td>134.210526</td>\n",
              "      <td>0.147632</td>\n",
              "    </tr>\n",
              "    <tr>\n",
              "      <th>2</th>\n",
              "      <td>2021-08-26 15:00:00</td>\n",
              "      <td>1.0</td>\n",
              "      <td>2700.0</td>\n",
              "      <td>0.510</td>\n",
              "      <td>0.09</td>\n",
              "      <td>0.34</td>\n",
              "      <td>150.000000</td>\n",
              "      <td>0.135000</td>\n",
              "    </tr>\n",
              "    <tr>\n",
              "      <th>3</th>\n",
              "      <td>2021-08-26 16:00:00</td>\n",
              "      <td>1.0</td>\n",
              "      <td>2700.0</td>\n",
              "      <td>0.510</td>\n",
              "      <td>0.08</td>\n",
              "      <td>0.29</td>\n",
              "      <td>175.862069</td>\n",
              "      <td>0.140690</td>\n",
              "    </tr>\n",
              "    <tr>\n",
              "      <th>4</th>\n",
              "      <td>2021-08-26 17:00:00</td>\n",
              "      <td>1.0</td>\n",
              "      <td>2700.0</td>\n",
              "      <td>0.510</td>\n",
              "      <td>0.11</td>\n",
              "      <td>0.40</td>\n",
              "      <td>127.500000</td>\n",
              "      <td>0.140250</td>\n",
              "    </tr>\n",
              "  </tbody>\n",
              "</table>\n",
              "</div>"
            ],
            "text/plain": [
              "            timestamp  brightness  ...  percent_usage_by_bulb  cost_per_bulb\n",
              "0 2021-08-26 13:00:00         1.0  ...              34.000000       0.030600\n",
              "1 2021-08-26 14:00:00         1.0  ...             134.210526       0.147632\n",
              "2 2021-08-26 15:00:00         1.0  ...             150.000000       0.135000\n",
              "3 2021-08-26 16:00:00         1.0  ...             175.862069       0.140690\n",
              "4 2021-08-26 17:00:00         1.0  ...             127.500000       0.140250\n",
              "\n",
              "[5 rows x 8 columns]"
            ]
          },
          "metadata": {},
          "execution_count": 69
        }
      ]
    },
    {
      "cell_type": "code",
      "metadata": {
        "colab": {
          "base_uri": "https://localhost:8080/"
        },
        "id": "fe3uHUzWa1ql",
        "outputId": "c1ac9fb2-4bf6-4525-9a0f-b55f545a6423"
      },
      "source": [
        "print ('Total cost for electricity = {0}$'.format(merged['cost'].sum()))\n",
        "print ('Total cost for light bulbs = {0}$'.format(merged['cost_per_bulb'].sum()))\n",
        "print ('Total percentage used by bulbs = {0}%'.format(merged['cost_per_bulb'].sum() / merged['cost'].sum()))"
      ],
      "execution_count": 76,
      "outputs": [
        {
          "output_type": "stream",
          "name": "stdout",
          "text": [
            "Total cost for electricity = 55.47$\n",
            "Total cost for light bulbs = 14.944028687316058$\n",
            "Total percentage used by bulbs = 0.26940740377350025%\n"
          ]
        }
      ]
    },
    {
      "cell_type": "code",
      "metadata": {
        "id": "y9FPJJc0cYjh"
      },
      "source": [
        ""
      ],
      "execution_count": null,
      "outputs": []
    }
  ]
}