{
  "nbformat": 4,
  "nbformat_minor": 0,
  "metadata": {
    "colab": {
      "name": "JoinPGEAndBulbData.ipynb",
      "provenance": [],
      "collapsed_sections": [],
      "authorship_tag": "ABX9TyOBhMxmivB15+IROAMh9p7Z",
      "include_colab_link": true
    },
    "kernelspec": {
      "name": "python3",
      "display_name": "Python 3"
    },
    "language_info": {
      "name": "python"
    }
  },
  "cells": [
    {
      "cell_type": "markdown",
      "metadata": {
        "id": "view-in-github",
        "colab_type": "text"
      },
      "source": [
        "<a href=\"https://colab.research.google.com/github/smannan/LIFXBulbAnalysis/blob/main/JoinPGEAndBulbData.ipynb\" target=\"_parent\"><img src=\"https://colab.research.google.com/assets/colab-badge.svg\" alt=\"Open In Colab\"/></a>"
      ]
    },
    {
      "cell_type": "code",
      "metadata": {
        "id": "LnlFnlu-lsr9"
      },
      "source": [
        "import pandas as pd"
      ],
      "execution_count": 48,
      "outputs": []
    },
    {
      "cell_type": "code",
      "metadata": {
        "colab": {
          "base_uri": "https://localhost:8080/"
        },
        "id": "-T99WLrjl8Oi",
        "outputId": "38501885-e81d-43ad-dcd8-0046dbeb1543"
      },
      "source": [
        "from google.colab import drive\n",
        "drive.mount('/content/drive')"
      ],
      "execution_count": 49,
      "outputs": [
        {
          "output_type": "stream",
          "name": "stdout",
          "text": [
            "Drive already mounted at /content/drive; to attempt to forcibly remount, call drive.mount(\"/content/drive\", force_remount=True).\n"
          ]
        }
      ]
    },
    {
      "cell_type": "code",
      "metadata": {
        "id": "Rsi_MxTmRgJ-"
      },
      "source": [
        "def drop_seconds_from_timestamp(df):\n",
        "  df['timestamp'] = pd.to_datetime(df['timestamp'])\n",
        "  df['timestamp'] = df['timestamp'].dt.strftime('%Y-%m-%d %H:%M')\n",
        "  df['timestamp'] = pd.to_datetime(df['timestamp'])"
      ],
      "execution_count": 50,
      "outputs": []
    },
    {
      "cell_type": "code",
      "metadata": {
        "id": "7SOjoBGnSyqU"
      },
      "source": [
        "def agg_pge_hourly(df):\n",
        "  df['timestamp'] = pd.to_datetime(df['timestamp'])\n",
        "  df['timestamp'] = df['timestamp'].dt.strftime('%Y-%m-%d %H')\n",
        "  df['timestamp'] = pd.to_datetime(df['timestamp'])\n",
        "\n",
        "  df = df.groupby(['timestamp']).agg({\n",
        "    'cost': 'sum',\n",
        "    'usage': 'sum'\n",
        "  })\n",
        "\n",
        "  return df.reset_index()"
      ],
      "execution_count": 51,
      "outputs": []
    },
    {
      "cell_type": "code",
      "metadata": {
        "id": "ZSf87QOEmBFw"
      },
      "source": [
        "bulb_file = '/content/drive/Shared drives/CMPE295B/FinalBulbData/2021-08-26_13_2021-09-25_00_hourly.csv'\n",
        "bulb_data = pd.read_csv(bulb_file, infer_datetime_format = True).drop(['Unnamed: 0'], axis=1, inplace=False)\n",
        "bulb_data['timestamp'] = pd.to_datetime(bulb_data['timestamp'])"
      ],
      "execution_count": 52,
      "outputs": []
    },
    {
      "cell_type": "code",
      "metadata": {
        "id": "uei9XlV5mJse"
      },
      "source": [
        "pge_file = '/content/drive/Shared drives/CMPE295B/ProcessedPGEData/pge_data_from_influx_2021-08-26-00_15_2021-09-21-00_00.csv'\n",
        "pge_data = pd.read_csv(pge_file, infer_datetime_format = True).drop(['Unnamed: 0'], axis=1, inplace=False)\n",
        "pge_hourly = agg_pge_hourly(pge_data)"
      ],
      "execution_count": 53,
      "outputs": []
    },
    {
      "cell_type": "code",
      "metadata": {
        "colab": {
          "base_uri": "https://localhost:8080/",
          "height": 221
        },
        "id": "d4g8CDocTM65",
        "outputId": "f1d6d204-c828-4f84-82c2-881888c3bb3c"
      },
      "source": [
        "print (len(pge_hourly))\n",
        "pge_hourly.head()"
      ],
      "execution_count": 54,
      "outputs": [
        {
          "output_type": "stream",
          "name": "stdout",
          "text": [
            "625\n"
          ]
        },
        {
          "output_type": "execute_result",
          "data": {
            "text/html": [
              "<div>\n",
              "<style scoped>\n",
              "    .dataframe tbody tr th:only-of-type {\n",
              "        vertical-align: middle;\n",
              "    }\n",
              "\n",
              "    .dataframe tbody tr th {\n",
              "        vertical-align: top;\n",
              "    }\n",
              "\n",
              "    .dataframe thead th {\n",
              "        text-align: right;\n",
              "    }\n",
              "</style>\n",
              "<table border=\"1\" class=\"dataframe\">\n",
              "  <thead>\n",
              "    <tr style=\"text-align: right;\">\n",
              "      <th></th>\n",
              "      <th>timestamp</th>\n",
              "      <th>cost</th>\n",
              "      <th>usage</th>\n",
              "    </tr>\n",
              "  </thead>\n",
              "  <tbody>\n",
              "    <tr>\n",
              "      <th>0</th>\n",
              "      <td>2021-08-26 00:00:00</td>\n",
              "      <td>0.06</td>\n",
              "      <td>0.24</td>\n",
              "    </tr>\n",
              "    <tr>\n",
              "      <th>1</th>\n",
              "      <td>2021-08-26 01:00:00</td>\n",
              "      <td>0.08</td>\n",
              "      <td>0.29</td>\n",
              "    </tr>\n",
              "    <tr>\n",
              "      <th>2</th>\n",
              "      <td>2021-08-26 02:00:00</td>\n",
              "      <td>0.08</td>\n",
              "      <td>0.28</td>\n",
              "    </tr>\n",
              "    <tr>\n",
              "      <th>3</th>\n",
              "      <td>2021-08-26 03:00:00</td>\n",
              "      <td>0.08</td>\n",
              "      <td>0.28</td>\n",
              "    </tr>\n",
              "    <tr>\n",
              "      <th>4</th>\n",
              "      <td>2021-08-26 04:00:00</td>\n",
              "      <td>0.08</td>\n",
              "      <td>0.28</td>\n",
              "    </tr>\n",
              "  </tbody>\n",
              "</table>\n",
              "</div>"
            ],
            "text/plain": [
              "            timestamp  cost  usage\n",
              "0 2021-08-26 00:00:00  0.06   0.24\n",
              "1 2021-08-26 01:00:00  0.08   0.29\n",
              "2 2021-08-26 02:00:00  0.08   0.28\n",
              "3 2021-08-26 03:00:00  0.08   0.28\n",
              "4 2021-08-26 04:00:00  0.08   0.28"
            ]
          },
          "metadata": {},
          "execution_count": 54
        }
      ]
    },
    {
      "cell_type": "code",
      "metadata": {
        "colab": {
          "base_uri": "https://localhost:8080/",
          "height": 221
        },
        "id": "Y242c3Snmilr",
        "outputId": "3d14910f-cbdc-4219-f587-b055e0af3089"
      },
      "source": [
        "print (len(bulb_data))\n",
        "bulb_data.head()"
      ],
      "execution_count": 55,
      "outputs": [
        {
          "output_type": "stream",
          "name": "stdout",
          "text": [
            "708\n"
          ]
        },
        {
          "output_type": "execute_result",
          "data": {
            "text/html": [
              "<div>\n",
              "<style scoped>\n",
              "    .dataframe tbody tr th:only-of-type {\n",
              "        vertical-align: middle;\n",
              "    }\n",
              "\n",
              "    .dataframe tbody tr th {\n",
              "        vertical-align: top;\n",
              "    }\n",
              "\n",
              "    .dataframe thead th {\n",
              "        text-align: right;\n",
              "    }\n",
              "</style>\n",
              "<table border=\"1\" class=\"dataframe\">\n",
              "  <thead>\n",
              "    <tr style=\"text-align: right;\">\n",
              "      <th></th>\n",
              "      <th>timestamp</th>\n",
              "      <th>brightness</th>\n",
              "      <th>kelvin</th>\n",
              "      <th>kWH</th>\n",
              "    </tr>\n",
              "  </thead>\n",
              "  <tbody>\n",
              "    <tr>\n",
              "      <th>0</th>\n",
              "      <td>2021-08-26 13:00:00</td>\n",
              "      <td>1.0</td>\n",
              "      <td>2700.0</td>\n",
              "      <td>0.119</td>\n",
              "    </tr>\n",
              "    <tr>\n",
              "      <th>1</th>\n",
              "      <td>2021-08-26 14:00:00</td>\n",
              "      <td>1.0</td>\n",
              "      <td>2700.0</td>\n",
              "      <td>0.510</td>\n",
              "    </tr>\n",
              "    <tr>\n",
              "      <th>2</th>\n",
              "      <td>2021-08-26 15:00:00</td>\n",
              "      <td>1.0</td>\n",
              "      <td>2700.0</td>\n",
              "      <td>0.510</td>\n",
              "    </tr>\n",
              "    <tr>\n",
              "      <th>3</th>\n",
              "      <td>2021-08-26 16:00:00</td>\n",
              "      <td>1.0</td>\n",
              "      <td>2700.0</td>\n",
              "      <td>0.510</td>\n",
              "    </tr>\n",
              "    <tr>\n",
              "      <th>4</th>\n",
              "      <td>2021-08-26 17:00:00</td>\n",
              "      <td>1.0</td>\n",
              "      <td>2700.0</td>\n",
              "      <td>0.510</td>\n",
              "    </tr>\n",
              "  </tbody>\n",
              "</table>\n",
              "</div>"
            ],
            "text/plain": [
              "            timestamp  brightness  kelvin    kWH\n",
              "0 2021-08-26 13:00:00         1.0  2700.0  0.119\n",
              "1 2021-08-26 14:00:00         1.0  2700.0  0.510\n",
              "2 2021-08-26 15:00:00         1.0  2700.0  0.510\n",
              "3 2021-08-26 16:00:00         1.0  2700.0  0.510\n",
              "4 2021-08-26 17:00:00         1.0  2700.0  0.510"
            ]
          },
          "metadata": {},
          "execution_count": 55
        }
      ]
    },
    {
      "cell_type": "code",
      "metadata": {
        "id": "ie-8a_yMmlxs"
      },
      "source": [
        "merged = pd.merge_asof(bulb_data, pge_hourly, on='timestamp')"
      ],
      "execution_count": 56,
      "outputs": []
    },
    {
      "cell_type": "code",
      "metadata": {
        "colab": {
          "base_uri": "https://localhost:8080/",
          "height": 221
        },
        "id": "-E7ZV4tdQzcs",
        "outputId": "edc25625-28e9-432d-8639-a8b2a929273e"
      },
      "source": [
        "print (len(merged))\n",
        "merged.head()"
      ],
      "execution_count": 57,
      "outputs": [
        {
          "output_type": "stream",
          "name": "stdout",
          "text": [
            "708\n"
          ]
        },
        {
          "output_type": "execute_result",
          "data": {
            "text/html": [
              "<div>\n",
              "<style scoped>\n",
              "    .dataframe tbody tr th:only-of-type {\n",
              "        vertical-align: middle;\n",
              "    }\n",
              "\n",
              "    .dataframe tbody tr th {\n",
              "        vertical-align: top;\n",
              "    }\n",
              "\n",
              "    .dataframe thead th {\n",
              "        text-align: right;\n",
              "    }\n",
              "</style>\n",
              "<table border=\"1\" class=\"dataframe\">\n",
              "  <thead>\n",
              "    <tr style=\"text-align: right;\">\n",
              "      <th></th>\n",
              "      <th>timestamp</th>\n",
              "      <th>brightness</th>\n",
              "      <th>kelvin</th>\n",
              "      <th>kWH</th>\n",
              "      <th>cost</th>\n",
              "      <th>usage</th>\n",
              "    </tr>\n",
              "  </thead>\n",
              "  <tbody>\n",
              "    <tr>\n",
              "      <th>0</th>\n",
              "      <td>2021-08-26 13:00:00</td>\n",
              "      <td>1.0</td>\n",
              "      <td>2700.0</td>\n",
              "      <td>0.119</td>\n",
              "      <td>0.09</td>\n",
              "      <td>0.35</td>\n",
              "    </tr>\n",
              "    <tr>\n",
              "      <th>1</th>\n",
              "      <td>2021-08-26 14:00:00</td>\n",
              "      <td>1.0</td>\n",
              "      <td>2700.0</td>\n",
              "      <td>0.510</td>\n",
              "      <td>0.11</td>\n",
              "      <td>0.38</td>\n",
              "    </tr>\n",
              "    <tr>\n",
              "      <th>2</th>\n",
              "      <td>2021-08-26 15:00:00</td>\n",
              "      <td>1.0</td>\n",
              "      <td>2700.0</td>\n",
              "      <td>0.510</td>\n",
              "      <td>0.09</td>\n",
              "      <td>0.34</td>\n",
              "    </tr>\n",
              "    <tr>\n",
              "      <th>3</th>\n",
              "      <td>2021-08-26 16:00:00</td>\n",
              "      <td>1.0</td>\n",
              "      <td>2700.0</td>\n",
              "      <td>0.510</td>\n",
              "      <td>0.08</td>\n",
              "      <td>0.29</td>\n",
              "    </tr>\n",
              "    <tr>\n",
              "      <th>4</th>\n",
              "      <td>2021-08-26 17:00:00</td>\n",
              "      <td>1.0</td>\n",
              "      <td>2700.0</td>\n",
              "      <td>0.510</td>\n",
              "      <td>0.11</td>\n",
              "      <td>0.40</td>\n",
              "    </tr>\n",
              "  </tbody>\n",
              "</table>\n",
              "</div>"
            ],
            "text/plain": [
              "            timestamp  brightness  kelvin    kWH  cost  usage\n",
              "0 2021-08-26 13:00:00         1.0  2700.0  0.119  0.09   0.35\n",
              "1 2021-08-26 14:00:00         1.0  2700.0  0.510  0.11   0.38\n",
              "2 2021-08-26 15:00:00         1.0  2700.0  0.510  0.09   0.34\n",
              "3 2021-08-26 16:00:00         1.0  2700.0  0.510  0.08   0.29\n",
              "4 2021-08-26 17:00:00         1.0  2700.0  0.510  0.11   0.40"
            ]
          },
          "metadata": {},
          "execution_count": 57
        }
      ]
    },
    {
      "cell_type": "code",
      "metadata": {
        "colab": {
          "base_uri": "https://localhost:8080/"
        },
        "id": "INYAFtuSQ-_q",
        "outputId": "769fd361-4dc6-4492-8447-a7f2167a69ce"
      },
      "source": [
        "merged.info()"
      ],
      "execution_count": 59,
      "outputs": [
        {
          "output_type": "stream",
          "name": "stdout",
          "text": [
            "<class 'pandas.core.frame.DataFrame'>\n",
            "Int64Index: 708 entries, 0 to 707\n",
            "Data columns (total 6 columns):\n",
            " #   Column      Non-Null Count  Dtype         \n",
            "---  ------      --------------  -----         \n",
            " 0   timestamp   708 non-null    datetime64[ns]\n",
            " 1   brightness  708 non-null    float64       \n",
            " 2   kelvin      708 non-null    float64       \n",
            " 3   kWH         708 non-null    float64       \n",
            " 4   cost        708 non-null    float64       \n",
            " 5   usage       708 non-null    float64       \n",
            "dtypes: datetime64[ns](1), float64(5)\n",
            "memory usage: 38.7 KB\n"
          ]
        }
      ]
    },
    {
      "cell_type": "code",
      "metadata": {
        "id": "_oPxar1gR1j2"
      },
      "source": [
        ""
      ],
      "execution_count": null,
      "outputs": []
    }
  ]
}